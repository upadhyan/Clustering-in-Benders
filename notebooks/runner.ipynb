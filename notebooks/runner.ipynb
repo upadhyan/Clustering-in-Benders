{
 "cells": [
  {
   "cell_type": "code",
   "execution_count": 1,
   "metadata": {
    "collapsed": true
   },
   "outputs": [],
   "source": [
    "import os\n",
    "\n",
    "import pandas as pd\n",
    "\n",
    "if os.name == 'nt':\n",
    "    os.environ[\"OMP_NUM_THREADS\"] = '2'\n",
    "import warnings\n",
    "warnings.filterwarnings('ignore')\n",
    "import sys\n",
    "sys.path.append('../')\n",
    "from utiliT.io import read_pickle, dump_pickle\n",
    "from scripts.instance import *\n",
    "from scripts.benders import *\n",
    "import gc\n",
    "from tqdm.notebook import tqdm"
   ]
  },
  {
   "cell_type": "code",
   "execution_count": 2,
   "outputs": [],
   "source": [
    "test_file = 'multipeak_100_150_400.pkl'\n",
    "instance = read_pickle(f\"../data/{test_file}\")"
   ],
   "metadata": {
    "collapsed": false
   }
  },
  {
   "cell_type": "code",
   "execution_count": null,
   "outputs": [
    {
     "name": "stdout",
     "output_type": "stream",
     "text": [
      "Set parameter Username\n",
      "Academic license - for non-commercial use only - expires 2023-11-20\n"
     ]
    }
   ],
   "source": [
    "MC_cut = dropout_cut(instance, \"kmeans\")\n",
    "gc.collect()\n",
    "MC_cut"
   ],
   "metadata": {
    "collapsed": false,
    "pycharm": {
     "is_executing": true
    }
   }
  },
  {
   "cell_type": "code",
   "execution_count": null,
   "outputs": [],
   "source": [
    "MC_cut = dropout_cut(instance, \"hierarchical\")\n",
    "gc.collect()\n",
    "MC_cut"
   ],
   "metadata": {
    "collapsed": false,
    "pycharm": {
     "is_executing": true
    }
   }
  },
  {
   "cell_type": "code",
   "execution_count": null,
   "outputs": [],
   "source": [
    "MC_cut = dropout_cut(instance, \"spectral\")\n",
    "gc.collect()\n",
    "MC_cut"
   ],
   "metadata": {
    "collapsed": false,
    "pycharm": {
     "is_executing": true
    }
   }
  },
  {
   "cell_type": "code",
   "execution_count": null,
   "outputs": [],
   "source": [
    "MC_cut = dropout_cut(instance, \"affinity\")\n",
    "gc.collect()\n",
    "MC_cut"
   ],
   "metadata": {
    "collapsed": false,
    "pycharm": {
     "is_executing": true
    }
   }
  },
  {
   "cell_type": "code",
   "execution_count": null,
   "outputs": [],
   "source": [
    "MC_cut = multi_cut(instance)\n",
    "gc.collect()\n",
    "MC_cut"
   ],
   "metadata": {
    "collapsed": false,
    "pycharm": {
     "is_executing": true
    }
   }
  },
  {
   "cell_type": "code",
   "execution_count": null,
   "outputs": [],
   "source": [
    "MC_cut = single_cut(instance)\n",
    "gc.collect()\n",
    "MC_cut"
   ],
   "metadata": {
    "collapsed": false,
    "pycharm": {
     "is_executing": true
    }
   }
  },
  {
   "cell_type": "code",
   "execution_count": null,
   "outputs": [],
   "source": [
    "MC_cut = hybrid(instance, \"kmeans\")\n",
    "gc.collect()\n",
    "MC_cut"
   ],
   "metadata": {
    "collapsed": false,
    "pycharm": {
     "is_executing": true
    }
   }
  },
  {
   "cell_type": "code",
   "execution_count": null,
   "outputs": [],
   "source": [
    "MC_cut = hybrid(instance, \"affinity\")\n",
    "gc.collect()\n",
    "MC_cut"
   ],
   "metadata": {
    "collapsed": false,
    "pycharm": {
     "is_executing": true
    }
   }
  },
  {
   "cell_type": "code",
   "execution_count": null,
   "outputs": [],
   "source": [
    "MC_cut = hybrid(instance, \"hierarchical\")\n",
    "gc.collect()\n",
    "MC_cut"
   ],
   "metadata": {
    "collapsed": false,
    "pycharm": {
     "is_executing": true
    }
   }
  },
  {
   "cell_type": "code",
   "execution_count": null,
   "outputs": [],
   "source": [
    "MC_cut = hybrid(instance, \"spectral\")\n",
    "gc.collect()\n",
    "MC_cut"
   ],
   "metadata": {
    "collapsed": false,
    "pycharm": {
     "is_executing": true
    }
   }
  },
  {
   "cell_type": "code",
   "execution_count": null,
   "outputs": [],
   "source": [
    "del MC_cut\n",
    "gc.collect()"
   ],
   "metadata": {
    "collapsed": false,
    "pycharm": {
     "is_executing": true
    }
   }
  },
  {
   "cell_type": "code",
   "execution_count": 12,
   "outputs": [
    {
     "data": {
      "text/plain": "  0%|          | 0/192 [00:00<?, ?it/s]",
      "application/vnd.jupyter.widget-view+json": {
       "version_major": 2,
       "version_minor": 0,
       "model_id": "0c4c309245014c6e845b52cfeefb6cec"
      }
     },
     "metadata": {},
     "output_type": "display_data"
    }
   ],
   "source": [
    "bad_instances = []\n",
    "files = os.listdir(\"../data\")\n",
    "for file in tqdm(files):\n",
    "    instance_name = file[:-4]\n",
    "    instance = read_pickle(f\"../data/{file}\")\n",
    "    try:\n",
    "        result = dropout_cut(instance, \"kmeans\")\n",
    "        result['instance_name'] = instance_name\n",
    "        file_name = f\"../results/{result['instance_name']}_{result['method']}.pkl\"\n",
    "        dump_pickle(result, file_name)\n",
    "    except:\n",
    "        bad_instances.append(file)\n",
    "if len(bad_instances) > 0:\n",
    "    dump_pickle(bad_instances, \"../results/kmeans_dropout_bad.pkl\")"
   ],
   "metadata": {
    "collapsed": false
   }
  },
  {
   "cell_type": "code",
   "execution_count": 13,
   "outputs": [
    {
     "data": {
      "text/plain": "  0%|          | 0/192 [00:00<?, ?it/s]",
      "application/vnd.jupyter.widget-view+json": {
       "version_major": 2,
       "version_minor": 0,
       "model_id": "67b785a169bf474daeba28cf837f9534"
      }
     },
     "metadata": {},
     "output_type": "display_data"
    }
   ],
   "source": [
    "bad_instances = []\n",
    "files = os.listdir(\"../data\")\n",
    "for file in tqdm(files):\n",
    "    instance_name = file[:-4]\n",
    "    instance = read_pickle(f\"../data/{file}\")\n",
    "    try:\n",
    "        result = dropout_cut(instance, \"affinity\")\n",
    "        result['instance_name'] = instance_name\n",
    "        file_name = f\"../results/{result['instance_name']}_{result['method']}.pkl\"\n",
    "        dump_pickle(result, file_name)\n",
    "    except:\n",
    "        bad_instances.append(file)\n",
    "if len(bad_instances) > 0:\n",
    "    dump_pickle(bad_instances, \"../results/affinity_dropout_bad.pkl\")"
   ],
   "metadata": {
    "collapsed": false
   }
  },
  {
   "cell_type": "code",
   "execution_count": 14,
   "outputs": [
    {
     "data": {
      "text/plain": "  0%|          | 0/192 [00:00<?, ?it/s]",
      "application/vnd.jupyter.widget-view+json": {
       "version_major": 2,
       "version_minor": 0,
       "model_id": "ff6bc31a51c24beb8f4956468e0e1da5"
      }
     },
     "metadata": {},
     "output_type": "display_data"
    }
   ],
   "source": [
    "bad_instances = []\n",
    "files = os.listdir(\"../data\")\n",
    "for file in tqdm(files):\n",
    "    instance_name = file[:-4]\n",
    "    instance = read_pickle(f\"../data/{file}\")\n",
    "    try:\n",
    "        result = dropout_cut(instance, \"hierarchical\")\n",
    "        result['instance_name'] = instance_name\n",
    "        file_name = f\"../results/{result['instance_name']}_{result['method']}.pkl\"\n",
    "        dump_pickle(result, file_name)\n",
    "    except:\n",
    "        bad_instances.append(file)\n",
    "if len(bad_instances) > 0:\n",
    "    dump_pickle(bad_instances, \"../results/hierarchical_dropout_bad.pkl\")\n",
    "del instance\n",
    "del bad_instances\n",
    "clear = gc.collect()"
   ],
   "metadata": {
    "collapsed": false
   }
  },
  {
   "cell_type": "code",
   "execution_count": 15,
   "outputs": [
    {
     "data": {
      "text/plain": "  0%|          | 0/192 [00:00<?, ?it/s]",
      "application/vnd.jupyter.widget-view+json": {
       "version_major": 2,
       "version_minor": 0,
       "model_id": "23d0f91358db4f6bb53bc3883f971ad8"
      }
     },
     "metadata": {},
     "output_type": "display_data"
    }
   ],
   "source": [
    "bad_instances = []\n",
    "files = os.listdir(\"../data\")\n",
    "for file in tqdm(files):\n",
    "    instance_name = file[:-4]\n",
    "    instance = read_pickle(f\"../data/{file}\")\n",
    "    try:\n",
    "        result = dropout_cut(instance, \"spectral\")\n",
    "        result['instance_name'] = instance_name\n",
    "        file_name = f\"../results/{result['instance_name']}_{result['method']}.pkl\"\n",
    "        dump_pickle(result, file_name)\n",
    "    except:\n",
    "        bad_instances.append(file)\n",
    "if len(bad_instances) > 0:\n",
    "    dump_pickle(bad_instances, \"../results/spectral_dropout_bad.pkl\")\n",
    "del instance\n",
    "del bad_instances\n",
    "clear = gc.collect()"
   ],
   "metadata": {
    "collapsed": false
   }
  },
  {
   "cell_type": "code",
   "execution_count": 16,
   "outputs": [
    {
     "data": {
      "text/plain": "  0%|          | 0/192 [00:00<?, ?it/s]",
      "application/vnd.jupyter.widget-view+json": {
       "version_major": 2,
       "version_minor": 0,
       "model_id": "da4a7ca13d12430c9c803fb949c8d482"
      }
     },
     "metadata": {},
     "output_type": "display_data"
    }
   ],
   "source": [
    "bad_instances = []\n",
    "files = os.listdir(\"../data\")\n",
    "for file in tqdm(files):\n",
    "    instance_name = file[:-4]\n",
    "    instance = read_pickle(f\"../data/{file}\")\n",
    "    try:\n",
    "        result = multi_cut(instance)\n",
    "        result['instance_name'] = instance_name\n",
    "        file_name = f\"../results/{result['instance_name']}_{result['method']}.pkl\"\n",
    "        dump_pickle(result, file_name)\n",
    "    except:\n",
    "        bad_instances.append(file)\n",
    "if len(bad_instances) > 0:\n",
    "    dump_pickle(bad_instances, \"../results/multi_bad.pkl\")\n",
    "del instance\n",
    "del bad_instances\n",
    "clear = gc.collect()"
   ],
   "metadata": {
    "collapsed": false
   }
  },
  {
   "cell_type": "code",
   "execution_count": null,
   "outputs": [
    {
     "data": {
      "text/plain": "  0%|          | 0/192 [00:00<?, ?it/s]",
      "application/vnd.jupyter.widget-view+json": {
       "version_major": 2,
       "version_minor": 0,
       "model_id": "334a7712ec3f44529c7a99712761b767"
      }
     },
     "metadata": {},
     "output_type": "display_data"
    }
   ],
   "source": [
    "bad_instances = []\n",
    "files = os.listdir(\"../data\")\n",
    "for file in tqdm(files):\n",
    "    instance_name = file[:-4]\n",
    "    instance = read_pickle(f\"../data/{file}\")\n",
    "    try:\n",
    "        result = single_cut(instance)\n",
    "        result['instance_name'] = instance_name\n",
    "        file_name = f\"../results/{result['instance_name']}_{result['method']}.pkl\"\n",
    "        dump_pickle(result, file_name)\n",
    "    except:\n",
    "        bad_instances.append(file)\n",
    "if len(bad_instances) > 0:\n",
    "    dump_pickle(bad_instances, \"../results/single_bad.pkl\")\n",
    "del instance\n",
    "del bad_instances\n",
    "clear = gc.collect()"
   ],
   "metadata": {
    "collapsed": false
   }
  },
  {
   "cell_type": "code",
   "execution_count": 6,
   "outputs": [
    {
     "data": {
      "text/plain": "  0%|          | 0/70 [00:00<?, ?it/s]",
      "application/vnd.jupyter.widget-view+json": {
       "version_major": 2,
       "version_minor": 0,
       "model_id": "e7db9784d1f743f78e845a33cf1ee6fd"
      }
     },
     "metadata": {},
     "output_type": "display_data"
    },
    {
     "name": "stdout",
     "output_type": "stream",
     "text": [
      "Set parameter Username\n",
      "Academic license - for non-commercial use only - expires 2023-11-20\n"
     ]
    }
   ],
   "source": [
    "run_instances = os.listdir(\"../results\")\n",
    "single_cut_results = [x for x in run_instances if \"single-cut\" in x]\n",
    "dicts = [read_pickle(f\"../results/{x}\") for x in single_cut_results]\n",
    "run_instances_names = [x['instance_name'] for x in dicts]\n",
    "all_files = [x[:-4] for x in os.listdir(\"../data\")]\n",
    "unrun_instances = [x for x in all_files if x not in run_instances_names]\n",
    "bad_instances = []\n",
    "files = os.listdir(\"../data\")\n",
    "for instance_name in tqdm(unrun_instances):\n",
    "    instance = read_pickle(f\"../data/{instance_name}.pkl\")\n",
    "    try:\n",
    "        result = single_cut(instance)\n",
    "        result['instance_name'] = instance_name\n",
    "        file_name = f\"../results/{result['instance_name']}_{result['method']}.pkl\"\n",
    "        dump_pickle(result, file_name)\n",
    "    except:\n",
    "        bad_instances.append(f\"{instance_name}.pkl\")\n",
    "if len(bad_instances) > 0:\n",
    "    dump_pickle(bad_instances, \"../results/single_bad.pkl\")\n",
    "del instance\n",
    "del bad_instances\n",
    "clear = gc.collect()"
   ],
   "metadata": {
    "collapsed": false
   }
  },
  {
   "cell_type": "markdown",
   "source": [],
   "metadata": {
    "collapsed": false
   }
  },
  {
   "cell_type": "code",
   "execution_count": 7,
   "outputs": [],
   "source": [
    "bad_instances = []\n",
    "files = os.listdir(\"../data\")\n",
    "for file in tqdm(files):\n",
    "    instance_name = file[:-4]\n",
    "    instance = read_pickle(f\"../data/{file}\")\n",
    "    try:\n",
    "        result = hybrid(instance, \"kmeans\")\n",
    "        result['instance_name'] = instance_name\n",
    "        file_name = f\"../results/{result['instance_name']}_{result['method']}.pkl\"\n",
    "        dump_pickle(result, file_name)\n",
    "    except:\n",
    "        bad_instances.append(file)\n",
    "if len(bad_instances) > 0:\n",
    "    dump_pickle(bad_instances, \"../results/kmeans_hybrid_bad.pkl\")"
   ],
   "metadata": {
    "collapsed": false
   }
  },
  {
   "cell_type": "code",
   "execution_count": null,
   "outputs": [],
   "source": [
    "bad_instances = []\n",
    "files = os.listdir(\"../data\")\n",
    "for file in tqdm(files):\n",
    "    instance_name = file[:-4]\n",
    "    instance = read_pickle(f\"../data/{file}\")\n",
    "    try:\n",
    "        result = hybrid(instance, \"affinity\")\n",
    "        result['instance_name'] = instance_name\n",
    "        file_name = f\"../results/{result['instance_name']}_{result['method']}.pkl\"\n",
    "        dump_pickle(result, file_name)\n",
    "    except:\n",
    "        bad_instances.append(file)\n",
    "if len(bad_instances) > 0:\n",
    "    dump_pickle(bad_instances, \"../results/affinity_hybrid_bad.pkl\")"
   ],
   "metadata": {
    "collapsed": false
   }
  },
  {
   "cell_type": "code",
   "execution_count": null,
   "outputs": [],
   "source": [
    "bad_instances = []\n",
    "files = os.listdir(\"../data\")\n",
    "for file in tqdm(files):\n",
    "    instance_name = file[:-4]\n",
    "    instance = read_pickle(f\"../data/{file}\")\n",
    "    try:\n",
    "        result = hybrid(instance, \"hierarchical\")\n",
    "        result['instance_name'] = instance_name\n",
    "        file_name = f\"../results/{result['instance_name']}_{result['method']}.pkl\"\n",
    "        dump_pickle(result, file_name)\n",
    "    except:\n",
    "        bad_instances.append(file)\n",
    "if len(bad_instances) > 0:\n",
    "    dump_pickle(bad_instances, \"../results/hierarchical_hybrid_bad.pkl\")"
   ],
   "metadata": {
    "collapsed": false
   }
  },
  {
   "cell_type": "code",
   "execution_count": null,
   "outputs": [],
   "source": [
    "bad_instances = []\n",
    "files = os.listdir(\"../data\")\n",
    "for file in tqdm(files):\n",
    "    instance_name = file[:-4]\n",
    "    instance = read_pickle(f\"../data/{file}\")\n",
    "    try:\n",
    "        result = hybrid(instance, \"spectral\")\n",
    "        result['instance_name'] = instance_name\n",
    "        file_name = f\"../results/{result['instance_name']}_{result['method']}.pkl\"\n",
    "        dump_pickle(result, file_name)\n",
    "    except:\n",
    "        bad_instances.append(file)\n",
    "if len(bad_instances) > 0:\n",
    "    dump_pickle(bad_instances, \"../results/spectral_hybrid_bad.pkl\")"
   ],
   "metadata": {
    "collapsed": false
   }
  },
  {
   "cell_type": "markdown",
   "source": [],
   "metadata": {
    "collapsed": false
   }
  }
 ],
 "metadata": {
  "kernelspec": {
   "display_name": "Python 3",
   "language": "python",
   "name": "python3"
  },
  "language_info": {
   "codemirror_mode": {
    "name": "ipython",
    "version": 2
   },
   "file_extension": ".py",
   "mimetype": "text/x-python",
   "name": "python",
   "nbconvert_exporter": "python",
   "pygments_lexer": "ipython2",
   "version": "2.7.6"
  }
 },
 "nbformat": 4,
 "nbformat_minor": 0
}
