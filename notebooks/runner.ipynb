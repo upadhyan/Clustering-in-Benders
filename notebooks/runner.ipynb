{
 "cells": [
  {
   "cell_type": "code",
   "execution_count": 1,
   "metadata": {
    "collapsed": true
   },
   "outputs": [],
   "source": [
    "import os\n",
    "if os.name == 'nt':\n",
    "    os.environ[\"OMP_NUM_THREADS\"] = '2'\n",
    "import warnings\n",
    "warnings.filterwarnings('ignore')\n",
    "import sys\n",
    "sys.path.append('../')\n",
    "from utiliT.io import read_pickle, dump_pickle\n",
    "from scripts.instance import *\n",
    "from scripts.benders import *\n",
    "import gc\n",
    "from tqdm.notebook import tqdm"
   ]
  },
  {
   "cell_type": "code",
   "execution_count": 2,
   "outputs": [],
   "source": [
    "test_file = 'multipeak_100_150_400.pkl'\n",
    "instance = read_pickle(f\"../data/{test_file}\")"
   ],
   "metadata": {
    "collapsed": false
   }
  },
  {
   "cell_type": "code",
   "execution_count": 3,
   "outputs": [
    {
     "name": "stdout",
     "output_type": "stream",
     "text": [
      "Set parameter Username\n",
      "Academic license - for non-commercial use only - expires 2023-11-20\n"
     ]
    },
    {
     "data": {
      "text/plain": "{'method': 'kmeans-ND-dropout',\n 'obj_val': 29339.596694233256,\n 'n_cuts': 246,\n 'n_iterations': 16,\n 'avg_mp_solve': 0.004403114318847656,\n 'avg_benders_loop_solve': 0.7492969781160355,\n 'status': 'optimal',\n 'primal_gap': 0,\n 'primal_gap_perc': 0,\n 'runtime': 17.048032522201538,\n 'n1': 100,\n 'n2': 150,\n 'm1': 200,\n 'm2': 300,\n 'k': 400,\n 'distribution': 'multipeak'}"
     },
     "execution_count": 3,
     "metadata": {},
     "output_type": "execute_result"
    }
   ],
   "source": [
    "MC_cut = dropout_cut(instance, \"kmeans\")\n",
    "gc.collect()\n",
    "MC_cut"
   ],
   "metadata": {
    "collapsed": false
   }
  },
  {
   "cell_type": "code",
   "execution_count": 4,
   "outputs": [
    {
     "data": {
      "text/plain": "{'method': 'hierarchical-ND-dropout',\n 'obj_val': 29307.09908368546,\n 'n_cuts': 237,\n 'n_iterations': 16,\n 'avg_mp_solve': 0.004444479942321777,\n 'avg_benders_loop_solve': 0.7335944920778275,\n 'status': 'optimal',\n 'primal_gap': 0,\n 'primal_gap_perc': 0,\n 'runtime': 13.866183996200562,\n 'n1': 100,\n 'n2': 150,\n 'm1': 200,\n 'm2': 300,\n 'k': 400,\n 'distribution': 'multipeak'}"
     },
     "execution_count": 4,
     "metadata": {},
     "output_type": "execute_result"
    }
   ],
   "source": [
    "MC_cut = dropout_cut(instance, \"hierarchical\")\n",
    "gc.collect()\n",
    "MC_cut"
   ],
   "metadata": {
    "collapsed": false
   }
  },
  {
   "cell_type": "code",
   "execution_count": 5,
   "outputs": [
    {
     "data": {
      "text/plain": "{'method': 'spectral-ND-dropout',\n 'obj_val': 29326.991038011136,\n 'n_cuts': 203,\n 'n_iterations': 13,\n 'avg_mp_solve': 0.004767491267277644,\n 'avg_benders_loop_solve': 0.7485595666445218,\n 'status': 'optimal',\n 'primal_gap': 0,\n 'primal_gap_perc': 0,\n 'runtime': 11.751529216766357,\n 'n1': 100,\n 'n2': 150,\n 'm1': 200,\n 'm2': 300,\n 'k': 400,\n 'distribution': 'multipeak'}"
     },
     "execution_count": 5,
     "metadata": {},
     "output_type": "execute_result"
    }
   ],
   "source": [
    "MC_cut = dropout_cut(instance, \"spectral\")\n",
    "gc.collect()\n",
    "MC_cut"
   ],
   "metadata": {
    "collapsed": false
   }
  },
  {
   "cell_type": "code",
   "execution_count": 6,
   "outputs": [
    {
     "data": {
      "text/plain": "{'method': 'affinity-ND-dropout',\n 'obj_val': 29358.030241620858,\n 'n_cuts': 390,\n 'n_iterations': 12,\n 'avg_mp_solve': 0.006994326909383138,\n 'avg_benders_loop_solve': 1.534258484840393,\n 'status': 'optimal',\n 'primal_gap': 0,\n 'primal_gap_perc': 0,\n 'runtime': 20.740079879760742,\n 'n1': 100,\n 'n2': 150,\n 'm1': 200,\n 'm2': 300,\n 'k': 400,\n 'distribution': 'multipeak'}"
     },
     "execution_count": 6,
     "metadata": {},
     "output_type": "execute_result"
    }
   ],
   "source": [
    "MC_cut = dropout_cut(instance, \"affinity\")\n",
    "gc.collect()\n",
    "MC_cut"
   ],
   "metadata": {
    "collapsed": false
   }
  },
  {
   "cell_type": "code",
   "execution_count": 7,
   "outputs": [
    {
     "data": {
      "text/plain": "{'method': 'multi-cut',\n 'obj_val': 29390.251786471617,\n 'n_cuts': 2762,\n 'n_iterations': 9,\n 'avg_mp_solve': 0.07767849498324925,\n 'avg_benders_loop_solve': 15.444093916151258,\n 'status': 'optimal',\n 'primal_gap': 0,\n 'primal_gap_perc': 0,\n 'runtime': 140.25501990318298,\n 'n1': 100,\n 'n2': 150,\n 'm1': 200,\n 'm2': 300,\n 'k': 400,\n 'distribution': 'multipeak'}"
     },
     "execution_count": 7,
     "metadata": {},
     "output_type": "execute_result"
    }
   ],
   "source": [
    "MC_cut = multi_cut(instance)\n",
    "gc.collect()\n",
    "MC_cut"
   ],
   "metadata": {
    "collapsed": false
   }
  },
  {
   "cell_type": "code",
   "execution_count": 8,
   "outputs": [
    {
     "data": {
      "text/plain": "{'method': 'single-cut',\n 'obj_val': 29390.157893106712,\n 'n_cuts': 62,\n 'n_iterations': 62,\n 'avg_mp_solve': 0.001829201175320533,\n 'avg_benders_loop_solve': 4.804071745564861,\n 'status': 'timelimit',\n 'primal_gap': 0.11616695873817662,\n 'primal_gap_perc': 3.952557153332683e-06,\n 'runtime': 300.9297933578491,\n 'n1': 100,\n 'n2': 150,\n 'm1': 200,\n 'm2': 300,\n 'k': 400,\n 'distribution': 'multipeak'}"
     },
     "execution_count": 8,
     "metadata": {},
     "output_type": "execute_result"
    }
   ],
   "source": [
    "MC_cut = single_cut(instance)\n",
    "gc.collect()\n",
    "MC_cut"
   ],
   "metadata": {
    "collapsed": false
   }
  },
  {
   "cell_type": "code",
   "execution_count": 9,
   "outputs": [
    {
     "data": {
      "text/plain": "0"
     },
     "execution_count": 9,
     "metadata": {},
     "output_type": "execute_result"
    }
   ],
   "source": [
    "del MC_cut\n",
    "gc.collect()"
   ],
   "metadata": {
    "collapsed": false
   }
  },
  {
   "cell_type": "code",
   "execution_count": null,
   "outputs": [],
   "source": [
    "files = os.listdir(\"../data\")\n",
    "for file in tqdm(files):\n",
    "    instance_name = file[:-4]\n",
    "    instance = read_pickle(f\"../data/{file}\")\n",
    "    result = dropout_cut(instance, \"kmeans\")\n",
    "    result['instance_name'] = instance_name\n",
    "    file_name = f\"../results/{result['instance_name']}_{result['method']}.pkl\"\n",
    "    dump_pickle(result, file_name)"
   ],
   "metadata": {
    "collapsed": false
   }
  },
  {
   "cell_type": "code",
   "execution_count": null,
   "outputs": [],
   "source": [
    "files = os.listdir(\"../data\")\n",
    "for file in tqdm(files):\n",
    "    instance_name = file[:-4]\n",
    "    instance = read_pickle(f\"../data/{file}\")\n",
    "    result = dropout_cut(instance, \"affinity\")\n",
    "    result['instance_name'] = instance_name\n",
    "    file_name = f\"../results/{result['instance_name']}_{result['method']}.pkl\"\n",
    "    dump_pickle(result, file_name)"
   ],
   "metadata": {
    "collapsed": false
   }
  },
  {
   "cell_type": "code",
   "execution_count": null,
   "outputs": [],
   "source": [
    "files = os.listdir(\"../data\")\n",
    "for file in tqdm(files):\n",
    "    instance_name = file[:-4]\n",
    "    instance = read_pickle(f\"../data/{file}\")\n",
    "    result = dropout_cut(instance, \"hierarchical\")\n",
    "    result['instance_name'] = instance_name\n",
    "    file_name = f\"../results/{result['instance_name']}_{result['method']}.pkl\"\n",
    "    dump_pickle(result, file_name)"
   ],
   "metadata": {
    "collapsed": false
   }
  },
  {
   "cell_type": "code",
   "execution_count": null,
   "outputs": [],
   "source": [
    "files = os.listdir(\"../data\")\n",
    "for file in tqdm(files):\n",
    "    instance_name = file[:-4]\n",
    "    instance = read_pickle(f\"../data/{file}\")\n",
    "    result = dropout_cut(instance, \"spectral\")\n",
    "    result['instance_name'] = instance_name\n",
    "    file_name = f\"../results/{result['instance_name']}_{result['method']}.pkl\"\n",
    "    dump_pickle(result, file_name)"
   ],
   "metadata": {
    "collapsed": false
   }
  },
  {
   "cell_type": "code",
   "execution_count": null,
   "outputs": [],
   "source": [
    "files = os.listdir(\"../data\")\n",
    "for file in tqdm(files):\n",
    "    instance_name = file[:-4]\n",
    "    instance = read_pickle(f\"../data/{file}\")\n",
    "    result = multi_cut(instance)\n",
    "    result['instance_name'] = instance_name\n",
    "    file_name = f\"../results/{result['instance_name']}_{result['method']}.pkl\"\n",
    "    dump_pickle(result, file_name)"
   ],
   "metadata": {
    "collapsed": false
   }
  },
  {
   "cell_type": "code",
   "execution_count": null,
   "outputs": [],
   "source": [
    "files = os.listdir(\"../data\")\n",
    "for file in tqdm(files):\n",
    "    instance_name = file[:-4]\n",
    "    instance = read_pickle(f\"../data/{file}\")\n",
    "    result = single_cut(instance)\n",
    "    result['instance_name'] = instance_name\n",
    "    file_name = f\"../results/{result['instance_name']}_{result['method']}.pkl\"\n",
    "    dump_pickle(result, file_name)"
   ],
   "metadata": {
    "collapsed": false
   }
  },
  {
   "cell_type": "markdown",
   "source": [],
   "metadata": {
    "collapsed": false
   }
  }
 ],
 "metadata": {
  "kernelspec": {
   "display_name": "Python 3",
   "language": "python",
   "name": "python3"
  },
  "language_info": {
   "codemirror_mode": {
    "name": "ipython",
    "version": 2
   },
   "file_extension": ".py",
   "mimetype": "text/x-python",
   "name": "python",
   "nbconvert_exporter": "python",
   "pygments_lexer": "ipython2",
   "version": "2.7.6"
  }
 },
 "nbformat": 4,
 "nbformat_minor": 0
}
