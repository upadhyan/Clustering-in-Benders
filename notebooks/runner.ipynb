{
 "cells": [
  {
   "cell_type": "code",
   "execution_count": 1,
   "metadata": {
    "collapsed": true
   },
   "outputs": [],
   "source": [
    "import os\n",
    "import pandas as pd\n",
    "\n",
    "if os.name == 'nt':\n",
    "    os.environ[\"OMP_NUM_THREADS\"] = '2'\n",
    "import warnings\n",
    "\n",
    "warnings.filterwarnings('ignore')\n",
    "import sys\n",
    "\n",
    "sys.path.append('../')\n",
    "from utiliT.io import read_pickle, dump_pickle\n",
    "from scripts.instance import *\n",
    "from scripts.benders import *\n",
    "import gc\n",
    "from tqdm.notebook import tqdm, trange"
   ]
  },
  {
   "cell_type": "code",
   "execution_count": null,
   "outputs": [],
   "source": [
    "file = \"multipeak_200_200_400.pkl\"\n",
    "file_name = f\"../data/{file}\"\n",
    "instance = read_pickle(file_name)\n",
    "results = multi_cut(instance)\n",
    "results['instance_name'] = file[:-4]\n",
    "f\"../results/run_results/{results['instance_name']}_{results['cut_method']}_{results['grouping_method']}_\" \\\n",
    "f\"{results['dr']}_{1}.pkl\""
   ],
   "metadata": {
    "collapsed": false
   }
  },
  {
   "cell_type": "code",
   "execution_count": null,
   "outputs": [],
   "source": [
    "file = \"multipeak_100_100_100.pkl\"\n",
    "file_name = f\"../data/{file}\"\n",
    "instance = read_pickle(file_name)\n",
    "results = single_cut(instance)\n",
    "results['instance_name'] = file[:-4]\n",
    "f\"../results/run_results/{results['instance_name']}_{results['cut_method']}_{results['grouping_method']}_\" \\\n",
    "f\"{results['dr']}_{1}.pkl\""
   ],
   "metadata": {
    "collapsed": false
   }
  },
  {
   "cell_type": "code",
   "execution_count": null,
   "outputs": [],
   "source": [
    "file = \"multipeak_200_200_400.pkl\"\n",
    "file_name = f\"../data/{file}\"\n",
    "instance = read_pickle(file_name)\n",
    "results = dropout_cut(instance, \"affinity\")\n",
    "results['instance_name'] = file[:-4]\n",
    "f\"../results/run_results/{results['instance_name']}_{results['cut_method']}_{results['grouping_method']}_\" \\\n",
    "f\"{results['dr']}_{1}.pkl\""
   ],
   "metadata": {
    "collapsed": false
   }
  },
  {
   "cell_type": "code",
   "execution_count": null,
   "outputs": [],
   "source": [
    "file = \"multipeak_200_200_400.pkl\"\n",
    "file_name = f\"../data/{file}\"\n",
    "instance = read_pickle(file_name)\n",
    "results = hybrid(instance, \"affinity\")\n",
    "results['instance_name'] = file[:-4]\n",
    "f\"../results/run_results/{results['instance_name']}_{results['cut_method']}_{results['grouping_method']}_\" \\\n",
    "f\"{results['dr']}_{1}.pkl\""
   ],
   "metadata": {
    "collapsed": false
   }
  },
  {
   "cell_type": "code",
   "execution_count": 2,
   "outputs": [],
   "source": [
    "def runner(function, files=None, n_seeds=3):\n",
    "    bad_instances = []\n",
    "    if files is None:\n",
    "        files = os.listdir(\"../data\")\n",
    "    for file in tqdm(files):\n",
    "        for seed in range(n_seeds):\n",
    "            instance_name = file[:-4]\n",
    "            instance = read_pickle(f\"../data/{file}\")\n",
    "            try:\n",
    "                result = function(instance)\n",
    "                result['instance_name'] = instance_name\n",
    "                result['run_number'] = seed\n",
    "                file_name = f\"../results/run_results/{result['instance_name']}_{result['cut_method']}_{result['grouping_method']}_\" \\\n",
    "                            f\"{result['dr']}_{seed}.pkl\"\n",
    "                dump_pickle(result, file_name)\n",
    "                del result\n",
    "                gc.collect()\n",
    "            except Exception as e:\n",
    "                bad_instances.append(file)\n",
    "                print(file)\n",
    "                print(e)\n"
   ],
   "metadata": {
    "collapsed": false
   }
  },
  {
   "cell_type": "code",
   "execution_count": 3,
   "outputs": [],
   "source": [
    "def multi_runner(functions, files=None):\n",
    "    print(f\"Running {len(functions)} functions\")\n",
    "    i = 1\n",
    "    for function in functions:\n",
    "        print(f\"Running function: {i}\")\n",
    "        i = i + 1\n",
    "        runner(function, files=files)\n",
    "        gc.collect()"
   ],
   "metadata": {
    "collapsed": false
   }
  },
  {
   "cell_type": "code",
   "execution_count": 4,
   "outputs": [],
   "source": [
    "def clean_results(terms):\n",
    "    for term in terms:\n",
    "        files = os.listdir(\"../results/run_results\")\n",
    "        deleting = [x for x in files if term in x]\n",
    "        for f in deleting:\n",
    "            os.remove(f\"../results/run_results/{f}\")"
   ],
   "metadata": {
    "collapsed": false
   }
  },
  {
   "cell_type": "code",
   "execution_count": 5,
   "outputs": [
    {
     "name": "stdout",
     "output_type": "stream",
     "text": [
      "Running 7 functions\n",
      "Running function: 1\n"
     ]
    },
    {
     "data": {
      "text/plain": "  0%|          | 0/96 [00:00<?, ?it/s]",
      "application/vnd.jupyter.widget-view+json": {
       "version_major": 2,
       "version_minor": 0,
       "model_id": "016f7ba714f741f99013cf243afdd892"
      }
     },
     "metadata": {},
     "output_type": "display_data"
    },
    {
     "name": "stdout",
     "output_type": "stream",
     "text": [
      "Set parameter Username\n",
      "Academic license - for non-commercial use only - expires 2023-12-03\n",
      "Running function: 2\n"
     ]
    },
    {
     "data": {
      "text/plain": "  0%|          | 0/96 [00:00<?, ?it/s]",
      "application/vnd.jupyter.widget-view+json": {
       "version_major": 2,
       "version_minor": 0,
       "model_id": "f8d533d23e2647b599a6a88d98e0c7c3"
      }
     },
     "metadata": {},
     "output_type": "display_data"
    },
    {
     "name": "stdout",
     "output_type": "stream",
     "text": [
      "Running function: 3\n"
     ]
    },
    {
     "data": {
      "text/plain": "  0%|          | 0/96 [00:00<?, ?it/s]",
      "application/vnd.jupyter.widget-view+json": {
       "version_major": 2,
       "version_minor": 0,
       "model_id": "8094f6b1c2e44ee680530f8d95478310"
      }
     },
     "metadata": {},
     "output_type": "display_data"
    },
    {
     "name": "stdout",
     "output_type": "stream",
     "text": [
      "Running function: 4\n"
     ]
    },
    {
     "data": {
      "text/plain": "  0%|          | 0/96 [00:00<?, ?it/s]",
      "application/vnd.jupyter.widget-view+json": {
       "version_major": 2,
       "version_minor": 0,
       "model_id": "add89c3757fb4dd9b0c16b24aa0e985d"
      }
     },
     "metadata": {},
     "output_type": "display_data"
    },
    {
     "name": "stdout",
     "output_type": "stream",
     "text": [
      "Running function: 5\n"
     ]
    },
    {
     "data": {
      "text/plain": "  0%|          | 0/96 [00:00<?, ?it/s]",
      "application/vnd.jupyter.widget-view+json": {
       "version_major": 2,
       "version_minor": 0,
       "model_id": "5f49997d0f0443bcb040896933710541"
      }
     },
     "metadata": {},
     "output_type": "display_data"
    },
    {
     "name": "stdout",
     "output_type": "stream",
     "text": [
      "Running function: 6\n"
     ]
    },
    {
     "data": {
      "text/plain": "  0%|          | 0/96 [00:00<?, ?it/s]",
      "application/vnd.jupyter.widget-view+json": {
       "version_major": 2,
       "version_minor": 0,
       "model_id": "3ec01ce6d9634cb79f4b5570e9520956"
      }
     },
     "metadata": {},
     "output_type": "display_data"
    },
    {
     "name": "stdout",
     "output_type": "stream",
     "text": [
      "Running function: 7\n"
     ]
    },
    {
     "data": {
      "text/plain": "  0%|          | 0/96 [00:00<?, ?it/s]",
      "application/vnd.jupyter.widget-view+json": {
       "version_major": 2,
       "version_minor": 0,
       "model_id": "8b5e3d81987348f0bc8638c757a89cfd"
      }
     },
     "metadata": {},
     "output_type": "display_data"
    }
   ],
   "source": [
    "functions = [\n",
    "    lambda x: dropout_cut(x, \"random\"),  # Good\n",
    "    lambda x: dropout_cut(x, \"affinity\"),  # Bad <- Rerun\n",
    "    lambda x: dropout_cut(x, \"hierarchical\"),  # Good\n",
    "    lambda x: dropout_cut(x, \"kmeans\"),  # Bad <- Rerun\n",
    "    lambda x: dropout_cut(x, \"spectral\"),  # Bad Rerun\n",
    "    multi_cut,\n",
    "    single_cut\n",
    "]\n",
    "multi_runner(functions)"
   ],
   "metadata": {
    "collapsed": false
   }
  },
  {
   "cell_type": "code",
   "execution_count": 6,
   "outputs": [
    {
     "name": "stdout",
     "output_type": "stream",
     "text": [
      "Running 5 functions\n",
      "Running function: 1\n"
     ]
    },
    {
     "data": {
      "text/plain": "  0%|          | 0/96 [00:00<?, ?it/s]",
      "application/vnd.jupyter.widget-view+json": {
       "version_major": 2,
       "version_minor": 0,
       "model_id": "d3090005810e4e0191bd2faedc7aeb18"
      }
     },
     "metadata": {},
     "output_type": "display_data"
    },
    {
     "name": "stdout",
     "output_type": "stream",
     "text": [
      "Running function: 2\n"
     ]
    },
    {
     "data": {
      "text/plain": "  0%|          | 0/96 [00:00<?, ?it/s]",
      "application/vnd.jupyter.widget-view+json": {
       "version_major": 2,
       "version_minor": 0,
       "model_id": "c06b586f22524d72972d65825e0ec00e"
      }
     },
     "metadata": {},
     "output_type": "display_data"
    },
    {
     "name": "stdout",
     "output_type": "stream",
     "text": [
      "Running function: 3\n"
     ]
    },
    {
     "data": {
      "text/plain": "  0%|          | 0/96 [00:00<?, ?it/s]",
      "application/vnd.jupyter.widget-view+json": {
       "version_major": 2,
       "version_minor": 0,
       "model_id": "a8edcb7bb54b48f18b0cad53eb7b5d68"
      }
     },
     "metadata": {},
     "output_type": "display_data"
    },
    {
     "name": "stdout",
     "output_type": "stream",
     "text": [
      "Running function: 4\n"
     ]
    },
    {
     "data": {
      "text/plain": "  0%|          | 0/96 [00:00<?, ?it/s]",
      "application/vnd.jupyter.widget-view+json": {
       "version_major": 2,
       "version_minor": 0,
       "model_id": "86e5f1860ff144fba3850cea0da4abd7"
      }
     },
     "metadata": {},
     "output_type": "display_data"
    },
    {
     "name": "stdout",
     "output_type": "stream",
     "text": [
      "Running function: 5\n"
     ]
    },
    {
     "data": {
      "text/plain": "  0%|          | 0/96 [00:00<?, ?it/s]",
      "application/vnd.jupyter.widget-view+json": {
       "version_major": 2,
       "version_minor": 0,
       "model_id": "d8a295c3cfd045759d65f8cf4e9ac055"
      }
     },
     "metadata": {},
     "output_type": "display_data"
    }
   ],
   "source": [
    "functions = [\n",
    "    lambda x: hybrid(x, \"kmeans\"),\n",
    "    lambda x: hybrid(x, \"affinity\"),\n",
    "    lambda x: hybrid(x, \"hierarchical\"),\n",
    "    lambda x: hybrid(x, \"spectral\"),\n",
    "    lambda x: hybrid(x, \"random\")\n",
    "]\n",
    "multi_runner(functions)"
   ],
   "metadata": {
    "collapsed": false
   }
  },
  {
   "cell_type": "code",
   "execution_count": null,
   "outputs": [],
   "source": [
    "functions = [\n",
    "    lambda x: dropout_cut(x, \"spectral\", dr=True),  # Good\n",
    "    lambda x: dropout_cut(x, \"affinity\", dr=True),  # Bad <- Rerun\n",
    "    lambda x: dropout_cut(x, \"hierarchical\", dr=True),  # Good\n",
    "    lambda x: dropout_cut(x, \"kmeans\", dr=True),  # Bad <- Rerun\n",
    "    lambda x: dropout_cut(x, \"random\", dr=True)\n",
    "]\n",
    "multi_runner(functions)"
   ],
   "metadata": {
    "collapsed": false
   }
  },
  {
   "cell_type": "code",
   "execution_count": null,
   "outputs": [],
   "source": [
    "functions = [\n",
    "    lambda x: hybrid(x, \"kmeans\", dr=True),\n",
    "    lambda x: hybrid(x, \"affinity\", dr=True),\n",
    "    lambda x: hybrid(x, \"hierarchical\", dr=True),\n",
    "    lambda x: hybrid(x, \"spectral\", dr=True),\n",
    "    lambda x: hybrid(x, \"random\", dr=True)\n",
    "]\n",
    "multi_runner(functions)"
   ],
   "metadata": {
    "collapsed": false
   }
  },
  {
   "cell_type": "markdown",
   "source": [],
   "metadata": {
    "collapsed": false
   }
  }
 ],
 "metadata": {
  "kernelspec": {
   "display_name": "Python 3",
   "language": "python",
   "name": "python3"
  },
  "language_info": {
   "codemirror_mode": {
    "name": "ipython",
    "version": 2
   },
   "file_extension": ".py",
   "mimetype": "text/x-python",
   "name": "python",
   "nbconvert_exporter": "python",
   "pygments_lexer": "ipython2",
   "version": "2.7.6"
  }
 },
 "nbformat": 4,
 "nbformat_minor": 0
}
