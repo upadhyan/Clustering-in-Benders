{
 "cells": [
  {
   "cell_type": "code",
   "execution_count": 1,
   "metadata": {
    "collapsed": true
   },
   "outputs": [],
   "source": [
    "import os\n",
    "import sys\n",
    "import gc\n",
    "from tqdm.notebook import tqdm\n",
    "sys.path.append('../')\n",
    "from utiliT.io import read_pickle, dump_pickle\n",
    "from tqdm.notebook import tqdm\n",
    "from scripts.instance import *\n",
    "from scripts.benders import *\n",
    "import yaml\n",
    "import json"
   ]
  },
  {
   "cell_type": "code",
   "execution_count": 3,
   "outputs": [],
   "source": [
    "test_file = 'multipeak_100_150_400.pkl'\n",
    "instance = read_pickle(f\"../data/{test_file}\")"
   ],
   "metadata": {
    "collapsed": false
   }
  },
  {
   "cell_type": "code",
   "execution_count": 3,
   "outputs": [
    {
     "name": "stdout",
     "output_type": "stream",
     "text": [
      "Set parameter Username\n",
      "Academic license - for non-commercial use only - expires 2023-11-20\n",
      "29390.2533176242\n"
     ]
    }
   ],
   "source": [
    "MC_cut = multi_cut_bender(instance)\n",
    "print(MC_cut['obj_val'])"
   ],
   "metadata": {
    "collapsed": false
   }
  },
  {
   "cell_type": "code",
   "execution_count": 4,
   "outputs": [
    {
     "name": "stdout",
     "output_type": "stream",
     "text": [
      "Set parameter Username\n",
      "Academic license - for non-commercial use only - expires 2023-11-20\n",
      "29390.312382698743\n"
     ]
    }
   ],
   "source": [
    "MC_cut = single_cut_benders(instance)\n",
    "print(MC_cut['obj_val'])"
   ],
   "metadata": {
    "collapsed": false
   }
  },
  {
   "cell_type": "code",
   "execution_count": null,
   "outputs": [],
   "source": [
    "del MC_cut\n",
    "gc.collect()"
   ],
   "metadata": {
    "collapsed": false
   }
  },
  {
   "cell_type": "code",
   "execution_count": null,
   "outputs": [
    {
     "data": {
      "text/plain": "  0%|          | 0/108 [00:00<?, ?it/s]",
      "application/vnd.jupyter.widget-view+json": {
       "version_major": 2,
       "version_minor": 0,
       "model_id": "bcac4e9ed76c4728b4ea9d3bd45a46ce"
      }
     },
     "metadata": {},
     "output_type": "display_data"
    },
    {
     "name": "stdout",
     "output_type": "stream",
     "text": [
      "Set parameter Username\n",
      "Academic license - for non-commercial use only - expires 2023-11-20\n"
     ]
    }
   ],
   "source": [
    "files = os.listdir(\"../data\")\n",
    "for file in tqdm(files):\n",
    "    try:\n",
    "        file_name = file[:-4]\n",
    "        instance = read_pickle(f\"../data/{file}\")\n",
    "        result1 = multi_cut_bender(instance)\n",
    "        dump_pickle(result1, f\"../results/multicut_{file_name}.pkl\")\n",
    "        del result1\n",
    "        gc.collect()\n",
    "        result2 = single_cut_benders(instance)\n",
    "        dump_pickle(result2, f\"../results/singlecut_{file_name}.pkl\")\n",
    "    except Exception as e:\n",
    "        print(\"--------------\")\n",
    "        print(file)\n",
    "        print(e)"
   ],
   "metadata": {
    "collapsed": false,
    "pycharm": {
     "is_executing": true
    }
   }
  }
 ],
 "metadata": {
  "kernelspec": {
   "display_name": "Python 3",
   "language": "python",
   "name": "python3"
  },
  "language_info": {
   "codemirror_mode": {
    "name": "ipython",
    "version": 2
   },
   "file_extension": ".py",
   "mimetype": "text/x-python",
   "name": "python",
   "nbconvert_exporter": "python",
   "pygments_lexer": "ipython2",
   "version": "2.7.6"
  }
 },
 "nbformat": 4,
 "nbformat_minor": 0
}
