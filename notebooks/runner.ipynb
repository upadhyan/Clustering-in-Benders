{
 "cells": [
  {
   "cell_type": "code",
   "execution_count": 1,
   "metadata": {
    "collapsed": true
   },
   "outputs": [],
   "source": [
    "import os\n",
    "\n",
    "import pandas as pd\n",
    "\n",
    "if os.name == 'nt':\n",
    "    os.environ[\"OMP_NUM_THREADS\"] = '2'\n",
    "import warnings\n",
    "warnings.filterwarnings('ignore')\n",
    "import sys\n",
    "sys.path.append('../')\n",
    "from utiliT.io import read_pickle, dump_pickle\n",
    "from scripts.instance import *\n",
    "from scripts.benders import *\n",
    "import gc\n",
    "from tqdm.notebook import tqdm"
   ]
  },
  {
   "cell_type": "code",
   "execution_count": 2,
   "outputs": [],
   "source": [
    "test_file = 'multipeak_100_150_400.pkl'\n",
    "instance = read_pickle(f\"../data/{test_file}\")"
   ],
   "metadata": {
    "collapsed": false
   }
  },
  {
   "cell_type": "code",
   "execution_count": 3,
   "outputs": [
    {
     "name": "stdout",
     "output_type": "stream",
     "text": [
      "Set parameter Username\n",
      "Academic license - for non-commercial use only - expires 2023-11-20\n"
     ]
    },
    {
     "data": {
      "text/plain": "{'method': 'kmeans-ND-dropout',\n 'obj_val': 30457.679663347153,\n 'n_cuts': 227,\n 'n_iterations': 16,\n 'avg_mp_solve': 0.0038121193647384644,\n 'avg_benders_loop_solve': 0.6561743766069412,\n 'status': 'optimal',\n 'primal_gap': 0,\n 'primal_gap_perc': 0,\n 'runtime': 14.692047595977783,\n 'n1': 100,\n 'n2': 150,\n 'm1': 200,\n 'm2': 300,\n 'k': 400,\n 'distribution': 'multipeak'}"
     },
     "execution_count": 3,
     "metadata": {},
     "output_type": "execute_result"
    }
   ],
   "source": [
    "MC_cut = dropout_cut(instance, \"kmeans\")\n",
    "gc.collect()\n",
    "MC_cut"
   ],
   "metadata": {
    "collapsed": false
   }
  },
  {
   "cell_type": "code",
   "execution_count": 4,
   "outputs": [
    {
     "data": {
      "text/plain": "{'method': 'hierarchical-ND-dropout',\n 'obj_val': 30470.192446863173,\n 'n_cuts': 224,\n 'n_iterations': 14,\n 'avg_mp_solve': 0.0037146125520978656,\n 'avg_benders_loop_solve': 0.6455771412168231,\n 'status': 'optimal',\n 'primal_gap': 0,\n 'primal_gap_perc': 0,\n 'runtime': 10.684464454650879,\n 'n1': 100,\n 'n2': 150,\n 'm1': 200,\n 'm2': 300,\n 'k': 400,\n 'distribution': 'multipeak'}"
     },
     "execution_count": 4,
     "metadata": {},
     "output_type": "execute_result"
    }
   ],
   "source": [
    "MC_cut = dropout_cut(instance, \"hierarchical\")\n",
    "gc.collect()\n",
    "MC_cut"
   ],
   "metadata": {
    "collapsed": false
   }
  },
  {
   "cell_type": "code",
   "execution_count": 5,
   "outputs": [
    {
     "data": {
      "text/plain": "{'method': 'spectral-ND-dropout',\n 'obj_val': 30476.27285022423,\n 'n_cuts': 204,\n 'n_iterations': 12,\n 'avg_mp_solve': 0.0037468870480855307,\n 'avg_benders_loop_solve': 0.6503333846728007,\n 'status': 'optimal',\n 'primal_gap': 0,\n 'primal_gap_perc': 0,\n 'runtime': 9.452901840209961,\n 'n1': 100,\n 'n2': 150,\n 'm1': 200,\n 'm2': 300,\n 'k': 400,\n 'distribution': 'multipeak'}"
     },
     "execution_count": 5,
     "metadata": {},
     "output_type": "execute_result"
    }
   ],
   "source": [
    "MC_cut = dropout_cut(instance, \"spectral\")\n",
    "gc.collect()\n",
    "MC_cut"
   ],
   "metadata": {
    "collapsed": false
   }
  },
  {
   "cell_type": "code",
   "execution_count": 6,
   "outputs": [
    {
     "data": {
      "text/plain": "{'method': 'affinity-ND-dropout',\n 'obj_val': 30484.55149175345,\n 'n_cuts': 340,\n 'n_iterations': 12,\n 'avg_mp_solve': 0.005165378252665202,\n 'avg_benders_loop_solve': 1.048807978630066,\n 'status': 'optimal',\n 'primal_gap': 0,\n 'primal_gap_perc': 0,\n 'runtime': 14.397607564926147,\n 'n1': 100,\n 'n2': 150,\n 'm1': 200,\n 'm2': 300,\n 'k': 400,\n 'distribution': 'multipeak'}"
     },
     "execution_count": 6,
     "metadata": {},
     "output_type": "execute_result"
    }
   ],
   "source": [
    "MC_cut = dropout_cut(instance, \"affinity\")\n",
    "gc.collect()\n",
    "MC_cut"
   ],
   "metadata": {
    "collapsed": false
   }
  },
  {
   "cell_type": "code",
   "execution_count": 7,
   "outputs": [
    {
     "data": {
      "text/plain": "{'method': 'multi-cut',\n 'obj_val': 30499.408900212187,\n 'n_cuts': 3165,\n 'n_iterations': 10,\n 'avg_mp_solve': 0.08289978504180909,\n 'avg_benders_loop_solve': 12.065252304077148,\n 'status': 'optimal',\n 'primal_gap': 0,\n 'primal_gap_perc': 0,\n 'runtime': 121.98059487342834,\n 'n1': 100,\n 'n2': 150,\n 'm1': 200,\n 'm2': 300,\n 'k': 400,\n 'distribution': 'multipeak'}"
     },
     "execution_count": 7,
     "metadata": {},
     "output_type": "execute_result"
    }
   ],
   "source": [
    "MC_cut = multi_cut(instance)\n",
    "gc.collect()\n",
    "MC_cut"
   ],
   "metadata": {
    "collapsed": false
   }
  },
  {
   "cell_type": "code",
   "execution_count": 8,
   "outputs": [
    {
     "data": {
      "text/plain": "{'method': 'single-cut',\n 'obj_val': 30497.479042326868,\n 'n_cuts': 62,\n 'n_iterations': 62,\n 'avg_mp_solve': 0.0017602674422725554,\n 'avg_benders_loop_solve': 4.805012310704877,\n 'status': 'timelimit',\n 'primal_gap': 2.29395971339909,\n 'primal_gap_perc': 7.5209919500271e-05,\n 'runtime': 301.19448804855347,\n 'n1': 100,\n 'n2': 150,\n 'm1': 200,\n 'm2': 300,\n 'k': 400,\n 'distribution': 'multipeak'}"
     },
     "execution_count": 8,
     "metadata": {},
     "output_type": "execute_result"
    }
   ],
   "source": [
    "MC_cut = single_cut(instance)\n",
    "gc.collect()\n",
    "MC_cut"
   ],
   "metadata": {
    "collapsed": false
   }
  },
  {
   "cell_type": "code",
   "execution_count": 9,
   "outputs": [
    {
     "data": {
      "text/plain": "{'method': 'kmeans-hybrid-cut',\n 'obj_val': 30499.39838757784,\n 'n_cuts': 716,\n 'n_iterations': 36,\n 'avg_mp_solve': 0.005903720855712891,\n 'avg_benders_loop_solve': 4.837342606650458,\n 'status': 'optimal',\n 'primal_gap': 0,\n 'primal_gap_perc': 0,\n 'runtime': 179.86137199401855,\n 'n1': 100,\n 'n2': 150,\n 'm1': 200,\n 'm2': 300,\n 'k': 400,\n 'distribution': 'multipeak'}"
     },
     "execution_count": 9,
     "metadata": {},
     "output_type": "execute_result"
    }
   ],
   "source": [
    "MC_cut = hybrid(instance, \"kmeans\")\n",
    "gc.collect()\n",
    "MC_cut"
   ],
   "metadata": {
    "collapsed": false
   }
  },
  {
   "cell_type": "code",
   "execution_count": 10,
   "outputs": [
    {
     "data": {
      "text/plain": "{'method': 'affinity-hybrid-cut',\n 'obj_val': 30499.400975115706,\n 'n_cuts': 919,\n 'n_iterations': 28,\n 'avg_mp_solve': 0.007624362196241107,\n 'avg_benders_loop_solve': 5.3459873625210355,\n 'status': 'optimal',\n 'primal_gap': 0,\n 'primal_gap_perc': 0,\n 'runtime': 152.7699716091156,\n 'n1': 100,\n 'n2': 150,\n 'm1': 200,\n 'm2': 300,\n 'k': 400,\n 'distribution': 'multipeak'}"
     },
     "execution_count": 10,
     "metadata": {},
     "output_type": "execute_result"
    }
   ],
   "source": [
    "MC_cut = hybrid(instance, \"affinity\")\n",
    "gc.collect()\n",
    "MC_cut"
   ],
   "metadata": {
    "collapsed": false
   }
  },
  {
   "cell_type": "code",
   "execution_count": 11,
   "outputs": [
    {
     "data": {
      "text/plain": "{'method': 'hierarchical-hybrid-cut',\n 'obj_val': 30499.401905231556,\n 'n_cuts': 700,\n 'n_iterations': 35,\n 'avg_mp_solve': 0.00576798575265067,\n 'avg_benders_loop_solve': 5.04957206589835,\n 'status': 'optimal',\n 'primal_gap': 0,\n 'primal_gap_perc': 0,\n 'runtime': 179.5375599861145,\n 'n1': 100,\n 'n2': 150,\n 'm1': 200,\n 'm2': 300,\n 'k': 400,\n 'distribution': 'multipeak'}"
     },
     "execution_count": 11,
     "metadata": {},
     "output_type": "execute_result"
    }
   ],
   "source": [
    "MC_cut = hybrid(instance, \"hierarchical\")\n",
    "gc.collect()\n",
    "MC_cut"
   ],
   "metadata": {
    "collapsed": false
   }
  },
  {
   "cell_type": "code",
   "execution_count": 12,
   "outputs": [
    {
     "data": {
      "text/plain": "{'method': 'spectral-hybrid-cut',\n 'obj_val': 30499.395691812064,\n 'n_cuts': 718,\n 'n_iterations': 36,\n 'avg_mp_solve': 0.005205889542897542,\n 'avg_benders_loop_solve': 4.7464838359091015,\n 'status': 'optimal',\n 'primal_gap': 0,\n 'primal_gap_perc': 0,\n 'runtime': 173.68126726150513,\n 'n1': 100,\n 'n2': 150,\n 'm1': 200,\n 'm2': 300,\n 'k': 400,\n 'distribution': 'multipeak'}"
     },
     "execution_count": 12,
     "metadata": {},
     "output_type": "execute_result"
    }
   ],
   "source": [
    "MC_cut = hybrid(instance, \"spectral\")\n",
    "gc.collect()\n",
    "MC_cut"
   ],
   "metadata": {
    "collapsed": false
   }
  },
  {
   "cell_type": "code",
   "execution_count": 13,
   "outputs": [
    {
     "data": {
      "text/plain": "0"
     },
     "execution_count": 13,
     "metadata": {},
     "output_type": "execute_result"
    }
   ],
   "source": [
    "del MC_cut\n",
    "gc.collect()"
   ],
   "metadata": {
    "collapsed": false
   }
  },
  {
   "cell_type": "code",
   "execution_count": 12,
   "outputs": [
    {
     "data": {
      "text/plain": "  0%|          | 0/192 [00:00<?, ?it/s]",
      "application/vnd.jupyter.widget-view+json": {
       "version_major": 2,
       "version_minor": 0,
       "model_id": "0c4c309245014c6e845b52cfeefb6cec"
      }
     },
     "metadata": {},
     "output_type": "display_data"
    }
   ],
   "source": [
    "bad_instances = []\n",
    "files = os.listdir(\"../data\")\n",
    "for file in tqdm(files):\n",
    "    instance_name = file[:-4]\n",
    "    instance = read_pickle(f\"../data/{file}\")\n",
    "    try:\n",
    "        result = dropout_cut(instance, \"kmeans\")\n",
    "        result['instance_name'] = instance_name\n",
    "        file_name = f\"../results/{result['instance_name']}_{result['method']}.pkl\"\n",
    "        dump_pickle(result, file_name)\n",
    "    except:\n",
    "        bad_instances.append(file)\n",
    "if len(bad_instances) > 0:\n",
    "    dump_pickle(bad_instances, \"../results/kmeans_dropout_bad.pkl\")"
   ],
   "metadata": {
    "collapsed": false
   }
  },
  {
   "cell_type": "code",
   "execution_count": 13,
   "outputs": [
    {
     "data": {
      "text/plain": "  0%|          | 0/192 [00:00<?, ?it/s]",
      "application/vnd.jupyter.widget-view+json": {
       "version_major": 2,
       "version_minor": 0,
       "model_id": "67b785a169bf474daeba28cf837f9534"
      }
     },
     "metadata": {},
     "output_type": "display_data"
    }
   ],
   "source": [
    "bad_instances = []\n",
    "files = os.listdir(\"../data\")\n",
    "for file in tqdm(files):\n",
    "    instance_name = file[:-4]\n",
    "    instance = read_pickle(f\"../data/{file}\")\n",
    "    try:\n",
    "        result = dropout_cut(instance, \"affinity\")\n",
    "        result['instance_name'] = instance_name\n",
    "        file_name = f\"../results/{result['instance_name']}_{result['method']}.pkl\"\n",
    "        dump_pickle(result, file_name)\n",
    "    except:\n",
    "        bad_instances.append(file)\n",
    "if len(bad_instances) > 0:\n",
    "    dump_pickle(bad_instances, \"../results/affinity_dropout_bad.pkl\")"
   ],
   "metadata": {
    "collapsed": false
   }
  },
  {
   "cell_type": "code",
   "execution_count": 14,
   "outputs": [
    {
     "data": {
      "text/plain": "  0%|          | 0/192 [00:00<?, ?it/s]",
      "application/vnd.jupyter.widget-view+json": {
       "version_major": 2,
       "version_minor": 0,
       "model_id": "ff6bc31a51c24beb8f4956468e0e1da5"
      }
     },
     "metadata": {},
     "output_type": "display_data"
    }
   ],
   "source": [
    "bad_instances = []\n",
    "files = os.listdir(\"../data\")\n",
    "for file in tqdm(files):\n",
    "    instance_name = file[:-4]\n",
    "    instance = read_pickle(f\"../data/{file}\")\n",
    "    try:\n",
    "        result = dropout_cut(instance, \"hierarchical\")\n",
    "        result['instance_name'] = instance_name\n",
    "        file_name = f\"../results/{result['instance_name']}_{result['method']}.pkl\"\n",
    "        dump_pickle(result, file_name)\n",
    "    except:\n",
    "        bad_instances.append(file)\n",
    "if len(bad_instances) > 0:\n",
    "    dump_pickle(bad_instances, \"../results/hierarchical_dropout_bad.pkl\")\n",
    "del instance\n",
    "del bad_instances\n",
    "clear = gc.collect()"
   ],
   "metadata": {
    "collapsed": false
   }
  },
  {
   "cell_type": "code",
   "execution_count": 15,
   "outputs": [
    {
     "data": {
      "text/plain": "  0%|          | 0/192 [00:00<?, ?it/s]",
      "application/vnd.jupyter.widget-view+json": {
       "version_major": 2,
       "version_minor": 0,
       "model_id": "23d0f91358db4f6bb53bc3883f971ad8"
      }
     },
     "metadata": {},
     "output_type": "display_data"
    }
   ],
   "source": [
    "bad_instances = []\n",
    "files = os.listdir(\"../data\")\n",
    "for file in tqdm(files):\n",
    "    instance_name = file[:-4]\n",
    "    instance = read_pickle(f\"../data/{file}\")\n",
    "    try:\n",
    "        result = dropout_cut(instance, \"spectral\")\n",
    "        result['instance_name'] = instance_name\n",
    "        file_name = f\"../results/{result['instance_name']}_{result['method']}.pkl\"\n",
    "        dump_pickle(result, file_name)\n",
    "    except:\n",
    "        bad_instances.append(file)\n",
    "if len(bad_instances) > 0:\n",
    "    dump_pickle(bad_instances, \"../results/spectral_dropout_bad.pkl\")\n",
    "del instance\n",
    "del bad_instances\n",
    "clear = gc.collect()"
   ],
   "metadata": {
    "collapsed": false
   }
  },
  {
   "cell_type": "code",
   "execution_count": 16,
   "outputs": [
    {
     "data": {
      "text/plain": "  0%|          | 0/192 [00:00<?, ?it/s]",
      "application/vnd.jupyter.widget-view+json": {
       "version_major": 2,
       "version_minor": 0,
       "model_id": "da4a7ca13d12430c9c803fb949c8d482"
      }
     },
     "metadata": {},
     "output_type": "display_data"
    }
   ],
   "source": [
    "bad_instances = []\n",
    "files = os.listdir(\"../data\")\n",
    "for file in tqdm(files):\n",
    "    instance_name = file[:-4]\n",
    "    instance = read_pickle(f\"../data/{file}\")\n",
    "    try:\n",
    "        result = multi_cut(instance)\n",
    "        result['instance_name'] = instance_name\n",
    "        file_name = f\"../results/{result['instance_name']}_{result['method']}.pkl\"\n",
    "        dump_pickle(result, file_name)\n",
    "    except:\n",
    "        bad_instances.append(file)\n",
    "if len(bad_instances) > 0:\n",
    "    dump_pickle(bad_instances, \"../results/multi_bad.pkl\")\n",
    "del instance\n",
    "del bad_instances\n",
    "clear = gc.collect()"
   ],
   "metadata": {
    "collapsed": false
   }
  },
  {
   "cell_type": "code",
   "execution_count": null,
   "outputs": [
    {
     "data": {
      "text/plain": "  0%|          | 0/192 [00:00<?, ?it/s]",
      "application/vnd.jupyter.widget-view+json": {
       "version_major": 2,
       "version_minor": 0,
       "model_id": "334a7712ec3f44529c7a99712761b767"
      }
     },
     "metadata": {},
     "output_type": "display_data"
    }
   ],
   "source": [
    "bad_instances = []\n",
    "files = os.listdir(\"../data\")\n",
    "for file in tqdm(files):\n",
    "    instance_name = file[:-4]\n",
    "    instance = read_pickle(f\"../data/{file}\")\n",
    "    try:\n",
    "        result = single_cut(instance)\n",
    "        result['instance_name'] = instance_name\n",
    "        file_name = f\"../results/{result['instance_name']}_{result['method']}.pkl\"\n",
    "        dump_pickle(result, file_name)\n",
    "    except:\n",
    "        bad_instances.append(file)\n",
    "if len(bad_instances) > 0:\n",
    "    dump_pickle(bad_instances, \"../results/single_bad.pkl\")\n",
    "del instance\n",
    "del bad_instances\n",
    "clear = gc.collect()"
   ],
   "metadata": {
    "collapsed": false
   }
  },
  {
   "cell_type": "code",
   "execution_count": 6,
   "outputs": [
    {
     "data": {
      "text/plain": "  0%|          | 0/70 [00:00<?, ?it/s]",
      "application/vnd.jupyter.widget-view+json": {
       "version_major": 2,
       "version_minor": 0,
       "model_id": "e7db9784d1f743f78e845a33cf1ee6fd"
      }
     },
     "metadata": {},
     "output_type": "display_data"
    },
    {
     "name": "stdout",
     "output_type": "stream",
     "text": [
      "Set parameter Username\n",
      "Academic license - for non-commercial use only - expires 2023-11-20\n"
     ]
    }
   ],
   "source": [
    "run_instances = os.listdir(\"../results\")\n",
    "single_cut_results = [x for x in run_instances if \"single-cut\" in x]\n",
    "dicts = [read_pickle(f\"../results/{x}\") for x in single_cut_results]\n",
    "run_instances_names = [x['instance_name'] for x in dicts]\n",
    "all_files = [x[:-4] for x in os.listdir(\"../data\")]\n",
    "unrun_instances = [x for x in all_files if x not in run_instances_names]\n",
    "bad_instances = []\n",
    "files = os.listdir(\"../data\")\n",
    "for instance_name in tqdm(unrun_instances):\n",
    "    instance = read_pickle(f\"../data/{instance_name}.pkl\")\n",
    "    try:\n",
    "        result = single_cut(instance)\n",
    "        result['instance_name'] = instance_name\n",
    "        file_name = f\"../results/{result['instance_name']}_{result['method']}.pkl\"\n",
    "        dump_pickle(result, file_name)\n",
    "    except:\n",
    "        bad_instances.append(f\"{instance_name}.pkl\")\n",
    "if len(bad_instances) > 0:\n",
    "    dump_pickle(bad_instances, \"../results/single_bad.pkl\")\n",
    "del instance\n",
    "del bad_instances\n",
    "clear = gc.collect()"
   ],
   "metadata": {
    "collapsed": false
   }
  },
  {
   "cell_type": "markdown",
   "source": [],
   "metadata": {
    "collapsed": false
   }
  },
  {
   "cell_type": "code",
   "execution_count": 14,
   "outputs": [
    {
     "data": {
      "text/plain": "  0%|          | 0/192 [00:00<?, ?it/s]",
      "application/vnd.jupyter.widget-view+json": {
       "version_major": 2,
       "version_minor": 0,
       "model_id": "bbd48434f6e14083b82cf737c827cdc4"
      }
     },
     "metadata": {},
     "output_type": "display_data"
    }
   ],
   "source": [
    "bad_instances = []\n",
    "files = os.listdir(\"../data\")\n",
    "for file in tqdm(files):\n",
    "    instance_name = file[:-4]\n",
    "    instance = read_pickle(f\"../data/{file}\")\n",
    "    try:\n",
    "        result = hybrid(instance, \"kmeans\")\n",
    "        result['instance_name'] = instance_name\n",
    "        file_name = f\"../results/{result['instance_name']}_{result['method']}.pkl\"\n",
    "        dump_pickle(result, file_name)\n",
    "    except:\n",
    "        bad_instances.append(file)\n",
    "if len(bad_instances) > 0:\n",
    "    dump_pickle(bad_instances, \"../results/kmeans_hybrid_bad.pkl\")"
   ],
   "metadata": {
    "collapsed": false
   }
  },
  {
   "cell_type": "code",
   "execution_count": 15,
   "outputs": [
    {
     "data": {
      "text/plain": "  0%|          | 0/192 [00:00<?, ?it/s]",
      "application/vnd.jupyter.widget-view+json": {
       "version_major": 2,
       "version_minor": 0,
       "model_id": "289276bbcd3b4bfaa5e19dc167967604"
      }
     },
     "metadata": {},
     "output_type": "display_data"
    }
   ],
   "source": [
    "bad_instances = []\n",
    "files = os.listdir(\"../data\")\n",
    "for file in tqdm(files):\n",
    "    instance_name = file[:-4]\n",
    "    instance = read_pickle(f\"../data/{file}\")\n",
    "    try:\n",
    "        result = hybrid(instance, \"affinity\")\n",
    "        result['instance_name'] = instance_name\n",
    "        file_name = f\"../results/{result['instance_name']}_{result['method']}.pkl\"\n",
    "        dump_pickle(result, file_name)\n",
    "    except:\n",
    "        bad_instances.append(file)\n",
    "if len(bad_instances) > 0:\n",
    "    dump_pickle(bad_instances, \"../results/affinity_hybrid_bad.pkl\")"
   ],
   "metadata": {
    "collapsed": false
   }
  },
  {
   "cell_type": "code",
   "execution_count": 16,
   "outputs": [
    {
     "data": {
      "text/plain": "  0%|          | 0/192 [00:00<?, ?it/s]",
      "application/vnd.jupyter.widget-view+json": {
       "version_major": 2,
       "version_minor": 0,
       "model_id": "9833e37ca42b42dd80b75d987db2df62"
      }
     },
     "metadata": {},
     "output_type": "display_data"
    }
   ],
   "source": [
    "bad_instances = []\n",
    "files = os.listdir(\"../data\")\n",
    "for file in tqdm(files):\n",
    "    instance_name = file[:-4]\n",
    "    instance = read_pickle(f\"../data/{file}\")\n",
    "    try:\n",
    "        result = hybrid(instance, \"hierarchical\")\n",
    "        result['instance_name'] = instance_name\n",
    "        file_name = f\"../results/{result['instance_name']}_{result['method']}.pkl\"\n",
    "        dump_pickle(result, file_name)\n",
    "    except:\n",
    "        bad_instances.append(file)\n",
    "if len(bad_instances) > 0:\n",
    "    dump_pickle(bad_instances, \"../results/hierarchical_hybrid_bad.pkl\")"
   ],
   "metadata": {
    "collapsed": false
   }
  },
  {
   "cell_type": "code",
   "execution_count": 17,
   "outputs": [
    {
     "data": {
      "text/plain": "  0%|          | 0/192 [00:00<?, ?it/s]",
      "application/vnd.jupyter.widget-view+json": {
       "version_major": 2,
       "version_minor": 0,
       "model_id": "840dafa667894cbcb0b988834e504fa5"
      }
     },
     "metadata": {},
     "output_type": "display_data"
    }
   ],
   "source": [
    "bad_instances = []\n",
    "files = os.listdir(\"../data\")\n",
    "for file in tqdm(files):\n",
    "    instance_name = file[:-4]\n",
    "    instance = read_pickle(f\"../data/{file}\")\n",
    "    try:\n",
    "        result = hybrid(instance, \"spectral\")\n",
    "        result['instance_name'] = instance_name\n",
    "        file_name = f\"../results/{result['instance_name']}_{result['method']}.pkl\"\n",
    "        dump_pickle(result, file_name)\n",
    "    except:\n",
    "        bad_instances.append(file)\n",
    "if len(bad_instances) > 0:\n",
    "    dump_pickle(bad_instances, \"../results/spectral_hybrid_bad.pkl\")"
   ],
   "metadata": {
    "collapsed": false
   }
  },
  {
   "cell_type": "markdown",
   "source": [],
   "metadata": {
    "collapsed": false
   }
  }
 ],
 "metadata": {
  "kernelspec": {
   "display_name": "Python 3",
   "language": "python",
   "name": "python3"
  },
  "language_info": {
   "codemirror_mode": {
    "name": "ipython",
    "version": 2
   },
   "file_extension": ".py",
   "mimetype": "text/x-python",
   "name": "python",
   "nbconvert_exporter": "python",
   "pygments_lexer": "ipython2",
   "version": "2.7.6"
  }
 },
 "nbformat": 4,
 "nbformat_minor": 0
}
