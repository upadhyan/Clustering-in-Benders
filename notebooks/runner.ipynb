{
 "cells": [
  {
   "cell_type": "code",
   "execution_count": 5,
   "metadata": {
    "collapsed": true
   },
   "outputs": [],
   "source": [
    "import os\n",
    "import pandas as pd\n",
    "\n",
    "if os.name == 'nt':\n",
    "    os.environ[\"OMP_NUM_THREADS\"] = '2'\n",
    "import warnings\n",
    "\n",
    "warnings.filterwarnings('ignore')\n",
    "import sys\n",
    "\n",
    "sys.path.append('../')\n",
    "from utiliT.io import read_pickle, dump_pickle\n",
    "from scripts.instance import *\n",
    "from scripts.benders import *\n",
    "import gc\n",
    "from tqdm.notebook import tqdm, trange"
   ]
  },
  {
   "cell_type": "code",
   "execution_count": 3,
   "outputs": [
    {
     "data": {
      "text/plain": "'../results/run_results/multipeak_200_200_400_multi_None_None_1.pkl'"
     },
     "execution_count": 3,
     "metadata": {},
     "output_type": "execute_result"
    }
   ],
   "source": [
    "file = \"multipeak_200_200_400.pkl\"\n",
    "file_name = f\"../data/{file}\"\n",
    "instance = read_pickle(file_name)\n",
    "results = multi_cut(instance)\n",
    "results['instance_name'] = file[:-4]\n",
    "f\"../results/run_results/{results['instance_name']}_{results['cut_method']}_{results['grouping_method']}_\" \\\n",
    "f\"{results['dr']}_{1}.pkl\""
   ],
   "metadata": {
    "collapsed": false
   }
  },
  {
   "cell_type": "code",
   "execution_count": 4,
   "outputs": [
    {
     "data": {
      "text/plain": "'../results/run_results/multipeak_100_100_100_single_None_None_1.pkl'"
     },
     "execution_count": 4,
     "metadata": {},
     "output_type": "execute_result"
    }
   ],
   "source": [
    "file = \"multipeak_100_100_100.pkl\"\n",
    "file_name = f\"../data/{file}\"\n",
    "instance = read_pickle(file_name)\n",
    "results = single_cut(instance)\n",
    "results['instance_name'] = file[:-4]\n",
    "f\"../results/run_results/{results['instance_name']}_{results['cut_method']}_{results['grouping_method']}_\" \\\n",
    "f\"{results['dr']}_{1}.pkl\""
   ],
   "metadata": {
    "collapsed": false
   }
  },
  {
   "cell_type": "code",
   "execution_count": 5,
   "outputs": [
    {
     "data": {
      "text/plain": "'../results/run_results/multipeak_200_200_400_dropout_affinity_False_1.pkl'"
     },
     "execution_count": 5,
     "metadata": {},
     "output_type": "execute_result"
    }
   ],
   "source": [
    "file = \"multipeak_200_200_400.pkl\"\n",
    "file_name = f\"../data/{file}\"\n",
    "instance = read_pickle(file_name)\n",
    "results = dropout_cut(instance, \"affinity\")\n",
    "results['instance_name'] = file[:-4]\n",
    "f\"../results/run_results/{results['instance_name']}_{results['cut_method']}_{results['grouping_method']}_\" \\\n",
    "f\"{results['dr']}_{1}.pkl\""
   ],
   "metadata": {
    "collapsed": false
   }
  },
  {
   "cell_type": "code",
   "execution_count": 6,
   "outputs": [
    {
     "data": {
      "text/plain": "'../results/run_results/multipeak_200_200_400_hybrid_affinity_False_1.pkl'"
     },
     "execution_count": 6,
     "metadata": {},
     "output_type": "execute_result"
    }
   ],
   "source": [
    "file = \"multipeak_200_200_400.pkl\"\n",
    "file_name = f\"../data/{file}\"\n",
    "instance = read_pickle(file_name)\n",
    "results = hybrid(instance, \"affinity\")\n",
    "results['instance_name'] = file[:-4]\n",
    "f\"../results/run_results/{results['instance_name']}_{results['cut_method']}_{results['grouping_method']}_\" \\\n",
    "f\"{results['dr']}_{1}.pkl\""
   ],
   "metadata": {
    "collapsed": false
   }
  },
  {
   "cell_type": "code",
   "execution_count": 6,
   "outputs": [],
   "source": [
    "def runner(function, files=None, n_seeds=3):\n",
    "    bad_instances = []\n",
    "    if files is None:\n",
    "        files = os.listdir(\"../data\")\n",
    "    for file in tqdm(files):\n",
    "        for seed in range(n_seeds):\n",
    "            instance_name = file[:-4]\n",
    "            instance = read_pickle(f\"../data/{file}\")\n",
    "            try:\n",
    "                result = function(instance)\n",
    "                result['instance_name'] = instance_name\n",
    "                result['run_number'] = seed\n",
    "                file_name = f\"../results/run_results/{result['instance_name']}_{result['cut_method']}_{result['grouping_method']}_\" \\\n",
    "                            f\"{result['dr']}_{seed}.pkl\"\n",
    "                dump_pickle(result, file_name)\n",
    "                del result\n",
    "                gc.collect()\n",
    "            except Exception as e:\n",
    "                bad_instances.append(file)\n",
    "                print(file)\n",
    "                print(e)\n"
   ],
   "metadata": {
    "collapsed": false
   }
  },
  {
   "cell_type": "code",
   "execution_count": 7,
   "outputs": [],
   "source": [
    "def multi_runner(functions, files=None):\n",
    "    print(f\"Running {len(functions)} functions\")\n",
    "    i = 1\n",
    "    for function in functions:\n",
    "        print(f\"Running function: {i}\")\n",
    "        i = i + 1\n",
    "        runner(function, files=files)\n",
    "        gc.collect()"
   ],
   "metadata": {
    "collapsed": false
   }
  },
  {
   "cell_type": "code",
   "execution_count": 8,
   "outputs": [],
   "source": [
    "def clean_results(terms):\n",
    "    for term in terms:\n",
    "        files = os.listdir(\"../results/run_results\")\n",
    "        deleting = [x for x in files if term in x]\n",
    "        for f in deleting:\n",
    "            os.remove(f\"../results/run_results/{f}\")"
   ],
   "metadata": {
    "collapsed": false
   }
  },
  {
   "cell_type": "code",
   "execution_count": null,
   "outputs": [],
   "source": [
    "functions = [\n",
    "    lambda x: dropout_cut(x, \"spectral\"),  # Good\n",
    "    lambda x: dropout_cut(x, \"affinity\"),  # Bad <- Rerun\n",
    "    lambda x: dropout_cut(x, \"hierarchical\"),  # Good\n",
    "    lambda x: dropout_cut(x, \"kmeans\"),  # Bad <- Rerun\n",
    "    lambda x: dropout_cut(x, \"random\"),  # Bad Rerun\n",
    "    multi_cut,\n",
    "    single_cut\n",
    "]\n",
    "multi_runner(functions)"
   ],
   "metadata": {
    "collapsed": false,
    "pycharm": {
     "is_executing": true
    }
   }
  },
  {
   "cell_type": "code",
   "execution_count": 9,
   "outputs": [
    {
     "name": "stdout",
     "output_type": "stream",
     "text": [
      "Running 2 functions\n",
      "Running function: 1\n"
     ]
    },
    {
     "data": {
      "text/plain": "  0%|          | 0/96 [00:00<?, ?it/s]",
      "application/vnd.jupyter.widget-view+json": {
       "version_major": 2,
       "version_minor": 0,
       "model_id": "19c9d6e80de144f49a660fae14fd2392"
      }
     },
     "metadata": {},
     "output_type": "display_data"
    },
    {
     "name": "stdout",
     "output_type": "stream",
     "text": [
      "Set parameter Username\n",
      "Academic license - for non-commercial use only - expires 2023-11-20\n",
      "Running function: 2\n"
     ]
    },
    {
     "data": {
      "text/plain": "  0%|          | 0/96 [00:00<?, ?it/s]",
      "application/vnd.jupyter.widget-view+json": {
       "version_major": 2,
       "version_minor": 0,
       "model_id": "7753802dee7643549cb96cecae9a4924"
      }
     },
     "metadata": {},
     "output_type": "display_data"
    }
   ],
   "source": [
    "functions = [\n",
    "    lambda x: dropout_cut(x, \"affinity\"),  # Bad <- Rerun\n",
    "    lambda x: dropout_cut(x, \"random\"),  # Bad Rerun\n",
    "]\n",
    "multi_runner(functions)"
   ],
   "metadata": {
    "collapsed": false
   }
  },
  {
   "cell_type": "code",
   "execution_count": 10,
   "outputs": [
    {
     "name": "stdout",
     "output_type": "stream",
     "text": [
      "Running 4 functions\n",
      "Running function: 1\n"
     ]
    },
    {
     "data": {
      "text/plain": "  0%|          | 0/96 [00:00<?, ?it/s]",
      "application/vnd.jupyter.widget-view+json": {
       "version_major": 2,
       "version_minor": 0,
       "model_id": "179f363a143c4d9780ebb6070edbeb91"
      }
     },
     "metadata": {},
     "output_type": "display_data"
    },
    {
     "name": "stdout",
     "output_type": "stream",
     "text": [
      "Running function: 2\n"
     ]
    },
    {
     "data": {
      "text/plain": "  0%|          | 0/96 [00:00<?, ?it/s]",
      "application/vnd.jupyter.widget-view+json": {
       "version_major": 2,
       "version_minor": 0,
       "model_id": "44041e03340541518c067fc6ddd6a915"
      }
     },
     "metadata": {},
     "output_type": "display_data"
    },
    {
     "name": "stdout",
     "output_type": "stream",
     "text": [
      "Running function: 3\n"
     ]
    },
    {
     "data": {
      "text/plain": "  0%|          | 0/96 [00:00<?, ?it/s]",
      "application/vnd.jupyter.widget-view+json": {
       "version_major": 2,
       "version_minor": 0,
       "model_id": "ef497982ba8b4fdfbe89398e0afd8800"
      }
     },
     "metadata": {},
     "output_type": "display_data"
    },
    {
     "name": "stdout",
     "output_type": "stream",
     "text": [
      "Running function: 4\n"
     ]
    },
    {
     "data": {
      "text/plain": "  0%|          | 0/96 [00:00<?, ?it/s]",
      "application/vnd.jupyter.widget-view+json": {
       "version_major": 2,
       "version_minor": 0,
       "model_id": "b765743bce6d41ebb9da2bf55de3bbce"
      }
     },
     "metadata": {},
     "output_type": "display_data"
    }
   ],
   "source": [
    "functions = [\n",
    "    #lambda x: hybrid(x, \"kmeans\"),\n",
    "    lambda x: hybrid(x, \"affinity\"),\n",
    "    lambda x: hybrid(x, \"hierarchical\"),\n",
    "    lambda x: hybrid(x, \"spectral\"),\n",
    "    lambda x: hybrid(x, \"random\")\n",
    "]\n",
    "multi_runner(functions)"
   ],
   "metadata": {
    "collapsed": false
   }
  },
  {
   "cell_type": "code",
   "execution_count": 11,
   "outputs": [
    {
     "name": "stdout",
     "output_type": "stream",
     "text": [
      "Running 5 functions\n",
      "Running function: 1\n"
     ]
    },
    {
     "data": {
      "text/plain": "  0%|          | 0/96 [00:00<?, ?it/s]",
      "application/vnd.jupyter.widget-view+json": {
       "version_major": 2,
       "version_minor": 0,
       "model_id": "37f98818435347529e1a3002836c9df0"
      }
     },
     "metadata": {},
     "output_type": "display_data"
    },
    {
     "name": "stdout",
     "output_type": "stream",
     "text": [
      "Running function: 2\n"
     ]
    },
    {
     "data": {
      "text/plain": "  0%|          | 0/96 [00:00<?, ?it/s]",
      "application/vnd.jupyter.widget-view+json": {
       "version_major": 2,
       "version_minor": 0,
       "model_id": "9b3337ad6b6e4397be9d35c39c2974d0"
      }
     },
     "metadata": {},
     "output_type": "display_data"
    },
    {
     "name": "stdout",
     "output_type": "stream",
     "text": [
      "Running function: 3\n"
     ]
    },
    {
     "data": {
      "text/plain": "  0%|          | 0/96 [00:00<?, ?it/s]",
      "application/vnd.jupyter.widget-view+json": {
       "version_major": 2,
       "version_minor": 0,
       "model_id": "cdd5af749be44dbb9485961553a1e7d9"
      }
     },
     "metadata": {},
     "output_type": "display_data"
    },
    {
     "name": "stdout",
     "output_type": "stream",
     "text": [
      "Running function: 4\n"
     ]
    },
    {
     "data": {
      "text/plain": "  0%|          | 0/96 [00:00<?, ?it/s]",
      "application/vnd.jupyter.widget-view+json": {
       "version_major": 2,
       "version_minor": 0,
       "model_id": "2702ac02f5dc4166a17e66743513a010"
      }
     },
     "metadata": {},
     "output_type": "display_data"
    },
    {
     "name": "stdout",
     "output_type": "stream",
     "text": [
      "Running function: 5\n"
     ]
    },
    {
     "data": {
      "text/plain": "  0%|          | 0/96 [00:00<?, ?it/s]",
      "application/vnd.jupyter.widget-view+json": {
       "version_major": 2,
       "version_minor": 0,
       "model_id": "b080cc9d7cbc46f1b68dd620e4606915"
      }
     },
     "metadata": {},
     "output_type": "display_data"
    }
   ],
   "source": [
    "functions = [\n",
    "    lambda x: dropout_cut(x, \"spectral\", dr=True),  # Good\n",
    "    lambda x: dropout_cut(x, \"affinity\", dr=True),  # Bad <- Rerun\n",
    "    lambda x: dropout_cut(x, \"hierarchical\", dr=True),  # Good\n",
    "    lambda x: dropout_cut(x, \"kmeans\", dr=True),  # Bad <- Rerun\n",
    "    lambda x: dropout_cut(x, \"random\", dr=True),  # Bad Rerun\n",
    "]\n",
    "multi_runner(functions)"
   ],
   "metadata": {
    "collapsed": false
   }
  },
  {
   "cell_type": "code",
   "execution_count": 12,
   "outputs": [
    {
     "name": "stdout",
     "output_type": "stream",
     "text": [
      "Running 4 functions\n",
      "Running function: 1\n"
     ]
    },
    {
     "data": {
      "text/plain": "  0%|          | 0/96 [00:00<?, ?it/s]",
      "application/vnd.jupyter.widget-view+json": {
       "version_major": 2,
       "version_minor": 0,
       "model_id": "c4ebcfaf59214d44ab2eabed354091d3"
      }
     },
     "metadata": {},
     "output_type": "display_data"
    },
    {
     "name": "stdout",
     "output_type": "stream",
     "text": [
      "Running function: 2\n"
     ]
    },
    {
     "data": {
      "text/plain": "  0%|          | 0/96 [00:00<?, ?it/s]",
      "application/vnd.jupyter.widget-view+json": {
       "version_major": 2,
       "version_minor": 0,
       "model_id": "dfd604732c9b436a8bf4e1063504f8f0"
      }
     },
     "metadata": {},
     "output_type": "display_data"
    },
    {
     "name": "stdout",
     "output_type": "stream",
     "text": [
      "Running function: 3\n"
     ]
    },
    {
     "data": {
      "text/plain": "  0%|          | 0/96 [00:00<?, ?it/s]",
      "application/vnd.jupyter.widget-view+json": {
       "version_major": 2,
       "version_minor": 0,
       "model_id": "ca2318dd9eba4047b6b164e25ed87d31"
      }
     },
     "metadata": {},
     "output_type": "display_data"
    },
    {
     "name": "stdout",
     "output_type": "stream",
     "text": [
      "Running function: 4\n"
     ]
    },
    {
     "data": {
      "text/plain": "  0%|          | 0/96 [00:00<?, ?it/s]",
      "application/vnd.jupyter.widget-view+json": {
       "version_major": 2,
       "version_minor": 0,
       "model_id": "813227502fce4be9ac3623b7d0afa110"
      }
     },
     "metadata": {},
     "output_type": "display_data"
    }
   ],
   "source": [
    "functions = [\n",
    "    #lambda x: hybrid(x, \"kmeans\"),\n",
    "    lambda x: hybrid(x, \"affinity\", dr=True),\n",
    "    lambda x: hybrid(x, \"hierarchical\",dr=True),\n",
    "    lambda x: hybrid(x, \"spectral\",dr=True),\n",
    "    lambda x: hybrid(x, \"random\",dr=True)\n",
    "]\n",
    "multi_runner(functions)"
   ],
   "metadata": {
    "collapsed": false
   }
  },
  {
   "cell_type": "markdown",
   "source": [],
   "metadata": {
    "collapsed": false
   }
  }
 ],
 "metadata": {
  "kernelspec": {
   "display_name": "Python 3",
   "language": "python",
   "name": "python3"
  },
  "language_info": {
   "codemirror_mode": {
    "name": "ipython",
    "version": 2
   },
   "file_extension": ".py",
   "mimetype": "text/x-python",
   "name": "python",
   "nbconvert_exporter": "python",
   "pygments_lexer": "ipython2",
   "version": "2.7.6"
  }
 },
 "nbformat": 4,
 "nbformat_minor": 0
}
