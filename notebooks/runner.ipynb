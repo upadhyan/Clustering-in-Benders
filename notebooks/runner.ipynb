{
 "cells": [
  {
   "cell_type": "code",
   "execution_count": 1,
   "metadata": {
    "collapsed": true
   },
   "outputs": [],
   "source": [
    "import os\n",
    "import pandas as pd\n",
    "if os.name == 'nt':\n",
    "    os.environ[\"OMP_NUM_THREADS\"] = '2'\n",
    "import warnings\n",
    "warnings.filterwarnings('ignore')\n",
    "import sys\n",
    "sys.path.append('../')\n",
    "from utiliT.io import read_pickle, dump_pickle\n",
    "from scripts.instance import *\n",
    "from scripts.benders import *\n",
    "import gc\n",
    "from tqdm.notebook import tqdm"
   ]
  },
  {
   "cell_type": "code",
   "execution_count": null,
   "outputs": [],
   "source": [
    "file_name = f\"../data/multipeak_100_100_400.pkl\"\n",
    "instance = read_pickle(file_name)\n",
    "results = single_cut(instance)"
   ],
   "metadata": {
    "collapsed": false
   }
  },
  {
   "cell_type": "code",
   "execution_count": null,
   "outputs": [],
   "source": [
    "results"
   ],
   "metadata": {
    "collapsed": false
   }
  },
  {
   "cell_type": "code",
   "execution_count": null,
   "outputs": [],
   "source": [
    "def runner(function, files = None):\n",
    "    bad_instances = []\n",
    "    if files is None:\n",
    "        files = os.listdir(\"../data\")\n",
    "    for file in tqdm(files):\n",
    "        instance_name = file[:-4]\n",
    "        instance = read_pickle(f\"../data/{file}\")\n",
    "        try:\n",
    "            result = function(instance)\n",
    "            result['instance_name'] = instance_name\n",
    "            file_name = f\"../results/run_results/{result['instance_name']}_{result['method']}.pkl\"\n",
    "            dump_pickle(result, file_name)\n",
    "            del result\n",
    "            gc.collect()\n",
    "        except Exception as e:\n",
    "            bad_instances.append(file)\n",
    "            print(file)\n",
    "            print(e)"
   ],
   "metadata": {
    "collapsed": false
   }
  },
  {
   "cell_type": "code",
   "execution_count": null,
   "outputs": [],
   "source": [
    "def multi_runner(functions, files = None):\n",
    "    print(f\"Running {len(functions)} functions\")\n",
    "    i = 1\n",
    "    for function in functions:\n",
    "        print(f\"Running function: {i}\")\n",
    "        i = i + 1\n",
    "        runner(function, files=files)\n",
    "        gc.collect()"
   ],
   "metadata": {
    "collapsed": false
   }
  },
  {
   "cell_type": "code",
   "execution_count": null,
   "outputs": [],
   "source": [
    "def clean_results(terms):\n",
    "    for term in terms:\n",
    "        files = os.listdir(\"../results/run_results\")\n",
    "        deleting = [x for x in files if term in x]\n",
    "        for f in deleting:\n",
    "            os.remove(f\"../results/run_results/{f}\")"
   ],
   "metadata": {
    "collapsed": false
   }
  },
  {
   "cell_type": "code",
   "execution_count": null,
   "outputs": [],
   "source": [
    "functions = [\n",
    "    lambda x: dropout_cut(x, \"kmeans\"),\n",
    "    lambda x: dropout_cut(x, \"affinity\"),\n",
    "    lambda x: dropout_cut(x, \"hierarchical\"),\n",
    "    lambda x: dropout_cut(x, \"spectral\"),\n",
    "    lambda x: dropout_cut(x, \"random\"),\n",
    "    multi_cut,\n",
    "    single_cut\n",
    "]\n",
    "multi_runner(functions)"
   ],
   "metadata": {
    "collapsed": false
   }
  },
  {
   "cell_type": "code",
   "execution_count": null,
   "outputs": [],
   "source": [
    "functions = [\n",
    "    lambda x: hybrid(x, \"kmeans\"),\n",
    "    lambda x: hybrid(x, \"affinity\"),\n",
    "    lambda x: hybrid(x, \"hierarchical\"),\n",
    "    lambda x: hybrid(x, \"spectral\"),\n",
    "    lambda x: hybrid(x, \"random\"),\n",
    "]\n",
    "multi_runner(functions)"
   ],
   "metadata": {
    "collapsed": false
   }
  },
  {
   "cell_type": "code",
   "execution_count": null,
   "outputs": [],
   "source": [
    "functions = [\n",
    "    lambda x: dropout_cut(x, \"kmeans\", dr = True),\n",
    "    lambda x: dropout_cut(x, \"affinity\", dr = True),\n",
    "    lambda x: dropout_cut(x, \"hierarchical\", dr = True),\n",
    "    lambda x: dropout_cut(x, \"spectral\", dr = True),\n",
    "    lambda x: dropout_cut(x, \"random\", dr = True),\n",
    "    lambda x: hybrid(x, \"kmeans\", dr = True),\n",
    "    lambda x: hybrid(x, \"affinity\", dr = True),\n",
    "    lambda x: hybrid(x, \"hierarchical\", dr = True),\n",
    "    lambda x: hybrid(x, \"spectral\", dr = True),\n",
    "    lambda x: hybrid(x, \"random\", dr = True)\n",
    "]\n",
    "multi_runner(functions)"
   ],
   "metadata": {
    "collapsed": false
   }
  },
  {
   "cell_type": "code",
   "execution_count": 3,
   "outputs": [
    {
     "data": {
      "text/plain": "  0%|          | 0/192 [00:00<?, ?it/s]",
      "application/vnd.jupyter.widget-view+json": {
       "version_major": 2,
       "version_minor": 0,
       "model_id": "0596078be7034db7bab662e28830d669"
      }
     },
     "metadata": {},
     "output_type": "display_data"
    }
   ],
   "source": [
    "files = os.listdir(\"../data\")\n",
    "dicts = []\n",
    "for i, file in enumerate(tqdm(files)):\n",
    "    instance = read_pickle(f\"../data/{file}\")\n",
    "    methods = ['kmeans','affinity','hierarchical','spectral','random']\n",
    "    for method in methods:\n",
    "        t1 = time.time()\n",
    "        res = clustering_scenarios(instance, method, dr = False)\n",
    "        t2 = time.time()\n",
    "        result = {\n",
    "            \"group_method\": method,\n",
    "            \"dr\": False,\n",
    "            \"clust_runtime\": t2 - t1,\n",
    "            \"n1\": instance.s1_n_var,\n",
    "            \"n2\": instance.s2_n_var,\n",
    "            \"k\": instance.k,\n",
    "            \"distribution\": instance.distribution\n",
    "        }\n",
    "        dicts.append(result)\n",
    "        t3 = time.time()\n",
    "        res = clustering_scenarios(instance, method, dr = True)\n",
    "        t4 = time.time()\n",
    "        result = {\n",
    "            \"group_method\": method,\n",
    "            \"dr\": True,\n",
    "            \"clust_runtime\": t4 - t3,\n",
    "            \"n1\": instance.s1_n_var,\n",
    "            \"n2\": instance.s2_n_var,\n",
    "            \"k\": instance.k,\n",
    "            \"distribution\": instance.distribution\n",
    "        }\n",
    "        dicts.append(result)\n",
    "all_results = pd.DataFrame(dicts)\n",
    "all_results.to_csv('../results/compiled_results/clustering_info.csv')"
   ],
   "metadata": {
    "collapsed": false
   }
  },
  {
   "cell_type": "markdown",
   "source": [],
   "metadata": {
    "collapsed": false
   }
  }
 ],
 "metadata": {
  "kernelspec": {
   "display_name": "Python 3",
   "language": "python",
   "name": "python3"
  },
  "language_info": {
   "codemirror_mode": {
    "name": "ipython",
    "version": 2
   },
   "file_extension": ".py",
   "mimetype": "text/x-python",
   "name": "python",
   "nbconvert_exporter": "python",
   "pygments_lexer": "ipython2",
   "version": "2.7.6"
  }
 },
 "nbformat": 4,
 "nbformat_minor": 0
}
