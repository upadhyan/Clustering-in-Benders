{
 "cells": [
  {
   "cell_type": "code",
   "execution_count": 1,
   "metadata": {
    "collapsed": true
   },
   "outputs": [],
   "source": [
    "import os\n",
    "import pandas as pd\n",
    "if os.name == 'nt':\n",
    "    os.environ[\"OMP_NUM_THREADS\"] = '2'\n",
    "import warnings\n",
    "warnings.filterwarnings('ignore')\n",
    "import sys\n",
    "sys.path.append('../')\n",
    "from utiliT.io import read_pickle, dump_pickle\n",
    "from scripts.instance import *\n",
    "from scripts.benders import *\n",
    "import gc\n",
    "from tqdm.notebook import tqdm, trange"
   ]
  },
  {
   "cell_type": "code",
   "execution_count": 3,
   "outputs": [
    {
     "data": {
      "text/plain": "'../results/run_results/multipeak_200_200_400_multi_None_None_1.pkl'"
     },
     "execution_count": 3,
     "metadata": {},
     "output_type": "execute_result"
    }
   ],
   "source": [
    "file = \"multipeak_200_200_400.pkl\"\n",
    "file_name = f\"../data/{file}\"\n",
    "instance = read_pickle(file_name)\n",
    "results = multi_cut(instance)\n",
    "results['instance_name'] = file[:-4]\n",
    "f\"../results/run_results/{results['instance_name']}_{results['cut_method']}_{results['grouping_method']}_\" \\\n",
    "f\"{results['dr']}_{1}.pkl\""
   ],
   "metadata": {
    "collapsed": false
   }
  },
  {
   "cell_type": "code",
   "execution_count": 4,
   "outputs": [
    {
     "data": {
      "text/plain": "'../results/run_results/multipeak_100_100_100_single_None_None_1.pkl'"
     },
     "execution_count": 4,
     "metadata": {},
     "output_type": "execute_result"
    }
   ],
   "source": [
    "file = \"multipeak_100_100_100.pkl\"\n",
    "file_name = f\"../data/{file}\"\n",
    "instance = read_pickle(file_name)\n",
    "results = single_cut(instance)\n",
    "results['instance_name'] = file[:-4]\n",
    "f\"../results/run_results/{results['instance_name']}_{results['cut_method']}_{results['grouping_method']}_\" \\\n",
    "f\"{results['dr']}_{1}.pkl\""
   ],
   "metadata": {
    "collapsed": false
   }
  },
  {
   "cell_type": "code",
   "execution_count": 5,
   "outputs": [
    {
     "data": {
      "text/plain": "'../results/run_results/multipeak_200_200_400_dropout_affinity_False_1.pkl'"
     },
     "execution_count": 5,
     "metadata": {},
     "output_type": "execute_result"
    }
   ],
   "source": [
    "file = \"multipeak_200_200_400.pkl\"\n",
    "file_name = f\"../data/{file}\"\n",
    "instance = read_pickle(file_name)\n",
    "results = dropout_cut(instance, \"affinity\")\n",
    "results['instance_name'] = file[:-4]\n",
    "f\"../results/run_results/{results['instance_name']}_{results['cut_method']}_{results['grouping_method']}_\" \\\n",
    "f\"{results['dr']}_{1}.pkl\""
   ],
   "metadata": {
    "collapsed": false
   }
  },
  {
   "cell_type": "code",
   "execution_count": 6,
   "outputs": [
    {
     "data": {
      "text/plain": "'../results/run_results/multipeak_200_200_400_hybrid_affinity_False_1.pkl'"
     },
     "execution_count": 6,
     "metadata": {},
     "output_type": "execute_result"
    }
   ],
   "source": [
    "file = \"multipeak_200_200_400.pkl\"\n",
    "file_name = f\"../data/{file}\"\n",
    "instance = read_pickle(file_name)\n",
    "results = hybrid(instance, \"affinity\")\n",
    "results['instance_name'] = file[:-4]\n",
    "f\"../results/run_results/{results['instance_name']}_{results['cut_method']}_{results['grouping_method']}_\" \\\n",
    "f\"{results['dr']}_{1}.pkl\""
   ],
   "metadata": {
    "collapsed": false
   }
  },
  {
   "cell_type": "code",
   "execution_count": 7,
   "outputs": [],
   "source": [
    "def runner(function, files = None, n_seeds = 3):\n",
    "    bad_instances = []\n",
    "    if files is None:\n",
    "        files = os.listdir(\"../data\")\n",
    "    for file in tqdm(files):\n",
    "        for seed in range(n_seeds):\n",
    "            instance_name = file[:-4]\n",
    "            instance = read_pickle(f\"../data/{file}\")\n",
    "            try:\n",
    "                result = function(instance)\n",
    "                result['instance_name'] = instance_name\n",
    "                result['run_number'] = seed\n",
    "                file_name = f\"../results/run_results/{result['instance_name']}_{result['cut_method']}_{result['grouping_method']}_\" \\\n",
    "                            f\"{result['dr']}_{seed}.pkl\"\n",
    "                dump_pickle(result, file_name)\n",
    "                del result\n",
    "                gc.collect()\n",
    "            except Exception as e:\n",
    "                bad_instances.append(file)\n",
    "                print(file)\n",
    "                print(e)\n"
   ],
   "metadata": {
    "collapsed": false
   }
  },
  {
   "cell_type": "code",
   "execution_count": 8,
   "outputs": [],
   "source": [
    "def multi_runner(functions, files = None):\n",
    "    print(f\"Running {len(functions)} functions\")\n",
    "    i = 1\n",
    "    for function in functions:\n",
    "        print(f\"Running function: {i}\")\n",
    "        i = i + 1\n",
    "        runner(function, files=files)\n",
    "        gc.collect()"
   ],
   "metadata": {
    "collapsed": false
   }
  },
  {
   "cell_type": "code",
   "execution_count": 9,
   "outputs": [],
   "source": [
    "def clean_results(terms):\n",
    "    for term in terms:\n",
    "        files = os.listdir(\"../results/run_results\")\n",
    "        deleting = [x for x in files if term in x]\n",
    "        for f in deleting:\n",
    "            os.remove(f\"../results/run_results/{f}\")"
   ],
   "metadata": {
    "collapsed": false
   }
  },
  {
   "cell_type": "code",
   "execution_count": 10,
   "outputs": [
    {
     "name": "stdout",
     "output_type": "stream",
     "text": [
      "Running 7 functions\n",
      "Running function: 1\n"
     ]
    },
    {
     "data": {
      "text/plain": "  0%|          | 0/96 [00:00<?, ?it/s]",
      "application/vnd.jupyter.widget-view+json": {
       "version_major": 2,
       "version_minor": 0,
       "model_id": "856e8723d4ae4b999ccbd46029cf4c77"
      }
     },
     "metadata": {},
     "output_type": "display_data"
    },
    {
     "name": "stdout",
     "output_type": "stream",
     "text": [
      "Running function: 2\n"
     ]
    },
    {
     "data": {
      "text/plain": "  0%|          | 0/96 [00:00<?, ?it/s]",
      "application/vnd.jupyter.widget-view+json": {
       "version_major": 2,
       "version_minor": 0,
       "model_id": "0ddd0db550b9483ba9f0445b720f24b4"
      }
     },
     "metadata": {},
     "output_type": "display_data"
    },
    {
     "name": "stdout",
     "output_type": "stream",
     "text": [
      "multipeak_100_100_100.pkl\n",
      "index 0 is out of bounds for axis 0 with size 0\n",
      "multipeak_100_100_100.pkl\n",
      "index 0 is out of bounds for axis 0 with size 0\n",
      "multipeak_100_100_100.pkl\n",
      "index 0 is out of bounds for axis 0 with size 0\n",
      "multipeak_100_200_400.pkl\n",
      "index 0 is out of bounds for axis 0 with size 0\n",
      "multipeak_100_200_400.pkl\n",
      "index 0 is out of bounds for axis 0 with size 0\n",
      "multipeak_100_200_400.pkl\n",
      "index 0 is out of bounds for axis 0 with size 0\n",
      "multipeak_150_100_200.pkl\n",
      "index 0 is out of bounds for axis 0 with size 0\n",
      "multipeak_150_100_200.pkl\n",
      "index 0 is out of bounds for axis 0 with size 0\n",
      "multipeak_150_100_200.pkl\n",
      "index 0 is out of bounds for axis 0 with size 0\n",
      "multipeak_150_100_300.pkl\n",
      "index 0 is out of bounds for axis 0 with size 0\n",
      "multipeak_150_100_300.pkl\n",
      "index 0 is out of bounds for axis 0 with size 0\n",
      "multipeak_150_100_300.pkl\n",
      "index 0 is out of bounds for axis 0 with size 0\n",
      "multipeak_150_200_200.pkl\n",
      "index 0 is out of bounds for axis 0 with size 0\n",
      "multipeak_150_200_200.pkl\n",
      "index 0 is out of bounds for axis 0 with size 0\n",
      "multipeak_150_200_200.pkl\n",
      "index 0 is out of bounds for axis 0 with size 0\n",
      "multipeak_200_150_100.pkl\n",
      "index 0 is out of bounds for axis 0 with size 0\n",
      "multipeak_200_150_100.pkl\n",
      "index 0 is out of bounds for axis 0 with size 0\n",
      "multipeak_200_150_100.pkl\n",
      "index 0 is out of bounds for axis 0 with size 0\n",
      "multipeak_200_50_300.pkl\n",
      "index 0 is out of bounds for axis 0 with size 0\n",
      "multipeak_200_50_300.pkl\n",
      "index 0 is out of bounds for axis 0 with size 0\n",
      "multipeak_200_50_300.pkl\n",
      "index 0 is out of bounds for axis 0 with size 0\n",
      "multipeak_50_150_400.pkl\n",
      "index 0 is out of bounds for axis 0 with size 0\n",
      "multipeak_50_150_400.pkl\n",
      "index 0 is out of bounds for axis 0 with size 0\n",
      "multipeak_50_150_400.pkl\n",
      "index 0 is out of bounds for axis 0 with size 0\n",
      "multipeak_50_200_400.pkl\n",
      "index 0 is out of bounds for axis 0 with size 0\n",
      "multipeak_50_200_400.pkl\n",
      "index 0 is out of bounds for axis 0 with size 0\n",
      "multipeak_50_200_400.pkl\n",
      "index 0 is out of bounds for axis 0 with size 0\n",
      "normal_100_100_200.pkl\n",
      "index 0 is out of bounds for axis 0 with size 0\n",
      "normal_100_100_200.pkl\n",
      "index 0 is out of bounds for axis 0 with size 0\n",
      "normal_100_100_200.pkl\n",
      "index 0 is out of bounds for axis 0 with size 0\n",
      "normal_100_50_200.pkl\n",
      "index 0 is out of bounds for axis 0 with size 0\n",
      "normal_100_50_200.pkl\n",
      "index 0 is out of bounds for axis 0 with size 0\n",
      "normal_100_50_200.pkl\n",
      "index 0 is out of bounds for axis 0 with size 0\n",
      "normal_50_50_400.pkl\n",
      "index 0 is out of bounds for axis 0 with size 0\n",
      "normal_50_50_400.pkl\n",
      "index 0 is out of bounds for axis 0 with size 0\n",
      "normal_50_50_400.pkl\n",
      "index 0 is out of bounds for axis 0 with size 0\n",
      "Running function: 3\n"
     ]
    },
    {
     "data": {
      "text/plain": "  0%|          | 0/96 [00:00<?, ?it/s]",
      "application/vnd.jupyter.widget-view+json": {
       "version_major": 2,
       "version_minor": 0,
       "model_id": "e856269c5d4a4612bfe064267266cedf"
      }
     },
     "metadata": {},
     "output_type": "display_data"
    },
    {
     "name": "stdout",
     "output_type": "stream",
     "text": [
      "Running function: 4\n"
     ]
    },
    {
     "data": {
      "text/plain": "  0%|          | 0/96 [00:00<?, ?it/s]",
      "application/vnd.jupyter.widget-view+json": {
       "version_major": 2,
       "version_minor": 0,
       "model_id": "e668b284b1184ef5ac742d5c40139afe"
      }
     },
     "metadata": {},
     "output_type": "display_data"
    },
    {
     "name": "stdout",
     "output_type": "stream",
     "text": [
      "Running function: 5\n"
     ]
    },
    {
     "data": {
      "text/plain": "  0%|          | 0/96 [00:00<?, ?it/s]",
      "application/vnd.jupyter.widget-view+json": {
       "version_major": 2,
       "version_minor": 0,
       "model_id": "2740955a5f27472c9deb0de3db2e4723"
      }
     },
     "metadata": {},
     "output_type": "display_data"
    },
    {
     "name": "stdout",
     "output_type": "stream",
     "text": [
      "multipeak_100_200_300.pkl\n",
      "17\n",
      "multipeak_100_50_100.pkl\n",
      "3\n",
      "multipeak_150_100_100.pkl\n",
      "6\n",
      "multipeak_150_100_100.pkl\n",
      "15\n",
      "multipeak_150_150_400.pkl\n",
      "14\n",
      "multipeak_150_50_400.pkl\n",
      "36\n",
      "multipeak_200_150_300.pkl\n",
      "36\n",
      "multipeak_200_200_300.pkl\n",
      "2\n",
      "multipeak_200_50_300.pkl\n",
      "20\n",
      "multipeak_50_150_300.pkl\n",
      "16\n",
      "normal_100_200_300.pkl\n",
      "52\n",
      "normal_50_100_400.pkl\n",
      "5\n",
      "normal_50_50_300.pkl\n",
      "46\n",
      "Running function: 6\n"
     ]
    },
    {
     "data": {
      "text/plain": "  0%|          | 0/96 [00:00<?, ?it/s]",
      "application/vnd.jupyter.widget-view+json": {
       "version_major": 2,
       "version_minor": 0,
       "model_id": "e7e6db3699734db5aa99b332045a083c"
      }
     },
     "metadata": {},
     "output_type": "display_data"
    },
    {
     "name": "stdout",
     "output_type": "stream",
     "text": [
      "Running function: 7\n"
     ]
    },
    {
     "data": {
      "text/plain": "  0%|          | 0/96 [00:00<?, ?it/s]",
      "application/vnd.jupyter.widget-view+json": {
       "version_major": 2,
       "version_minor": 0,
       "model_id": "2a0fe4d4ada84e43abd2a30fd6c6a008"
      }
     },
     "metadata": {},
     "output_type": "display_data"
    }
   ],
   "source": [
    "functions = [\n",
    "    lambda x: dropout_cut(x, \"spectral\"), # Good\n",
    "    lambda x: dropout_cut(x, \"affinity\"), # Bad <- Rerun\n",
    "    lambda x: dropout_cut(x, \"hierarchical\"), # Good\n",
    "    lambda x: dropout_cut(x, \"kmeans\"), # Bad <- Rerun\n",
    "    lambda x: dropout_cut(x, \"random\"), # Bad Rerun\n",
    "    multi_cut,\n",
    "    single_cut\n",
    "]\n",
    "multi_runner(functions)"
   ],
   "metadata": {
    "collapsed": false
   }
  },
  {
   "cell_type": "code",
   "execution_count": null,
   "outputs": [],
   "source": [
    "functions = [\n",
    "    lambda x: dropout_cut(x, \"affinity\"), # Bad <- Rerun\n",
    "    lambda x: dropout_cut(x, \"random\"), # Bad Rerun\n",
    "]\n",
    "multi_runner(functions)"
   ],
   "metadata": {
    "collapsed": false
   }
  },
  {
   "cell_type": "code",
   "execution_count": 11,
   "outputs": [
    {
     "name": "stdout",
     "output_type": "stream",
     "text": [
      "Running 5 functions\n",
      "Running function: 1\n"
     ]
    },
    {
     "data": {
      "text/plain": "  0%|          | 0/96 [00:00<?, ?it/s]",
      "application/vnd.jupyter.widget-view+json": {
       "version_major": 2,
       "version_minor": 0,
       "model_id": "e036b8b3de3341d59cd8430ff0e025cb"
      }
     },
     "metadata": {},
     "output_type": "display_data"
    },
    {
     "name": "stdout",
     "output_type": "stream",
     "text": [
      "Running function: 2\n"
     ]
    },
    {
     "data": {
      "text/plain": "  0%|          | 0/96 [00:00<?, ?it/s]",
      "application/vnd.jupyter.widget-view+json": {
       "version_major": 2,
       "version_minor": 0,
       "model_id": "a2eabbc885c14f44a5a46758705b36cc"
      }
     },
     "metadata": {},
     "output_type": "display_data"
    },
    {
     "ename": "KeyboardInterrupt",
     "evalue": "",
     "output_type": "error",
     "traceback": [
      "\u001B[1;31m---------------------------------------------------------------------------\u001B[0m",
      "\u001B[1;31mKeyboardInterrupt\u001B[0m                         Traceback (most recent call last)",
      "\u001B[1;32m~\\AppData\\Local\\Temp\\ipykernel_5832\\488289244.py\u001B[0m in \u001B[0;36m<module>\u001B[1;34m\u001B[0m\n\u001B[0;32m      6\u001B[0m     \u001B[1;32mlambda\u001B[0m \u001B[0mx\u001B[0m\u001B[1;33m:\u001B[0m \u001B[0mhybrid\u001B[0m\u001B[1;33m(\u001B[0m\u001B[0mx\u001B[0m\u001B[1;33m,\u001B[0m \u001B[1;34m\"random\"\u001B[0m\u001B[1;33m)\u001B[0m\u001B[1;33m\u001B[0m\u001B[1;33m\u001B[0m\u001B[0m\n\u001B[0;32m      7\u001B[0m ]\n\u001B[1;32m----> 8\u001B[1;33m \u001B[0mmulti_runner\u001B[0m\u001B[1;33m(\u001B[0m\u001B[0mfunctions\u001B[0m\u001B[1;33m)\u001B[0m\u001B[1;33m\u001B[0m\u001B[1;33m\u001B[0m\u001B[0m\n\u001B[0m",
      "\u001B[1;32m~\\AppData\\Local\\Temp\\ipykernel_5832\\285691191.py\u001B[0m in \u001B[0;36mmulti_runner\u001B[1;34m(functions, files)\u001B[0m\n\u001B[0;32m      5\u001B[0m         \u001B[0mprint\u001B[0m\u001B[1;33m(\u001B[0m\u001B[1;34mf\"Running function: {i}\"\u001B[0m\u001B[1;33m)\u001B[0m\u001B[1;33m\u001B[0m\u001B[1;33m\u001B[0m\u001B[0m\n\u001B[0;32m      6\u001B[0m         \u001B[0mi\u001B[0m \u001B[1;33m=\u001B[0m \u001B[0mi\u001B[0m \u001B[1;33m+\u001B[0m \u001B[1;36m1\u001B[0m\u001B[1;33m\u001B[0m\u001B[1;33m\u001B[0m\u001B[0m\n\u001B[1;32m----> 7\u001B[1;33m         \u001B[0mrunner\u001B[0m\u001B[1;33m(\u001B[0m\u001B[0mfunction\u001B[0m\u001B[1;33m,\u001B[0m \u001B[0mfiles\u001B[0m\u001B[1;33m=\u001B[0m\u001B[0mfiles\u001B[0m\u001B[1;33m)\u001B[0m\u001B[1;33m\u001B[0m\u001B[1;33m\u001B[0m\u001B[0m\n\u001B[0m\u001B[0;32m      8\u001B[0m         \u001B[0mgc\u001B[0m\u001B[1;33m.\u001B[0m\u001B[0mcollect\u001B[0m\u001B[1;33m(\u001B[0m\u001B[1;33m)\u001B[0m\u001B[1;33m\u001B[0m\u001B[1;33m\u001B[0m\u001B[0m\n",
      "\u001B[1;32m~\\AppData\\Local\\Temp\\ipykernel_5832\\1269712393.py\u001B[0m in \u001B[0;36mrunner\u001B[1;34m(function, files, n_seeds)\u001B[0m\n\u001B[0;32m      8\u001B[0m             \u001B[0minstance\u001B[0m \u001B[1;33m=\u001B[0m \u001B[0mread_pickle\u001B[0m\u001B[1;33m(\u001B[0m\u001B[1;34mf\"../data/{file}\"\u001B[0m\u001B[1;33m)\u001B[0m\u001B[1;33m\u001B[0m\u001B[1;33m\u001B[0m\u001B[0m\n\u001B[0;32m      9\u001B[0m             \u001B[1;32mtry\u001B[0m\u001B[1;33m:\u001B[0m\u001B[1;33m\u001B[0m\u001B[1;33m\u001B[0m\u001B[0m\n\u001B[1;32m---> 10\u001B[1;33m                 \u001B[0mresult\u001B[0m \u001B[1;33m=\u001B[0m \u001B[0mfunction\u001B[0m\u001B[1;33m(\u001B[0m\u001B[0minstance\u001B[0m\u001B[1;33m)\u001B[0m\u001B[1;33m\u001B[0m\u001B[1;33m\u001B[0m\u001B[0m\n\u001B[0m\u001B[0;32m     11\u001B[0m                 \u001B[0mresult\u001B[0m\u001B[1;33m[\u001B[0m\u001B[1;34m'instance_name'\u001B[0m\u001B[1;33m]\u001B[0m \u001B[1;33m=\u001B[0m \u001B[0minstance_name\u001B[0m\u001B[1;33m\u001B[0m\u001B[1;33m\u001B[0m\u001B[0m\n\u001B[0;32m     12\u001B[0m                 \u001B[0mresult\u001B[0m\u001B[1;33m[\u001B[0m\u001B[1;34m'run_number'\u001B[0m\u001B[1;33m]\u001B[0m \u001B[1;33m=\u001B[0m \u001B[0mseed\u001B[0m\u001B[1;33m\u001B[0m\u001B[1;33m\u001B[0m\u001B[0m\n",
      "\u001B[1;32m~\\AppData\\Local\\Temp\\ipykernel_5832\\488289244.py\u001B[0m in \u001B[0;36m<lambda>\u001B[1;34m(x)\u001B[0m\n\u001B[0;32m      1\u001B[0m functions = [\n\u001B[0;32m      2\u001B[0m     \u001B[1;32mlambda\u001B[0m \u001B[0mx\u001B[0m\u001B[1;33m:\u001B[0m \u001B[0mhybrid\u001B[0m\u001B[1;33m(\u001B[0m\u001B[0mx\u001B[0m\u001B[1;33m,\u001B[0m \u001B[1;34m\"kmeans\"\u001B[0m\u001B[1;33m)\u001B[0m\u001B[1;33m,\u001B[0m\u001B[1;33m\u001B[0m\u001B[1;33m\u001B[0m\u001B[0m\n\u001B[1;32m----> 3\u001B[1;33m     \u001B[1;32mlambda\u001B[0m \u001B[0mx\u001B[0m\u001B[1;33m:\u001B[0m \u001B[0mhybrid\u001B[0m\u001B[1;33m(\u001B[0m\u001B[0mx\u001B[0m\u001B[1;33m,\u001B[0m \u001B[1;34m\"affinity\"\u001B[0m\u001B[1;33m)\u001B[0m\u001B[1;33m,\u001B[0m\u001B[1;33m\u001B[0m\u001B[1;33m\u001B[0m\u001B[0m\n\u001B[0m\u001B[0;32m      4\u001B[0m     \u001B[1;32mlambda\u001B[0m \u001B[0mx\u001B[0m\u001B[1;33m:\u001B[0m \u001B[0mhybrid\u001B[0m\u001B[1;33m(\u001B[0m\u001B[0mx\u001B[0m\u001B[1;33m,\u001B[0m \u001B[1;34m\"hierarchical\"\u001B[0m\u001B[1;33m)\u001B[0m\u001B[1;33m,\u001B[0m\u001B[1;33m\u001B[0m\u001B[1;33m\u001B[0m\u001B[0m\n\u001B[0;32m      5\u001B[0m     \u001B[1;32mlambda\u001B[0m \u001B[0mx\u001B[0m\u001B[1;33m:\u001B[0m \u001B[0mhybrid\u001B[0m\u001B[1;33m(\u001B[0m\u001B[0mx\u001B[0m\u001B[1;33m,\u001B[0m \u001B[1;34m\"spectral\"\u001B[0m\u001B[1;33m)\u001B[0m\u001B[1;33m,\u001B[0m\u001B[1;33m\u001B[0m\u001B[1;33m\u001B[0m\u001B[0m\n",
      "\u001B[1;32m~\\Documents\\Clustering-in-Benders\\notebooks\\..\\scripts\\benders.py\u001B[0m in \u001B[0;36mhybrid\u001B[1;34m(problem, method, dr)\u001B[0m\n\u001B[0;32m    518\u001B[0m                     \u001B[0mcut_found\u001B[0m \u001B[1;33m=\u001B[0m \u001B[1;32mTrue\u001B[0m\u001B[1;33m\u001B[0m\u001B[1;33m\u001B[0m\u001B[0m\n\u001B[0;32m    519\u001B[0m                     MP.addConstr(\n\u001B[1;32m--> 520\u001B[1;33m                         \u001B[0mtheta\u001B[0m\u001B[1;33m[\u001B[0m\u001B[0mi\u001B[0m\u001B[1;33m]\u001B[0m \u001B[1;33m<=\u001B[0m \u001B[0mp1\u001B[0m \u001B[1;33m-\u001B[0m \u001B[0mgp\u001B[0m\u001B[1;33m.\u001B[0m\u001B[0mquicksum\u001B[0m\u001B[1;33m(\u001B[0m\u001B[0mp2\u001B[0m\u001B[1;33m[\u001B[0m\u001B[0ma\u001B[0m\u001B[1;33m]\u001B[0m \u001B[1;33m*\u001B[0m \u001B[0mx\u001B[0m\u001B[1;33m[\u001B[0m\u001B[0ma\u001B[0m\u001B[1;33m]\u001B[0m \u001B[1;32mfor\u001B[0m \u001B[0ma\u001B[0m \u001B[1;32min\u001B[0m \u001B[0mrange\u001B[0m\u001B[1;33m(\u001B[0m\u001B[0mproblem\u001B[0m\u001B[1;33m.\u001B[0m\u001B[0ms1_n_var\u001B[0m\u001B[1;33m)\u001B[0m\u001B[1;33m)\u001B[0m\u001B[1;33m\u001B[0m\u001B[1;33m\u001B[0m\u001B[0m\n\u001B[0m\u001B[0;32m    521\u001B[0m                     )\n\u001B[0;32m    522\u001B[0m                     \u001B[0mn_cuts\u001B[0m \u001B[1;33m=\u001B[0m \u001B[0mn_cuts\u001B[0m \u001B[1;33m+\u001B[0m \u001B[1;36m1\u001B[0m\u001B[1;33m\u001B[0m\u001B[1;33m\u001B[0m\u001B[0m\n",
      "\u001B[1;32msrc\\gurobipy\\gurobi.pxi\u001B[0m in \u001B[0;36mgurobipy.quicksum\u001B[1;34m()\u001B[0m\n",
      "\u001B[1;32msrc\\gurobipy\\mlinexpr.pxi\u001B[0m in \u001B[0;36mgurobipy.MLinExpr.__iadd__\u001B[1;34m()\u001B[0m\n",
      "\u001B[1;32msrc\\gurobipy\\mlinexpr.pxi\u001B[0m in \u001B[0;36mgurobipy.MLinExpr._iadd_compact_mlinexpr\u001B[1;34m()\u001B[0m\n",
      "\u001B[1;32msrc\\gurobipy\\mlinexpr.pxi\u001B[0m in \u001B[0;36mgurobipy.MLinExpr._iadd_compact_mlinexpr_compact\u001B[1;34m()\u001B[0m\n",
      "\u001B[1;32m~\\anaconda3\\lib\\site-packages\\scipy\\sparse\\_data.py\u001B[0m in \u001B[0;36mcopy\u001B[1;34m(self)\u001B[0m\n\u001B[0;32m     90\u001B[0m \u001B[1;33m\u001B[0m\u001B[0m\n\u001B[0;32m     91\u001B[0m     \u001B[1;32mdef\u001B[0m \u001B[0mcopy\u001B[0m\u001B[1;33m(\u001B[0m\u001B[0mself\u001B[0m\u001B[1;33m)\u001B[0m\u001B[1;33m:\u001B[0m\u001B[1;33m\u001B[0m\u001B[1;33m\u001B[0m\u001B[0m\n\u001B[1;32m---> 92\u001B[1;33m         \u001B[1;32mreturn\u001B[0m \u001B[0mself\u001B[0m\u001B[1;33m.\u001B[0m\u001B[0m_with_data\u001B[0m\u001B[1;33m(\u001B[0m\u001B[0mself\u001B[0m\u001B[1;33m.\u001B[0m\u001B[0mdata\u001B[0m\u001B[1;33m.\u001B[0m\u001B[0mcopy\u001B[0m\u001B[1;33m(\u001B[0m\u001B[1;33m)\u001B[0m\u001B[1;33m,\u001B[0m \u001B[0mcopy\u001B[0m\u001B[1;33m=\u001B[0m\u001B[1;32mTrue\u001B[0m\u001B[1;33m)\u001B[0m\u001B[1;33m\u001B[0m\u001B[1;33m\u001B[0m\u001B[0m\n\u001B[0m\u001B[0;32m     93\u001B[0m \u001B[1;33m\u001B[0m\u001B[0m\n\u001B[0;32m     94\u001B[0m     \u001B[0mcopy\u001B[0m\u001B[1;33m.\u001B[0m\u001B[0m__doc__\u001B[0m \u001B[1;33m=\u001B[0m \u001B[0mspmatrix\u001B[0m\u001B[1;33m.\u001B[0m\u001B[0mcopy\u001B[0m\u001B[1;33m.\u001B[0m\u001B[0m__doc__\u001B[0m\u001B[1;33m\u001B[0m\u001B[1;33m\u001B[0m\u001B[0m\n",
      "\u001B[1;32m~\\anaconda3\\lib\\site-packages\\scipy\\sparse\\_compressed.py\u001B[0m in \u001B[0;36m_with_data\u001B[1;34m(self, data, copy)\u001B[0m\n\u001B[0;32m   1228\u001B[0m         \"\"\"\n\u001B[0;32m   1229\u001B[0m         \u001B[1;32mif\u001B[0m \u001B[0mcopy\u001B[0m\u001B[1;33m:\u001B[0m\u001B[1;33m\u001B[0m\u001B[1;33m\u001B[0m\u001B[0m\n\u001B[1;32m-> 1230\u001B[1;33m             return self.__class__((data, self.indices.copy(),\n\u001B[0m\u001B[0;32m   1231\u001B[0m                                    self.indptr.copy()),\n\u001B[0;32m   1232\u001B[0m                                   \u001B[0mshape\u001B[0m\u001B[1;33m=\u001B[0m\u001B[0mself\u001B[0m\u001B[1;33m.\u001B[0m\u001B[0mshape\u001B[0m\u001B[1;33m,\u001B[0m\u001B[1;33m\u001B[0m\u001B[1;33m\u001B[0m\u001B[0m\n",
      "\u001B[1;31mKeyboardInterrupt\u001B[0m: "
     ]
    }
   ],
   "source": [
    "functions = [\n",
    "    #lambda x: hybrid(x, \"kmeans\"),\n",
    "    lambda x: hybrid(x, \"affinity\"),\n",
    "    lambda x: hybrid(x, \"hierarchical\"),\n",
    "    lambda x: hybrid(x, \"spectral\"),\n",
    "    lambda x: hybrid(x, \"random\")\n",
    "]\n",
    "multi_runner(functions)"
   ],
   "metadata": {
    "collapsed": false
   }
  },
  {
   "cell_type": "markdown",
   "source": [],
   "metadata": {
    "collapsed": false
   }
  }
 ],
 "metadata": {
  "kernelspec": {
   "display_name": "Python 3",
   "language": "python",
   "name": "python3"
  },
  "language_info": {
   "codemirror_mode": {
    "name": "ipython",
    "version": 2
   },
   "file_extension": ".py",
   "mimetype": "text/x-python",
   "name": "python",
   "nbconvert_exporter": "python",
   "pygments_lexer": "ipython2",
   "version": "2.7.6"
  }
 },
 "nbformat": 4,
 "nbformat_minor": 0
}
