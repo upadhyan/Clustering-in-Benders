{
 "cells": [
  {
   "cell_type": "code",
   "execution_count": 1,
   "metadata": {
    "collapsed": true
   },
   "outputs": [],
   "source": [
    "import os\n",
    "import pandas as pd\n",
    "if os.name == 'nt':\n",
    "    os.environ[\"OMP_NUM_THREADS\"] = '2'\n",
    "import warnings\n",
    "warnings.filterwarnings('ignore')\n",
    "import sys\n",
    "sys.path.append('../')\n",
    "from utiliT.io import read_pickle, dump_pickle\n",
    "from scripts.instance import *\n",
    "from scripts.benders import *\n",
    "import gc\n",
    "from tqdm.notebook import tqdm"
   ]
  },
  {
   "cell_type": "code",
   "execution_count": 2,
   "outputs": [],
   "source": [
    "def runner(function, files = None):\n",
    "    bad_instances = []\n",
    "    if files is None:\n",
    "        files = os.listdir(\"../data\")\n",
    "    for file in tqdm(files):\n",
    "        instance_name = file[:-4]\n",
    "        instance = read_pickle(f\"../data/{file}\")\n",
    "        try:\n",
    "            result = function(instance)\n",
    "            result['instance_name'] = instance_name\n",
    "            file_name = f\"../results/{result['instance_name']}_{result['method']}.pkl\"\n",
    "            dump_pickle(result, file_name)\n",
    "            del result\n",
    "        except:\n",
    "            bad_instances.append(file)\n",
    "            print(file)\n",
    "        del result\n",
    "        gc.collect()"
   ],
   "metadata": {
    "collapsed": false
   }
  },
  {
   "cell_type": "code",
   "execution_count": 3,
   "outputs": [],
   "source": [
    "def multi_runner(functions, files = None):\n",
    "    print(f\"Running {len(functions)} functions\")\n",
    "    i = 1\n",
    "    for function in functions:\n",
    "        print(f\"Running function: {i}\")\n",
    "        i = i + 1\n",
    "        runner(function, files=files)\n",
    "        gc.collect()"
   ],
   "metadata": {
    "collapsed": false
   }
  },
  {
   "cell_type": "code",
   "execution_count": 4,
   "outputs": [],
   "source": [
    "def clean_results(terms):\n",
    "    for term in terms:\n",
    "        files = os.listdir(\"../results\")\n",
    "        deleting = [x for x in files if term in x]\n",
    "        for f in deleting:\n",
    "            os.remove(f\"../results/{f}\")"
   ],
   "metadata": {
    "collapsed": false
   }
  },
  {
   "cell_type": "code",
   "execution_count": 5,
   "outputs": [],
   "source": [
    "clean_results([\"dropout\", \"hybrid-cut\"])"
   ],
   "metadata": {
    "collapsed": false
   }
  },
  {
   "cell_type": "code",
   "execution_count": null,
   "outputs": [],
   "source": [
    "functions = [\n",
    "    lambda x: dropout_cut(x, \"kmeans\"),\n",
    "    lambda x: dropout_cut(x, \"affinity\"),\n",
    "    lambda x: dropout_cut(x, \"hierarchical\"),\n",
    "    lambda x: dropout_cut(x, \"spectral\"),\n",
    "    lambda x: dropout_cut(x, \"random\"),\n",
    "    lambda x: hybrid(x, \"kmeans\"),\n",
    "    lambda x: hybrid(x, \"affinity\"),\n",
    "    lambda x: hybrid(x, \"hierarchical\"),\n",
    "    lambda x: hybrid(x, \"spectral\"),\n",
    "    lambda x: hybrid(x, \"random\"),\n",
    "]\n",
    "multi_runner(functions)"
   ],
   "metadata": {
    "collapsed": false
   }
  },
  {
   "cell_type": "markdown",
   "source": [],
   "metadata": {
    "collapsed": false
   }
  },
  {
   "cell_type": "markdown",
   "source": [
    "TONIGHT: RUN EVERYTHING BELOW THIS"
   ],
   "metadata": {
    "collapsed": false
   }
  },
  {
   "cell_type": "markdown",
   "source": [],
   "metadata": {
    "collapsed": false
   }
  }
 ],
 "metadata": {
  "kernelspec": {
   "display_name": "Python 3",
   "language": "python",
   "name": "python3"
  },
  "language_info": {
   "codemirror_mode": {
    "name": "ipython",
    "version": 2
   },
   "file_extension": ".py",
   "mimetype": "text/x-python",
   "name": "python",
   "nbconvert_exporter": "python",
   "pygments_lexer": "ipython2",
   "version": "2.7.6"
  }
 },
 "nbformat": 4,
 "nbformat_minor": 0
}
