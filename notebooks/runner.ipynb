{
 "cells": [
  {
   "cell_type": "code",
   "execution_count": 1,
   "metadata": {
    "collapsed": true
   },
   "outputs": [],
   "source": [
    "import os\n",
    "import pandas as pd\n",
    "if os.name == 'nt':\n",
    "    os.environ[\"OMP_NUM_THREADS\"] = '2'\n",
    "import warnings\n",
    "warnings.filterwarnings('ignore')\n",
    "import sys\n",
    "sys.path.append('../')\n",
    "from utiliT.io import read_pickle, dump_pickle\n",
    "from scripts.instance import *\n",
    "from scripts.benders import *\n",
    "import gc\n",
    "from tqdm.notebook import tqdm"
   ]
  },
  {
   "cell_type": "code",
   "execution_count": 2,
   "outputs": [
    {
     "name": "stdout",
     "output_type": "stream",
     "text": [
      "Set parameter Username\n",
      "Academic license - for non-commercial use only - expires 2023-11-20\n"
     ]
    }
   ],
   "source": [
    "file_name = f\"../data/multipeak_100_100_400.pkl\"\n",
    "instance = read_pickle(file_name)\n",
    "results = single_cut(instance)"
   ],
   "metadata": {
    "collapsed": false
   }
  },
  {
   "cell_type": "code",
   "execution_count": 3,
   "outputs": [
    {
     "data": {
      "text/plain": "{'method': 'single-cut',\n 'obj_val': 26953.75285415773,\n 'n_cuts': 82,\n 'n_iterations': 82,\n 'avg_mp_solve': 0.0019187810944347847,\n 'avg_benders_loop_solve': 0.5597351556870995,\n 'status': 'optimal',\n 'primal_gap': 0,\n 'primal_gap_perc': 0,\n 'runtime': 50.3162567615509,\n 'n1': 100,\n 'n2': 100,\n 'm1': 200,\n 'm2': 200,\n 'k': 400,\n 'distribution': 'multipeak'}"
     },
     "execution_count": 3,
     "metadata": {},
     "output_type": "execute_result"
    }
   ],
   "source": [
    "results"
   ],
   "metadata": {
    "collapsed": false
   }
  },
  {
   "cell_type": "code",
   "execution_count": 4,
   "outputs": [],
   "source": [
    "def runner(function, files = None):\n",
    "    bad_instances = []\n",
    "    if files is None:\n",
    "        files = os.listdir(\"../data\")\n",
    "    for file in tqdm(files):\n",
    "        instance_name = file[:-4]\n",
    "        instance = read_pickle(f\"../data/{file}\")\n",
    "        try:\n",
    "            result = function(instance)\n",
    "            result['instance_name'] = instance_name\n",
    "            file_name = f\"../results/{result['instance_name']}_{result['method']}.pkl\"\n",
    "            dump_pickle(result, file_name)\n",
    "            del result\n",
    "            gc.collect()\n",
    "        except Exception as e:\n",
    "            bad_instances.append(file)\n",
    "            print(file)\n",
    "            print(e)"
   ],
   "metadata": {
    "collapsed": false
   }
  },
  {
   "cell_type": "code",
   "execution_count": 5,
   "outputs": [],
   "source": [
    "def multi_runner(functions, files = None):\n",
    "    print(f\"Running {len(functions)} functions\")\n",
    "    i = 1\n",
    "    for function in functions:\n",
    "        print(f\"Running function: {i}\")\n",
    "        i = i + 1\n",
    "        runner(function, files=files)\n",
    "        gc.collect()"
   ],
   "metadata": {
    "collapsed": false
   }
  },
  {
   "cell_type": "code",
   "execution_count": 6,
   "outputs": [],
   "source": [
    "def clean_results(terms):\n",
    "    for term in terms:\n",
    "        files = os.listdir(\"../results\")\n",
    "        deleting = [x for x in files if term in x]\n",
    "        for f in deleting:\n",
    "            os.remove(f\"../results/{f}\")"
   ],
   "metadata": {
    "collapsed": false
   }
  },
  {
   "cell_type": "code",
   "execution_count": 7,
   "outputs": [
    {
     "name": "stdout",
     "output_type": "stream",
     "text": [
      "Running 7 functions\n",
      "Running function: 1\n"
     ]
    },
    {
     "data": {
      "text/plain": "  0%|          | 0/192 [00:00<?, ?it/s]",
      "application/vnd.jupyter.widget-view+json": {
       "version_major": 2,
       "version_minor": 0,
       "model_id": "0fdef7d0374047568061a2bfcdbc6cb4"
      }
     },
     "metadata": {},
     "output_type": "display_data"
    },
    {
     "name": "stdout",
     "output_type": "stream",
     "text": [
      "Running function: 2\n"
     ]
    },
    {
     "data": {
      "text/plain": "  0%|          | 0/192 [00:00<?, ?it/s]",
      "application/vnd.jupyter.widget-view+json": {
       "version_major": 2,
       "version_minor": 0,
       "model_id": "4009698d3cfa4bacbe7dd109d44cc4b5"
      }
     },
     "metadata": {},
     "output_type": "display_data"
    },
    {
     "name": "stdout",
     "output_type": "stream",
     "text": [
      "Running function: 3\n"
     ]
    },
    {
     "data": {
      "text/plain": "  0%|          | 0/192 [00:00<?, ?it/s]",
      "application/vnd.jupyter.widget-view+json": {
       "version_major": 2,
       "version_minor": 0,
       "model_id": "f1600bb09f1a429299781f353b1cd5ae"
      }
     },
     "metadata": {},
     "output_type": "display_data"
    },
    {
     "name": "stdout",
     "output_type": "stream",
     "text": [
      "Running function: 4\n"
     ]
    },
    {
     "data": {
      "text/plain": "  0%|          | 0/192 [00:00<?, ?it/s]",
      "application/vnd.jupyter.widget-view+json": {
       "version_major": 2,
       "version_minor": 0,
       "model_id": "156a2f83c42247988d4cba9d4a02c302"
      }
     },
     "metadata": {},
     "output_type": "display_data"
    },
    {
     "name": "stdout",
     "output_type": "stream",
     "text": [
      "Running function: 5\n"
     ]
    },
    {
     "data": {
      "text/plain": "  0%|          | 0/192 [00:00<?, ?it/s]",
      "application/vnd.jupyter.widget-view+json": {
       "version_major": 2,
       "version_minor": 0,
       "model_id": "c09a02e3b0fb4876b542a8ac800053eb"
      }
     },
     "metadata": {},
     "output_type": "display_data"
    },
    {
     "name": "stdout",
     "output_type": "stream",
     "text": [
      "Running function: 6\n"
     ]
    },
    {
     "data": {
      "text/plain": "  0%|          | 0/192 [00:00<?, ?it/s]",
      "application/vnd.jupyter.widget-view+json": {
       "version_major": 2,
       "version_minor": 0,
       "model_id": "bbeaf974a23841e7959a7c90f21f1751"
      }
     },
     "metadata": {},
     "output_type": "display_data"
    },
    {
     "name": "stdout",
     "output_type": "stream",
     "text": [
      "Running function: 7\n"
     ]
    },
    {
     "data": {
      "text/plain": "  0%|          | 0/192 [00:00<?, ?it/s]",
      "application/vnd.jupyter.widget-view+json": {
       "version_major": 2,
       "version_minor": 0,
       "model_id": "ce7464b00c97440daedb7951cd67f532"
      }
     },
     "metadata": {},
     "output_type": "display_data"
    }
   ],
   "source": [
    "functions = [\n",
    "    lambda x: dropout_cut(x, \"kmeans\"),\n",
    "    lambda x: dropout_cut(x, \"affinity\"),\n",
    "    lambda x: dropout_cut(x, \"hierarchical\"),\n",
    "    lambda x: dropout_cut(x, \"spectral\"),\n",
    "    lambda x: dropout_cut(x, \"random\"),\n",
    "    multi_cut,\n",
    "    single_cut\n",
    "]\n",
    "multi_runner(functions)"
   ],
   "metadata": {
    "collapsed": false
   }
  },
  {
   "cell_type": "code",
   "execution_count": 8,
   "outputs": [
    {
     "name": "stdout",
     "output_type": "stream",
     "text": [
      "Running 5 functions\n",
      "Running function: 1\n"
     ]
    },
    {
     "data": {
      "text/plain": "  0%|          | 0/192 [00:00<?, ?it/s]",
      "application/vnd.jupyter.widget-view+json": {
       "version_major": 2,
       "version_minor": 0,
       "model_id": "57dc22e51e3943bd8cf0ad1d313a61a0"
      }
     },
     "metadata": {},
     "output_type": "display_data"
    },
    {
     "name": "stdout",
     "output_type": "stream",
     "text": [
      "Running function: 2\n"
     ]
    },
    {
     "data": {
      "text/plain": "  0%|          | 0/192 [00:00<?, ?it/s]",
      "application/vnd.jupyter.widget-view+json": {
       "version_major": 2,
       "version_minor": 0,
       "model_id": "50d9c19a0af94c70869bdbe158539088"
      }
     },
     "metadata": {},
     "output_type": "display_data"
    },
    {
     "name": "stdout",
     "output_type": "stream",
     "text": [
      "Running function: 3\n"
     ]
    },
    {
     "data": {
      "text/plain": "  0%|          | 0/192 [00:00<?, ?it/s]",
      "application/vnd.jupyter.widget-view+json": {
       "version_major": 2,
       "version_minor": 0,
       "model_id": "ef3702daa3ab4e62ad52c62e95bda7ff"
      }
     },
     "metadata": {},
     "output_type": "display_data"
    },
    {
     "name": "stdout",
     "output_type": "stream",
     "text": [
      "Running function: 4\n"
     ]
    },
    {
     "data": {
      "text/plain": "  0%|          | 0/192 [00:00<?, ?it/s]",
      "application/vnd.jupyter.widget-view+json": {
       "version_major": 2,
       "version_minor": 0,
       "model_id": "47b9ef31e59b438e85c416790534ab75"
      }
     },
     "metadata": {},
     "output_type": "display_data"
    },
    {
     "name": "stdout",
     "output_type": "stream",
     "text": [
      "Running function: 5\n"
     ]
    },
    {
     "data": {
      "text/plain": "  0%|          | 0/192 [00:00<?, ?it/s]",
      "application/vnd.jupyter.widget-view+json": {
       "version_major": 2,
       "version_minor": 0,
       "model_id": "af95861320f84d85a3c991aaf10daf43"
      }
     },
     "metadata": {},
     "output_type": "display_data"
    }
   ],
   "source": [
    "functions = [\n",
    "    lambda x: hybrid(x, \"kmeans\"),\n",
    "    lambda x: hybrid(x, \"affinity\"),\n",
    "    lambda x: hybrid(x, \"hierarchical\"),\n",
    "    lambda x: hybrid(x, \"spectral\"),\n",
    "    lambda x: hybrid(x, \"random\"),\n",
    "]\n",
    "multi_runner(functions)"
   ],
   "metadata": {
    "collapsed": false
   }
  },
  {
   "cell_type": "code",
   "execution_count": 7,
   "outputs": [
    {
     "name": "stdout",
     "output_type": "stream",
     "text": [
      "Running 10 functions\n",
      "Running function: 1\n"
     ]
    },
    {
     "data": {
      "text/plain": "  0%|          | 0/192 [00:00<?, ?it/s]",
      "application/vnd.jupyter.widget-view+json": {
       "version_major": 2,
       "version_minor": 0,
       "model_id": "3b834edaf6594a82bbba16010cd63e06"
      }
     },
     "metadata": {},
     "output_type": "display_data"
    },
    {
     "name": "stdout",
     "output_type": "stream",
     "text": [
      "Running function: 2\n"
     ]
    },
    {
     "data": {
      "text/plain": "  0%|          | 0/192 [00:00<?, ?it/s]",
      "application/vnd.jupyter.widget-view+json": {
       "version_major": 2,
       "version_minor": 0,
       "model_id": "9f9cc376d971455aa8cec184df77523f"
      }
     },
     "metadata": {},
     "output_type": "display_data"
    },
    {
     "name": "stdout",
     "output_type": "stream",
     "text": [
      "Running function: 3\n"
     ]
    },
    {
     "data": {
      "text/plain": "  0%|          | 0/192 [00:00<?, ?it/s]",
      "application/vnd.jupyter.widget-view+json": {
       "version_major": 2,
       "version_minor": 0,
       "model_id": "9d718f5f07ab4357b81172c28a8eec5c"
      }
     },
     "metadata": {},
     "output_type": "display_data"
    },
    {
     "name": "stdout",
     "output_type": "stream",
     "text": [
      "Running function: 4\n"
     ]
    },
    {
     "data": {
      "text/plain": "  0%|          | 0/192 [00:00<?, ?it/s]",
      "application/vnd.jupyter.widget-view+json": {
       "version_major": 2,
       "version_minor": 0,
       "model_id": "c7fe1b310e734bd998f371b886e0854b"
      }
     },
     "metadata": {},
     "output_type": "display_data"
    },
    {
     "name": "stdout",
     "output_type": "stream",
     "text": [
      "Running function: 5\n"
     ]
    },
    {
     "data": {
      "text/plain": "  0%|          | 0/192 [00:00<?, ?it/s]",
      "application/vnd.jupyter.widget-view+json": {
       "version_major": 2,
       "version_minor": 0,
       "model_id": "4bbb25fcfd4841fda97569f2a8d0cac2"
      }
     },
     "metadata": {},
     "output_type": "display_data"
    },
    {
     "name": "stdout",
     "output_type": "stream",
     "text": [
      "Running function: 6\n"
     ]
    },
    {
     "data": {
      "text/plain": "  0%|          | 0/192 [00:00<?, ?it/s]",
      "application/vnd.jupyter.widget-view+json": {
       "version_major": 2,
       "version_minor": 0,
       "model_id": "5eddb86862ba471881cb0a10593b9575"
      }
     },
     "metadata": {},
     "output_type": "display_data"
    },
    {
     "name": "stdout",
     "output_type": "stream",
     "text": [
      "Running function: 7\n"
     ]
    },
    {
     "data": {
      "text/plain": "  0%|          | 0/192 [00:00<?, ?it/s]",
      "application/vnd.jupyter.widget-view+json": {
       "version_major": 2,
       "version_minor": 0,
       "model_id": "3f07a4efb1e14068952f4e6c1253b305"
      }
     },
     "metadata": {},
     "output_type": "display_data"
    },
    {
     "name": "stdout",
     "output_type": "stream",
     "text": [
      "Running function: 8\n"
     ]
    },
    {
     "data": {
      "text/plain": "  0%|          | 0/192 [00:00<?, ?it/s]",
      "application/vnd.jupyter.widget-view+json": {
       "version_major": 2,
       "version_minor": 0,
       "model_id": "6bc4234ce8a14e6aaab8285e6bf4cadf"
      }
     },
     "metadata": {},
     "output_type": "display_data"
    },
    {
     "name": "stdout",
     "output_type": "stream",
     "text": [
      "Running function: 9\n"
     ]
    },
    {
     "data": {
      "text/plain": "  0%|          | 0/192 [00:00<?, ?it/s]",
      "application/vnd.jupyter.widget-view+json": {
       "version_major": 2,
       "version_minor": 0,
       "model_id": "1dee1dcf895348e1b98cec9048633e43"
      }
     },
     "metadata": {},
     "output_type": "display_data"
    },
    {
     "name": "stdout",
     "output_type": "stream",
     "text": [
      "Running function: 10\n"
     ]
    },
    {
     "data": {
      "text/plain": "  0%|          | 0/192 [00:00<?, ?it/s]",
      "application/vnd.jupyter.widget-view+json": {
       "version_major": 2,
       "version_minor": 0,
       "model_id": "a94198d6ca6748bfba1ef69e507d982a"
      }
     },
     "metadata": {},
     "output_type": "display_data"
    }
   ],
   "source": [
    "functions = [\n",
    "    lambda x: dropout_cut(x, \"kmeans\", dr = True),\n",
    "    lambda x: dropout_cut(x, \"affinity\", dr = True),\n",
    "    lambda x: dropout_cut(x, \"hierarchical\", dr = True),\n",
    "    lambda x: dropout_cut(x, \"spectral\", dr = True),\n",
    "    lambda x: dropout_cut(x, \"random\", dr = True),\n",
    "    lambda x: hybrid(x, \"kmeans\", dr = True),\n",
    "    lambda x: hybrid(x, \"affinity\", dr = True),\n",
    "    lambda x: hybrid(x, \"hierarchical\", dr = True),\n",
    "    lambda x: hybrid(x, \"spectral\", dr = True),\n",
    "    lambda x: hybrid(x, \"random\", dr = True)\n",
    "]\n",
    "multi_runner(functions)"
   ],
   "metadata": {
    "collapsed": false
   }
  },
  {
   "cell_type": "markdown",
   "source": [],
   "metadata": {
    "collapsed": false
   }
  }
 ],
 "metadata": {
  "kernelspec": {
   "display_name": "Python 3",
   "language": "python",
   "name": "python3"
  },
  "language_info": {
   "codemirror_mode": {
    "name": "ipython",
    "version": 2
   },
   "file_extension": ".py",
   "mimetype": "text/x-python",
   "name": "python",
   "nbconvert_exporter": "python",
   "pygments_lexer": "ipython2",
   "version": "2.7.6"
  }
 },
 "nbformat": 4,
 "nbformat_minor": 0
}
