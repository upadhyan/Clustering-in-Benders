{
 "cells": [
  {
   "cell_type": "code",
   "execution_count": 1,
   "metadata": {
    "collapsed": true
   },
   "outputs": [],
   "source": [
    "import os\n",
    "import sys\n",
    "import gc\n",
    "\n",
    "import pandas as pd\n",
    "from tqdm.notebook import tqdm\n",
    "sys.path.append('../')\n",
    "from utiliT.io import read_pickle, dump_pickle\n",
    "from tqdm.notebook import tqdm\n",
    "from scripts.instance import *\n",
    "from scripts.benders import *\n",
    "import yaml\n",
    "import json"
   ]
  },
  {
   "cell_type": "code",
   "execution_count": 5,
   "outputs": [
    {
     "data": {
      "text/plain": "         method       obj_val  n_cuts  n_iterations  avg_mp_solve  \\\n0     multi-cut  24950.479064     824            14      0.009504   \n1     multi-cut  25420.114250    1251            12      0.018744   \n2     multi-cut  24724.418907    1768            10      0.030409   \n3     multi-cut  24905.150936    2524            10      0.059399   \n4     multi-cut  29433.030084     781            14      0.009220   \n..          ...           ...     ...           ...           ...   \n164  single-cut  58314.607696      92            93      0.003574   \n168  single-cut  64179.935876      89            90      0.006226   \n169  single-cut  65879.544598     118           119      0.006318   \n180  single-cut  36109.810696     240           241      0.001854   \n192  single-cut  51449.006825     411           412      0.004552   \n\n     avg_benders_loop_solve   status    primal_gap  primal_gap_perc  \\\n0                  2.267717  optimal -3.637979e-12    -1.458080e-16   \n1                  4.184580  optimal  3.637979e-12     1.431142e-16   \n2                  7.112741  optimal  3.637979e-12     1.471411e-16   \n3                  9.757985  optimal -3.637979e-12    -1.460733e-16   \n4                  2.787362  optimal -7.275958e-12    -2.472038e-16   \n..                      ...      ...           ...              ...   \n164                2.362745  optimal -4.634749e-06     7.947835e-11   \n168                0.624700  optimal -1.000990e-06     1.559662e-11   \n169                1.302126  optimal  2.910383e-11    -4.417734e-16   \n180                0.598816  optimal -8.882416e-06     2.459835e-10   \n192                0.605274  optimal -4.209920e-06     8.182704e-11   \n\n        runtime   n1   n2   m1   m2    k distribution  \n0     32.400210  100  100  200  200  100    multipeak  \n1     50.924883  100  100  200  200  200    multipeak  \n2     71.833333  100  100  200  200  300    multipeak  \n3     98.559910  100  100  200  200  400    multipeak  \n4     39.699211  100  150  200  300  100    multipeak  \n..          ...  ...  ...  ...  ...  ...          ...  \n164  223.670205  150  200  300  400  100       normal  \n168   60.402740  200  100  400  200  100       normal  \n169  160.473191  200  100  400  200  200       normal  \n180  153.795242  100  100  200  200  100      uniform  \n192  266.945030  150  100  300  200  100      uniform  \n\n[130 rows x 16 columns]",
      "text/html": "<div>\n<style scoped>\n    .dataframe tbody tr th:only-of-type {\n        vertical-align: middle;\n    }\n\n    .dataframe tbody tr th {\n        vertical-align: top;\n    }\n\n    .dataframe thead th {\n        text-align: right;\n    }\n</style>\n<table border=\"1\" class=\"dataframe\">\n  <thead>\n    <tr style=\"text-align: right;\">\n      <th></th>\n      <th>method</th>\n      <th>obj_val</th>\n      <th>n_cuts</th>\n      <th>n_iterations</th>\n      <th>avg_mp_solve</th>\n      <th>avg_benders_loop_solve</th>\n      <th>status</th>\n      <th>primal_gap</th>\n      <th>primal_gap_perc</th>\n      <th>runtime</th>\n      <th>n1</th>\n      <th>n2</th>\n      <th>m1</th>\n      <th>m2</th>\n      <th>k</th>\n      <th>distribution</th>\n    </tr>\n  </thead>\n  <tbody>\n    <tr>\n      <th>0</th>\n      <td>multi-cut</td>\n      <td>24950.479064</td>\n      <td>824</td>\n      <td>14</td>\n      <td>0.009504</td>\n      <td>2.267717</td>\n      <td>optimal</td>\n      <td>-3.637979e-12</td>\n      <td>-1.458080e-16</td>\n      <td>32.400210</td>\n      <td>100</td>\n      <td>100</td>\n      <td>200</td>\n      <td>200</td>\n      <td>100</td>\n      <td>multipeak</td>\n    </tr>\n    <tr>\n      <th>1</th>\n      <td>multi-cut</td>\n      <td>25420.114250</td>\n      <td>1251</td>\n      <td>12</td>\n      <td>0.018744</td>\n      <td>4.184580</td>\n      <td>optimal</td>\n      <td>3.637979e-12</td>\n      <td>1.431142e-16</td>\n      <td>50.924883</td>\n      <td>100</td>\n      <td>100</td>\n      <td>200</td>\n      <td>200</td>\n      <td>200</td>\n      <td>multipeak</td>\n    </tr>\n    <tr>\n      <th>2</th>\n      <td>multi-cut</td>\n      <td>24724.418907</td>\n      <td>1768</td>\n      <td>10</td>\n      <td>0.030409</td>\n      <td>7.112741</td>\n      <td>optimal</td>\n      <td>3.637979e-12</td>\n      <td>1.471411e-16</td>\n      <td>71.833333</td>\n      <td>100</td>\n      <td>100</td>\n      <td>200</td>\n      <td>200</td>\n      <td>300</td>\n      <td>multipeak</td>\n    </tr>\n    <tr>\n      <th>3</th>\n      <td>multi-cut</td>\n      <td>24905.150936</td>\n      <td>2524</td>\n      <td>10</td>\n      <td>0.059399</td>\n      <td>9.757985</td>\n      <td>optimal</td>\n      <td>-3.637979e-12</td>\n      <td>-1.460733e-16</td>\n      <td>98.559910</td>\n      <td>100</td>\n      <td>100</td>\n      <td>200</td>\n      <td>200</td>\n      <td>400</td>\n      <td>multipeak</td>\n    </tr>\n    <tr>\n      <th>4</th>\n      <td>multi-cut</td>\n      <td>29433.030084</td>\n      <td>781</td>\n      <td>14</td>\n      <td>0.009220</td>\n      <td>2.787362</td>\n      <td>optimal</td>\n      <td>-7.275958e-12</td>\n      <td>-2.472038e-16</td>\n      <td>39.699211</td>\n      <td>100</td>\n      <td>150</td>\n      <td>200</td>\n      <td>300</td>\n      <td>100</td>\n      <td>multipeak</td>\n    </tr>\n    <tr>\n      <th>...</th>\n      <td>...</td>\n      <td>...</td>\n      <td>...</td>\n      <td>...</td>\n      <td>...</td>\n      <td>...</td>\n      <td>...</td>\n      <td>...</td>\n      <td>...</td>\n      <td>...</td>\n      <td>...</td>\n      <td>...</td>\n      <td>...</td>\n      <td>...</td>\n      <td>...</td>\n      <td>...</td>\n    </tr>\n    <tr>\n      <th>164</th>\n      <td>single-cut</td>\n      <td>58314.607696</td>\n      <td>92</td>\n      <td>93</td>\n      <td>0.003574</td>\n      <td>2.362745</td>\n      <td>optimal</td>\n      <td>-4.634749e-06</td>\n      <td>7.947835e-11</td>\n      <td>223.670205</td>\n      <td>150</td>\n      <td>200</td>\n      <td>300</td>\n      <td>400</td>\n      <td>100</td>\n      <td>normal</td>\n    </tr>\n    <tr>\n      <th>168</th>\n      <td>single-cut</td>\n      <td>64179.935876</td>\n      <td>89</td>\n      <td>90</td>\n      <td>0.006226</td>\n      <td>0.624700</td>\n      <td>optimal</td>\n      <td>-1.000990e-06</td>\n      <td>1.559662e-11</td>\n      <td>60.402740</td>\n      <td>200</td>\n      <td>100</td>\n      <td>400</td>\n      <td>200</td>\n      <td>100</td>\n      <td>normal</td>\n    </tr>\n    <tr>\n      <th>169</th>\n      <td>single-cut</td>\n      <td>65879.544598</td>\n      <td>118</td>\n      <td>119</td>\n      <td>0.006318</td>\n      <td>1.302126</td>\n      <td>optimal</td>\n      <td>2.910383e-11</td>\n      <td>-4.417734e-16</td>\n      <td>160.473191</td>\n      <td>200</td>\n      <td>100</td>\n      <td>400</td>\n      <td>200</td>\n      <td>200</td>\n      <td>normal</td>\n    </tr>\n    <tr>\n      <th>180</th>\n      <td>single-cut</td>\n      <td>36109.810696</td>\n      <td>240</td>\n      <td>241</td>\n      <td>0.001854</td>\n      <td>0.598816</td>\n      <td>optimal</td>\n      <td>-8.882416e-06</td>\n      <td>2.459835e-10</td>\n      <td>153.795242</td>\n      <td>100</td>\n      <td>100</td>\n      <td>200</td>\n      <td>200</td>\n      <td>100</td>\n      <td>uniform</td>\n    </tr>\n    <tr>\n      <th>192</th>\n      <td>single-cut</td>\n      <td>51449.006825</td>\n      <td>411</td>\n      <td>412</td>\n      <td>0.004552</td>\n      <td>0.605274</td>\n      <td>optimal</td>\n      <td>-4.209920e-06</td>\n      <td>8.182704e-11</td>\n      <td>266.945030</td>\n      <td>150</td>\n      <td>100</td>\n      <td>300</td>\n      <td>200</td>\n      <td>100</td>\n      <td>uniform</td>\n    </tr>\n  </tbody>\n</table>\n<p>130 rows × 16 columns</p>\n</div>"
     },
     "execution_count": 5,
     "metadata": {},
     "output_type": "execute_result"
    }
   ],
   "source": [
    "files = os.listdir('../results')\n",
    "results = [read_pickle(f\"../results/{x}\") for x in files]\n",
    "df = pd.DataFrame(results)\n",
    "df[df['status'] == 'optimal']"
   ],
   "metadata": {
    "collapsed": false
   }
  },
  {
   "cell_type": "code",
   "execution_count": 8,
   "outputs": [
    {
     "data": {
      "text/plain": "140.81454168099623"
     },
     "execution_count": 8,
     "metadata": {},
     "output_type": "execute_result"
    }
   ],
   "source": [
    "df[df['status'] == 'optimal']['runtime'].mean()"
   ],
   "metadata": {
    "collapsed": false
   }
  },
  {
   "cell_type": "code",
   "execution_count": 11,
   "outputs": [
    {
     "data": {
      "text/plain": "2"
     },
     "execution_count": 11,
     "metadata": {},
     "output_type": "execute_result"
    }
   ],
   "source": [
    "np.argmin([10,20,5,5])"
   ],
   "metadata": {
    "collapsed": false
   }
  }
 ],
 "metadata": {
  "kernelspec": {
   "display_name": "Python 3",
   "language": "python",
   "name": "python3"
  },
  "language_info": {
   "codemirror_mode": {
    "name": "ipython",
    "version": 2
   },
   "file_extension": ".py",
   "mimetype": "text/x-python",
   "name": "python",
   "nbconvert_exporter": "python",
   "pygments_lexer": "ipython2",
   "version": "2.7.6"
  }
 },
 "nbformat": 4,
 "nbformat_minor": 0
}
