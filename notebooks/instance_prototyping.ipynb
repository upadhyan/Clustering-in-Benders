{
 "cells": [
  {
   "cell_type": "code",
   "execution_count": 1,
   "metadata": {},
   "outputs": [],
   "source": [
    "import sys\n",
    "sys.path.append('../')\n",
    "import os\n",
    "import pandas as pd\n",
    "import numpy as np\n",
    "import gurobipy as gp\n",
    "from gurobipy import GRB\n",
    "from instances.instance import *"
   ]
  },
  {
   "cell_type": "markdown",
   "metadata": {},
   "source": [
    "problems are defined by: \n",
    "c, A, B (first stage jazz)\n",
    "\n",
    "q_s, W_s, h_s, T_s, and clustering variables"
   ]
  },
  {
   "cell_type": "code",
   "execution_count": 2,
   "metadata": {},
   "outputs": [],
   "source": [
    "gen = InvestmentGenerator('../stock_data.csv')\n",
    "problem = gen.create_instance(20,200)"
   ]
  },
  {
   "cell_type": "code",
   "execution_count": 10,
   "metadata": {},
   "outputs": [
    {
     "name": "stdout",
     "output_type": "stream",
     "text": [
      "Set parameter Method to value 1\n",
      "Gurobi Optimizer version 9.5.2 build v9.5.2rc0 (win64)\n",
      "Thread count: 8 physical cores, 16 logical processors, using up to 16 threads\n",
      "Optimize a model with 22 rows, 42 columns and 82 nonzeros\n",
      "Model fingerprint: 0x8f3a8aaf\n",
      "Coefficient statistics:\n",
      "  Matrix range     [1e+00, 2e+00]\n",
      "  Objective range  [1e+00, 1e+00]\n",
      "  Bounds range     [0e+00, 0e+00]\n",
      "  RHS range        [8e+02, 8e+02]\n",
      "Presolve removed 0 rows and 1 columns\n",
      "Presolve time: 0.00s\n",
      "\n",
      "Solved in 0 iterations and 0.00 seconds (0.00 work units)\n",
      "Infeasible or unbounded model\n",
      "0\n"
     ]
    }
   ],
   "source": [
    "MP = gp.Model(\"MP\")\n",
    "MP.Params.outputFlag = 0\n",
    "x = MP.addMVar((problem.s1_n_var,), name = \"x\")\n",
    "eta = MP.addMVar((problem.k,), name = \"eta\", ub = problem.eta_bound, lb = -1*problem.eta_bound)\n",
    "\n",
    "if problem.direction == GRB.MAXIMIZE:\n",
    "    MP.modelSense = GRB.MAXIMIZE\n",
    "else:\n",
    "    MP.modelSense = GRB.MINIMIZE\n",
    "MP.setObjective(\n",
    "    problem.c @ x + np.array([1/problem.k] * problem.k) @ eta \n",
    ")\n",
    "c1 = MP.addConstr(\n",
    "    problem.A @ x <= problem.b\n",
    ")\n",
    "\n",
    "cut_found = True\n",
    "n_iters = 0\n",
    "try: \n",
    "    while cut_found:\n",
    "        cut_found = False\n",
    "        if n_iters < 200:\n",
    "            n_iters = n_iters + 1\n",
    "        else:\n",
    "            break\n",
    "        MP.update()\n",
    "        MP.optimize()\n",
    "        LB = 0\n",
    "        x_i = x.x\n",
    "        eta_i = eta.x\n",
    "        for s in range(problem.k):\n",
    "            SP = gp.Model(\"SP\")\n",
    "            #SP.Params.outputFlag = 0  # turn off output\n",
    "            SP.Params.method = 1      # dual simplex\n",
    "            y = SP.addMVar((problem.s2_n_var,), name = \"y\", obj = problem.q_list[s])\n",
    "            SP.modelSense = GRB.MINIMIZE\n",
    "            res = SP.addConstr(\n",
    "                problem.W_list[s] @ y <= problem.h_list[s] + (problem.T_list[s] @ x_i)\n",
    "            )\n",
    "            SP.optimize()\n",
    "            Q = SP.ObjVal\n",
    "            pi = res.Pi\n",
    "            LB = LB + Q / problem.k\n",
    "        if np.abs(Q - eta_i[s]) < 0.00001:\n",
    "            if Q - eta_i[s] < 0:\n",
    "                cut_found = True\n",
    "                p1 = pi @ problem.h_list[s]\n",
    "                p2 = pi @ problem.T_list[s]\n",
    "                MP.addConstr(\n",
    "                    eta[s] <= p1 + gp.quicksum(p2[a] * x[a] for a in range(problem.s1_n_var))\n",
    "                )\n",
    "        print(LB)\n",
    "except:\n",
    "    print(s)\n"
   ]
  },
  {
   "cell_type": "code",
   "execution_count": null,
   "metadata": {},
   "outputs": [],
   "source": []
  },
  {
   "cell_type": "code",
   "execution_count": 8,
   "metadata": {},
   "outputs": [
    {
     "data": {
      "text/plain": [
       "20"
      ]
     },
     "execution_count": 8,
     "metadata": {},
     "output_type": "execute_result"
    }
   ],
   "source": [
    "problem.s1_n_var"
   ]
  },
  {
   "cell_type": "code",
   "execution_count": 11,
   "metadata": {},
   "outputs": [
    {
     "data": {
      "text/plain": [
       "array([ 1,  1,  1,  1,  1,  1,  1,  1,  1,  1,  1,  1,  1,  1,  1,  1,  1,\n",
       "        1,  1,  1,  1, -1, -1, -1, -1, -1, -1, -1, -1, -1, -1, -1, -1, -1,\n",
       "       -1, -1, -1, -1, -1, -1, -1, -1])"
      ]
     },
     "execution_count": 11,
     "metadata": {},
     "output_type": "execute_result"
    }
   ],
   "source": [
    "problem.q_list[0]"
   ]
  }
 ],
 "metadata": {
  "kernelspec": {
   "display_name": "Python 3.10.5 64-bit",
   "language": "python",
   "name": "python3"
  },
  "language_info": {
   "codemirror_mode": {
    "name": "ipython",
    "version": 3
   },
   "file_extension": ".py",
   "mimetype": "text/x-python",
   "name": "python",
   "nbconvert_exporter": "python",
   "pygments_lexer": "ipython3",
   "version": "3.10.5"
  },
  "orig_nbformat": 4,
  "vscode": {
   "interpreter": {
    "hash": "5c700cf961aa5dc00603bae0d28e28b2390df23727e90a9ed674ecd58bb29299"
   }
  }
 },
 "nbformat": 4,
 "nbformat_minor": 2
}
