{
 "cells": [
  {
   "cell_type": "code",
   "execution_count": 1,
   "metadata": {},
   "outputs": [],
   "source": [
    "import sys\n",
    "sys.path.append('../')\n",
    "import os\n",
    "import pandas as pd\n",
    "import numpy as np\n",
    "import gurobipy as gp\n",
    "from gurobipy import GRB\n",
    "from tqdm.notebook import trange\n",
    "from instances.instance import *\n",
    "from GeCo_Instance_generators.knapsack import  yang_instance\n",
    "from GeCo_Instance_generators.packing import tang_instance_packing"
   ]
  },
  {
   "cell_type": "code",
   "execution_count": 2,
   "outputs": [
    {
     "name": "stdout",
     "output_type": "stream",
     "text": [
      "Set parameter Username\n",
      "Academic license - for non-commercial use only - expires 2023-11-20\n"
     ]
    }
   ],
   "source": [
    "generator = StochasticBinPackerGenerator()\n",
    "problem = generator.generate_problem(10,10,20,20,30, \"multipeak\")"
   ],
   "metadata": {
    "collapsed": false
   }
  },
  {
   "cell_type": "code",
   "execution_count": 3,
   "outputs": [
    {
     "name": "stdout",
     "output_type": "stream",
     "text": [
      "Gurobi Optimizer version 10.0.0 build v10.0.0rc2 (win64)\n",
      "\n",
      "CPU model: 11th Gen Intel(R) Core(TM) i7-11800H @ 2.30GHz, instruction set [SSE2|AVX|AVX2|AVX512]\n",
      "Thread count: 8 physical cores, 16 logical processors, using up to 16 threads\n",
      "\n",
      "Optimize a model with 20 rows, 10 columns and 154 nonzeros\n",
      "Model fingerprint: 0xc491e529\n",
      "Coefficient statistics:\n",
      "  Matrix range     [1e+00, 4e+00]\n",
      "  Objective range  [1e+00, 9e+00]\n",
      "  Bounds range     [0e+00, 0e+00]\n",
      "  RHS range        [9e+01, 1e+02]\n",
      "Presolve time: 0.01s\n",
      "Presolved: 20 rows, 10 columns, 154 nonzeros\n",
      "\n",
      "Iteration    Objective       Primal Inf.    Dual Inf.      Time\n",
      "       0    1.8000000e+31   9.775000e+31   1.800000e+01      0s\n",
      "       6    2.3394631e+02   0.000000e+00   0.000000e+00      0s\n",
      "\n",
      "Solved in 6 iterations and 0.01 seconds (0.00 work units)\n",
      "Optimal objective  2.339463087e+02\n"
     ]
    }
   ],
   "source": [
    "MP = gp.Model(\"MP\")\n",
    "x = MP.addMVar((problem.s1_n_var,), name = \"x\")\n",
    "#y = EP.addMVar((problem.s2_n_var, problem.k), name = \"y\")\n",
    "MP.modelSense = problem.s1_direction\n",
    "if problem.s2_direction == problem.s1_direction:\n",
    "    MP.setObjective(\n",
    "        problem.c @ x\n",
    "    )\n",
    "else:\n",
    "    MP.setObjective(\n",
    "        problem.c @ x\n",
    "    )\n",
    "\n",
    "MP.addConstr(\n",
    "    problem.A @ x <= problem.b\n",
    ")\n",
    "MP.optimize()\n",
    "mp_x = x.x"
   ],
   "metadata": {
    "collapsed": false
   }
  },
  {
   "cell_type": "code",
   "execution_count": 4,
   "outputs": [
    {
     "name": "stdout",
     "output_type": "stream",
     "text": [
      "Gurobi Optimizer version 10.0.0 build v10.0.0rc2 (win64)\n",
      "\n",
      "CPU model: 11th Gen Intel(R) Core(TM) i7-11800H @ 2.30GHz, instruction set [SSE2|AVX|AVX2|AVX512]\n",
      "Thread count: 8 physical cores, 16 logical processors, using up to 16 threads\n",
      "\n",
      "Optimize a model with 20 rows, 10 columns and 151 nonzeros\n",
      "Model fingerprint: 0x0855414e\n",
      "Coefficient statistics:\n",
      "  Matrix range     [1e+00, 4e+00]\n",
      "  Objective range  [5e-01, 5e+00]\n",
      "  Bounds range     [0e+00, 0e+00]\n",
      "  RHS range        [9e+01, 1e+02]\n",
      "Presolve time: 0.00s\n",
      "Presolved: 20 rows, 10 columns, 151 nonzeros\n",
      "\n",
      "Iteration    Objective       Primal Inf.    Dual Inf.      Time\n",
      "       0    8.6250000e+30   8.987500e+31   8.625000e+00      0s\n",
      "       9    1.1387500e+02   0.000000e+00   0.000000e+00      0s\n",
      "\n",
      "Solved in 9 iterations and 0.01 seconds (0.00 work units)\n",
      "Optimal objective  1.138750000e+02\n"
     ]
    },
    {
     "data": {
      "text/plain": "array([ 1.25,  2.  ,  0.  ,  0.  ,  0.  , 20.  ,  2.  ,  4.5 ,  0.  ,\n        0.  ])"
     },
     "execution_count": 4,
     "metadata": {},
     "output_type": "execute_result"
    }
   ],
   "source": [
    "SP = gp.Model(\"SP\")\n",
    "A = problem.other_info['original_A2']\n",
    "b = problem.other_info['original_b2']\n",
    "c = problem.other_info['original_c2']\n",
    "\n",
    "y = SP.addMVar((A.shape[1], ), obj = c)\n",
    "SP.modelSense = problem.s2_direction\n",
    "\n",
    "SP.addConstr(\n",
    "    A @ y <= b\n",
    ")\n",
    "SP.optimize()\n",
    "y.x"
   ],
   "metadata": {
    "collapsed": false
   }
  },
  {
   "cell_type": "code",
   "execution_count": 5,
   "outputs": [
    {
     "name": "stdout",
     "output_type": "stream",
     "text": [
      "Gurobi Optimizer version 10.0.0 build v10.0.0rc2 (win64)\n",
      "\n",
      "CPU model: 11th Gen Intel(R) Core(TM) i7-11800H @ 2.30GHz, instruction set [SSE2|AVX|AVX2|AVX512]\n",
      "Thread count: 8 physical cores, 16 logical processors, using up to 16 threads\n",
      "\n",
      "Optimize a model with 620 rows, 310 columns and 10611 nonzeros\n",
      "Model fingerprint: 0xbef6e495\n",
      "Coefficient statistics:\n",
      "  Matrix range     [2e-02, 4e+01]\n",
      "  Objective range  [2e-02, 9e+00]\n",
      "  Bounds range     [0e+00, 0e+00]\n",
      "  RHS range        [9e+01, 2e+02]\n",
      "Presolve time: 0.00s\n",
      "Presolved: 620 rows, 310 columns, 10611 nonzeros\n",
      "\n",
      "Iteration    Objective       Primal Inf.    Dual Inf.      Time\n",
      "       0    2.7466667e+31   7.902794e+32   2.746667e+01      0s\n",
      "     281    9.6996816e+02   0.000000e+00   0.000000e+00      0s\n",
      "\n",
      "Solved in 281 iterations and 0.02 seconds (0.01 work units)\n",
      "Optimal objective  9.699681619e+02\n"
     ]
    }
   ],
   "source": [
    "EP = gp.Model(\"EP\")\n",
    "x = EP.addMVar((problem.s1_n_var,), name = \"x\")\n",
    "y = EP.addMVar((problem.s2_n_var, problem.k), name = \"y\")\n",
    "EP.modelSense = problem.s1_direction\n",
    "if problem.s2_direction == problem.s1_direction:\n",
    "    EP.setObjective(\n",
    "        problem.c @ x + gp.quicksum(1 / problem.k * problem.q_list[s] @ y[:,s] for s in range(problem.k))\n",
    "    )\n",
    "else:\n",
    "    EP.setObjective(\n",
    "        problem.c @ x - gp.quicksum(1 / problem.k * problem.q_list[s] @ y[:,s] for s in range(problem.k))\n",
    "    )\n",
    "\n",
    "EP.addConstr(\n",
    "    problem.A @ x <= problem.b\n",
    ")\n",
    "\n",
    "EP.addConstrs((\n",
    "    problem.W_list[s] @ y[:,s] + problem.T_list[s] @ x <= problem.h_list[s] for s in range(problem.k)\n",
    "))\n",
    "\n",
    "EP.optimize()\n",
    "ep_x = x.x"
   ],
   "metadata": {
    "collapsed": false
   }
  },
  {
   "cell_type": "markdown",
   "metadata": {},
   "source": [
    "problems are defined by: \n",
    "c, A, B (first stage jazz)\n",
    "\n",
    "q_s, W_s, h_s, T_s, and clustering variables"
   ]
  },
  {
   "cell_type": "code",
   "execution_count": 6,
   "metadata": {},
   "outputs": [
    {
     "name": "stdout",
     "output_type": "stream",
     "text": [
      "On Iteration: 1\n",
      "Iteration 1: LB = 665.1442974381071. UB = 9233.946308724833\n",
      "On Iteration: 2\n",
      "Iteration 2: LB = 824.6840365500047. UB = 1027.7324776524215\n",
      "On Iteration: 3\n",
      "Iteration 3: LB = 796.5607848707833. UB = 972.2914734503945\n",
      "On Iteration: 4\n",
      "Iteration 4: LB = 806.4683465180764. UB = 970.0137261519591\n",
      "On Iteration: 5\n",
      "Iteration 5: LB = 806.0382739197388. UB = 969.9778685445525\n",
      "On Iteration: 6\n",
      "Iteration 6: LB = 806.278768244491. UB = 969.9681618651525\n"
     ]
    }
   ],
   "source": [
    "MP = gp.Model(\"MP\")\n",
    "MP.Params.outputFlag = 0\n",
    "x = MP.addMVar((problem.s1_n_var,), name = \"x\")\n",
    "eta = MP.addMVar((problem.k,), name = \"eta\", ub = problem.eta_bounds[1], lb = problem.eta_bounds[0])\n",
    "\n",
    "if problem.s1_direction == GRB.MAXIMIZE:\n",
    "    MP.modelSense = GRB.MAXIMIZE\n",
    "else:\n",
    "    MP.modelSense = GRB.MINIMIZE\n",
    "\n",
    "MP.setObjective(\n",
    "    problem.c @ x + np.array([1/problem.k] * problem.k) @ eta \n",
    ")\n",
    "\n",
    "c1 = MP.addConstr(\n",
    "    problem.A @ x <= problem.b\n",
    ")\n",
    "\n",
    "\n",
    "cut_found = True\n",
    "n_iters = 0\n",
    "try: \n",
    "    while cut_found:\n",
    "        cut_found = False\n",
    "        q_vals = []\n",
    "        if n_iters < 200:\n",
    "            n_iters = n_iters + 1\n",
    "            print(f\"On Iteration: {n_iters}\")\n",
    "        else:\n",
    "            break\n",
    "        MP.update()\n",
    "        MP.optimize()\n",
    "        LB = 0\n",
    "        x_i = x.x\n",
    "        eta_i = eta.x\n",
    "        for s in range(problem.k):\n",
    "            SP = gp.Model(\"SP\")\n",
    "            SP.Params.outputFlag = 0  # turn off output\n",
    "            SP.Params.method = 1      # dual simplex\n",
    "            y = SP.addMVar((problem.s2_n_var,), name = \"y\", obj = problem.q_list[s])\n",
    "            if problem.s2_direction == GRB.MAXIMIZE:\n",
    "                SP.modelSense = GRB.MAXIMIZE\n",
    "            else:\n",
    "                SP.modelSense = GRB.MINIMIZE\n",
    "            res = SP.addConstr(\n",
    "                problem.W_list[s] @ y <= problem.h_list[s] - (problem.T_list[s] @ x_i)\n",
    "            )\n",
    "            SP.optimize()\n",
    "            Q = SP.ObjVal\n",
    "            q_vals.append(Q)\n",
    "            pi = res.Pi\n",
    "            LB = LB + Q / problem.k\n",
    "            if np.abs(Q - eta_i[s]) > 0.00001:\n",
    "                if Q < eta_i[s]:\n",
    "                    cut_found = True\n",
    "                    p1 = pi @ problem.h_list[s]\n",
    "                    p2 = pi @ problem.T_list[s]\n",
    "                    if problem.s2_direction == GRB.MAXIMIZE:\n",
    "                        MP.addConstr(\n",
    "                            eta[s] <= p1 - gp.quicksum(p2[a] * x[a] for a in range(problem.s1_n_var))\n",
    "                        )\n",
    "                    else:\n",
    "                        MP.addConstr(\n",
    "                            eta[s] >= p1 - gp.quicksum(p2[a] * x[a] for a in range(problem.s1_n_var))\n",
    "                        )        \n",
    "        print(f\"Iteration {n_iters}: LB = {LB}. UB = {MP.ObjVal}\")\n",
    "except:\n",
    "    print(f\"Errored out on iteration: {n_iters} scenario {s}\")\n",
    "\n"
   ]
  }
 ],
 "metadata": {
  "kernelspec": {
   "display_name": "Python 3.10.5 64-bit",
   "language": "python",
   "name": "python3"
  },
  "language_info": {
   "codemirror_mode": {
    "name": "ipython",
    "version": 3
   },
   "file_extension": ".py",
   "mimetype": "text/x-python",
   "name": "python",
   "nbconvert_exporter": "python",
   "pygments_lexer": "ipython3",
   "version": "3.10.5"
  },
  "orig_nbformat": 4,
  "vscode": {
   "interpreter": {
    "hash": "5c700cf961aa5dc00603bae0d28e28b2390df23727e90a9ed674ecd58bb29299"
   }
  }
 },
 "nbformat": 4,
 "nbformat_minor": 2
}
