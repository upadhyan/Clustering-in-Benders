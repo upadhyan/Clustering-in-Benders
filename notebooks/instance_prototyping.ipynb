{
 "cells": [
  {
   "cell_type": "code",
   "execution_count": 9,
   "metadata": {},
   "outputs": [],
   "source": [
    "import sys\n",
    "sys.path.append('../')\n",
    "import os\n",
    "import pandas as pd\n",
    "import numpy as np\n",
    "import gurobipy as gp\n",
    "from gurobipy import GRB\n",
    "from tqdm.notebook import trange\n",
    "from instances.instance import *\n",
    "from GeCo_Instance_generators.knapsack import  yang_instance\n",
    "from GeCo_Instance_generators.packing import tang_instance_packing"
   ]
  },
  {
   "cell_type": "code",
   "execution_count": 10,
   "outputs": [
    {
     "name": "stdout",
     "output_type": "stream",
     "text": [
      "-1\n",
      "-1\n"
     ]
    }
   ],
   "source": [
    "generator = StochasticBinPackerGenerator()\n",
    "problem = generator.generate_normal_instance(100,100,100,200)"
   ],
   "metadata": {
    "collapsed": false
   }
  },
  {
   "cell_type": "code",
   "execution_count": 11,
   "outputs": [
    {
     "name": "stdout",
     "output_type": "stream",
     "text": [
      "Gurobi Optimizer version 10.0.0 build v10.0.0rc2 (win64)\n",
      "\n",
      "CPU model: 11th Gen Intel(R) Core(TM) i7-11800H @ 2.30GHz, instruction set [SSE2|AVX|AVX2|AVX512]\n",
      "Thread count: 8 physical cores, 16 logical processors, using up to 16 threads\n",
      "\n",
      "Optimize a model with 100 rows, 100 columns and 8009 nonzeros\n",
      "Model fingerprint: 0xf86c31e0\n",
      "Coefficient statistics:\n",
      "  Matrix range     [1e+00, 4e+00]\n",
      "  Objective range  [1e+00, 9e+00]\n",
      "  Bounds range     [0e+00, 0e+00]\n",
      "  RHS range        [9e+02, 1e+03]\n",
      "Presolve time: 0.01s\n",
      "Presolved: 100 rows, 100 columns, 8009 nonzeros\n",
      "\n",
      "Iteration    Objective       Primal Inf.    Dual Inf.      Time\n",
      "       0    2.3950000e+32   5.001250e+33   2.395000e+02      0s\n",
      "      47    3.4169744e+03   0.000000e+00   0.000000e+00      0s\n",
      "\n",
      "Solved in 47 iterations and 0.01 seconds (0.00 work units)\n",
      "Optimal objective  3.416974431e+03\n"
     ]
    }
   ],
   "source": [
    "MP = gp.Model(\"MP\")\n",
    "x = MP.addMVar((problem.s1_n_var,), name = \"x\")\n",
    "#y = EP.addMVar((problem.s2_n_var, problem.k), name = \"y\")\n",
    "MP.modelSense = problem.s1_direction\n",
    "if problem.s2_direction == problem.s1_direction:\n",
    "    MP.setObjective(\n",
    "        problem.c @ x\n",
    "    )\n",
    "else:\n",
    "    MP.setObjective(\n",
    "        problem.c @ x\n",
    "    )\n",
    "\n",
    "MP.addConstr(\n",
    "    problem.A @ x <= problem.b\n",
    ")\n",
    "MP.optimize()\n",
    "mp_x = x.x"
   ],
   "metadata": {
    "collapsed": false
   }
  },
  {
   "cell_type": "code",
   "execution_count": 12,
   "outputs": [
    {
     "name": "stdout",
     "output_type": "stream",
     "text": [
      "Gurobi Optimizer version 10.0.0 build v10.0.0rc2 (win64)\n",
      "\n",
      "CPU model: 11th Gen Intel(R) Core(TM) i7-11800H @ 2.30GHz, instruction set [SSE2|AVX|AVX2|AVX512]\n",
      "Thread count: 8 physical cores, 16 logical processors, using up to 16 threads\n",
      "\n",
      "Optimize a model with 100 rows, 100 columns and 7934 nonzeros\n",
      "Model fingerprint: 0xbf71384c\n",
      "Coefficient statistics:\n",
      "  Matrix range     [1e+00, 4e+00]\n",
      "  Objective range  [5e-01, 5e+00]\n",
      "  Bounds range     [0e+00, 0e+00]\n",
      "  RHS range        [9e+02, 1e+03]\n",
      "Presolve time: 0.01s\n",
      "Presolved: 100 rows, 100 columns, 7934 nonzeros\n",
      "\n",
      "Iteration    Objective       Primal Inf.    Dual Inf.      Time\n",
      "       0    1.1975000e+32   4.954750e+33   1.197500e+02      0s\n",
      "      65    1.6938286e+03   0.000000e+00   0.000000e+00      0s\n",
      "\n",
      "Solved in 65 iterations and 0.01 seconds (0.00 work units)\n",
      "Optimal objective  1.693828611e+03\n"
     ]
    },
    {
     "data": {
      "text/plain": "array([ 0.        ,  0.        , 17.8132711 , 10.40485929,  0.        ,\n        0.        ,  0.        ,  0.        ,  0.        ,  0.        ,\n        0.        , 10.75260629,  0.        ,  4.02975994,  8.53678109,\n        0.        ,  0.        ,  0.        ,  0.        ,  0.        ,\n        0.        , 16.16695327,  0.        ,  0.        ,  0.        ,\n        8.36115618, 13.99069323,  0.        ,  0.        , 20.80069043,\n       11.31845042,  0.        ,  0.        , 10.11038755,  0.        ,\n        0.        , 60.54145515,  0.        ,  0.        ,  8.59273713,\n        0.        ,  0.        ,  0.        ,  0.        ,  7.251693  ,\n        0.        ,  0.        ,  0.        ,  0.        ,  0.        ,\n        0.        ,  0.        ,  9.46752861, 13.19671338,  0.        ,\n        0.        ,  0.        ,  0.        ,  0.        ,  0.        ,\n        0.        ,  3.48863129,  0.        ,  0.        ,  0.        ,\n        0.        , 43.88870571,  0.        ,  0.        , 10.15372542,\n       23.99434529,  0.        ,  0.        ,  0.        ,  0.        ,\n       37.44757837,  0.        ,  4.57499734,  9.99039337,  0.        ,\n        0.        ,  0.        ,  0.        ,  1.5341508 ,  0.        ,\n        0.        ,  0.        ,  0.        , 21.83321686, 11.74403526,\n        0.        ,  0.        ,  0.        ,  1.42689626,  0.        ,\n        0.        ,  2.72343393,  0.        ,  0.        ,  8.91248547])"
     },
     "execution_count": 12,
     "metadata": {},
     "output_type": "execute_result"
    }
   ],
   "source": [
    "SP = gp.Model(\"SP\")\n",
    "A = problem.other_info['original_A2']\n",
    "b = problem.other_info['original_b2']\n",
    "c = problem.other_info['original_c2']\n",
    "\n",
    "y = SP.addMVar((A.shape[1], ), obj = c)\n",
    "SP.modelSense = problem.s2_direction\n",
    "\n",
    "SP.addConstr(\n",
    "    A @ y <= b\n",
    ")\n",
    "SP.optimize()\n",
    "y.x"
   ],
   "metadata": {
    "collapsed": false
   }
  },
  {
   "cell_type": "code",
   "execution_count": 13,
   "outputs": [
    {
     "name": "stdout",
     "output_type": "stream",
     "text": [
      "Gurobi Optimizer version 10.0.0 build v10.0.0rc2 (win64)\n",
      "\n",
      "CPU model: 11th Gen Intel(R) Core(TM) i7-11800H @ 2.30GHz, instruction set [SSE2|AVX|AVX2|AVX512]\n",
      "Thread count: 8 physical cores, 16 logical processors, using up to 16 threads\n",
      "\n",
      "Optimize a model with 20100 rows, 20100 columns and 3594809 nonzeros\n",
      "Model fingerprint: 0xcf60b78d\n",
      "Coefficient statistics:\n",
      "  Matrix range     [1e+00, 3e+01]\n",
      "  Objective range  [3e-03, 9e+00]\n",
      "  Bounds range     [0e+00, 0e+00]\n",
      "  RHS range        [9e+02, 1e+03]\n",
      "Presolve time: 1.34s\n",
      "Presolved: 20100 rows, 20100 columns, 3594809 nonzeros\n",
      "\n",
      "Concurrent LP optimizer: primal simplex, dual simplex, and barrier\n",
      "Showing barrier log only...\n",
      "\n",
      "Ordering time: 0.12s\n",
      "\n",
      "Barrier statistics:\n",
      " Dense cols : 100\n",
      " AA' NZ     : 2.998e+06\n",
      " Factor NZ  : 3.023e+06 (roughly 40 MB of memory)\n",
      " Factor Ops : 4.707e+08 (less than 1 second per iteration)\n",
      " Threads    : 6\n",
      "\n",
      "                  Objective                Residual\n",
      "Iter       Primal          Dual         Primal    Dual     Compl     Time\n",
      "   0   1.41634494e+05  5.90797455e+03  1.26e+04 1.57e-02  9.03e+01     2s\n",
      "   1   1.03129937e+05  6.33177056e+04  8.91e+03 5.46e-02  3.92e+01     2s\n",
      "   2   4.82242076e+04  1.15120982e+05  3.71e+03 9.28e-03  1.40e+01     2s\n",
      "   3   2.07353415e+04  9.79303487e+04  9.95e+02 7.99e-13  3.99e+00     3s\n",
      "   4   1.32606750e+04  3.80983793e+04  1.62e+02 9.18e-13  7.55e-01     3s\n",
      "   5   1.42679804e+04  2.38991351e+04  6.66e+01 2.22e-13  2.76e-01     3s\n",
      "   6   1.55422975e+04  2.08904114e+04  4.25e+01 1.24e-13  1.53e-01     3s\n",
      "   7   1.65483163e+04  1.98187851e+04  2.71e+01 8.61e-14  9.36e-02     3s\n",
      "   8   1.72778868e+04  1.93172124e+04  1.74e+01 5.75e-14  5.84e-02     3s\n",
      "   9   1.78541923e+04  1.90537869e+04  1.02e+01 6.02e-14  3.43e-02     3s\n",
      "  10   1.82305991e+04  1.89047331e+04  5.71e+00 4.19e-14  1.92e-02     3s\n",
      "  11   1.84512099e+04  1.88107011e+04  3.11e+00 4.15e-14  1.03e-02     3s\n",
      "  12   1.86426438e+04  1.87617926e+04  9.92e-01 3.72e-14  3.39e-03     4s\n",
      "  13   1.86901858e+04  1.87483612e+04  4.95e-01 6.83e-14  1.66e-03     4s\n",
      "  14   1.87207147e+04  1.87453311e+04  2.01e-01 3.08e-14  6.99e-04     4s\n",
      "  15   1.87350969e+04  1.87433005e+04  6.40e-02 7.53e-14  2.32e-04     4s\n",
      "  16   1.87392411e+04  1.87426285e+04  2.49e-02 1.09e-13  9.51e-05     4s\n",
      "  17   1.87415011e+04  1.87423032e+04  5.37e-03 5.32e-13  2.23e-05     4s\n",
      "  18   1.87419908e+04  1.87422163e+04  1.47e-03 7.83e-13  6.25e-06     4s\n",
      "  19   1.87421557e+04  1.87422017e+04  2.53e-04 2.11e-12  1.25e-06     4s\n",
      "  20   1.87421879e+04  1.87421933e+04  1.69e-05 3.96e-12  1.41e-07     5s\n",
      "  21   1.87421910e+04  1.87421913e+04  2.66e-07 1.29e-11  7.79e-09     5s\n",
      "  22   1.87421910e+04  1.87421910e+04  0.00e+00 3.50e-09  9.52e-11     5s\n",
      "\n",
      "Barrier solved model in 22 iterations and 4.81 seconds (4.58 work units)\n",
      "Optimal objective 1.87421910e+04\n",
      "\n",
      "Crossover log...\n",
      "\n",
      "      53 DPushes remaining with DInf 0.0000000e+00                 5s\n",
      "       0 DPushes remaining with DInf 0.0000000e+00                 5s\n",
      "\n",
      "     114 PPushes remaining with PInf 0.0000000e+00                 5s\n",
      "       0 PPushes remaining with PInf 0.0000000e+00                 6s\n",
      "\n",
      "  Push phase complete: Pinf 0.0000000e+00, Dinf 5.3588500e-13      6s\n",
      "\n",
      "\n",
      "Solved with barrier\n",
      "Iteration    Objective       Primal Inf.    Dual Inf.      Time\n",
      "     170    1.8742191e+04   0.000000e+00   0.000000e+00      6s\n",
      "\n",
      "Solved in 170 iterations and 6.33 seconds (5.20 work units)\n",
      "Optimal objective  1.874219104e+04\n"
     ]
    }
   ],
   "source": [
    "EP = gp.Model(\"EP\")\n",
    "x = EP.addMVar((problem.s1_n_var,), name = \"x\")\n",
    "y = EP.addMVar((problem.s2_n_var, problem.k), name = \"y\")\n",
    "EP.modelSense = problem.s1_direction\n",
    "if problem.s2_direction == problem.s1_direction:\n",
    "    EP.setObjective(\n",
    "        problem.c @ x + gp.quicksum(1 / problem.k * problem.q_list[s] @ y[:,s] for s in range(problem.k))\n",
    "    )\n",
    "else:\n",
    "    EP.setObjective(\n",
    "        problem.c @ x - gp.quicksum(1 / problem.k * problem.q_list[s] @ y[:,s] for s in range(problem.k))\n",
    "    )\n",
    "\n",
    "EP.addConstr(\n",
    "    problem.A @ x <= problem.b\n",
    ")\n",
    "\n",
    "EP.addConstrs((\n",
    "    problem.W_list[s] @ y[:,s] + problem.T_list[s] @ x <= problem.h_list[s] for s in range(problem.k)\n",
    "))\n",
    "\n",
    "EP.optimize()\n",
    "ep_x = x.x"
   ],
   "metadata": {
    "collapsed": false
   }
  },
  {
   "cell_type": "code",
   "execution_count": 14,
   "outputs": [
    {
     "data": {
      "text/plain": "array([ True,  True, False, False,  True, False,  True,  True, False,\n       False,  True,  True,  True, False, False, False,  True,  True,\n        True,  True, False, False,  True,  True, False, False,  True,\n       False,  True, False, False,  True, False, False,  True, False,\n       False, False,  True, False, False,  True,  True,  True,  True,\n       False,  True, False, False,  True,  True, False, False, False,\n       False,  True,  True,  True, False,  True, False, False, False,\n       False, False,  True, False, False, False, False, False, False,\n        True, False,  True, False,  True,  True, False,  True, False,\n        True, False,  True, False,  True,  True,  True, False, False,\n        True, False, False, False, False, False, False, False, False,\n       False])"
     },
     "execution_count": 14,
     "metadata": {},
     "output_type": "execute_result"
    }
   ],
   "source": [
    "ep_x == mp_x"
   ],
   "metadata": {
    "collapsed": false
   }
  },
  {
   "cell_type": "code",
   "execution_count": 15,
   "outputs": [
    {
     "data": {
      "text/plain": "array([ 0.        ,  0.        , 16.58388605, 12.08525027,  0.        ,\n        0.85770904,  0.        ,  0.        , 10.12063262, 15.19654763,\n        0.        ,  0.        ,  0.        , 21.22128449, 13.0427869 ,\n        7.67704809,  0.        ,  0.        ,  0.        ,  0.        ,\n        6.97037443,  5.47832869,  0.        ,  0.        ,  0.16418964,\n       14.58400958,  0.        ,  0.        ,  0.        ,  7.8279119 ,\n        0.20637298,  0.        ,  7.60548843, 26.77200063,  0.        ,\n       15.93022704, 16.26244457,  2.55072385,  0.        ,  0.        ,\n        0.        ,  0.        ,  0.        ,  0.        ,  0.        ,\n       10.88523206,  0.        ,  6.20967861,  2.16607057,  0.        ,\n        0.        , 17.12459418,  9.81732868, 10.84902553,  4.56825175,\n        0.        ,  0.        ,  0.        , 13.81492809,  0.        ,\n        6.4703608 , 13.14856927, 18.68165534,  4.47169314,  3.8520323 ,\n        0.        ,  0.        ,  2.80232384,  6.13070043,  2.9459207 ,\n        9.13010563,  4.48068095,  0.        ,  0.52714603,  0.        ,\n        5.2495164 ,  0.        ,  0.        ,  5.34617789,  0.        ,\n        2.80156945,  0.        , 13.55947549,  0.        , 23.65992556,\n        0.        ,  0.        ,  0.        ,  3.37514098,  0.        ,\n        0.        , 12.30300857,  9.22678605,  1.0875106 ,  1.75487165,\n        1.86951254,  2.98533068, 10.5004772 ,  5.14062781, 11.77650105])"
     },
     "execution_count": 15,
     "metadata": {},
     "output_type": "execute_result"
    }
   ],
   "source": [
    "ep_x"
   ],
   "metadata": {
    "collapsed": false
   }
  },
  {
   "cell_type": "markdown",
   "metadata": {},
   "source": [
    "problems are defined by: \n",
    "c, A, B (first stage jazz)\n",
    "\n",
    "q_s, W_s, h_s, T_s, and clustering variables"
   ]
  },
  {
   "cell_type": "code",
   "execution_count": 16,
   "metadata": {},
   "outputs": [
    {
     "name": "stdout",
     "output_type": "stream",
     "text": [
      "On Iteration: 1\n",
      "Iteration 1: LB = 14048.286079704556. UB = 123166.97443122778\n",
      "On Iteration: 2\n",
      "Iteration 2: LB = 15988.116562499023. UB = 19344.19631656641\n",
      "On Iteration: 3\n",
      "Iteration 3: LB = 15781.143047629988. UB = 18906.171159770398\n",
      "On Iteration: 4\n",
      "Iteration 4: LB = 15880.707396929376. UB = 18788.98595642744\n",
      "On Iteration: 5\n",
      "Iteration 5: LB = 15898.265301556. UB = 18759.49153003408\n",
      "On Iteration: 6\n",
      "Iteration 6: LB = 15870.210961372562. UB = 18748.278543747863\n",
      "On Iteration: 7\n",
      "Iteration 7: LB = 15905.855590777008. UB = 18743.980758174235\n",
      "On Iteration: 8\n",
      "Iteration 8: LB = 15891.832038311597. UB = 18742.70998203423\n",
      "On Iteration: 9\n",
      "Iteration 9: LB = 15894.004152360289. UB = 18742.28693148061\n",
      "On Iteration: 10\n",
      "Iteration 10: LB = 15891.435129247533. UB = 18742.20474885221\n",
      "On Iteration: 11\n",
      "Iteration 11: LB = 15892.398404575999. UB = 18742.1916217569\n",
      "On Iteration: 12\n",
      "Iteration 12: LB = 15892.256469848804. UB = 18742.191094389374\n",
      "On Iteration: 13\n",
      "Iteration 13: LB = 15892.11064909395. UB = 18742.191043840554\n"
     ]
    }
   ],
   "source": [
    "MP = gp.Model(\"MP\")\n",
    "MP.Params.outputFlag = 0\n",
    "x = MP.addMVar((problem.s1_n_var,), name = \"x\")\n",
    "eta = MP.addMVar((problem.k,), name = \"eta\", ub = problem.eta_bounds[1], lb = problem.eta_bounds[0])\n",
    "\n",
    "if problem.s1_direction == GRB.MAXIMIZE:\n",
    "    MP.modelSense = GRB.MAXIMIZE\n",
    "else:\n",
    "    MP.modelSense = GRB.MINIMIZE\n",
    "\n",
    "MP.setObjective(\n",
    "    problem.c @ x + np.array([1/problem.k] * problem.k) @ eta \n",
    ")\n",
    "\n",
    "c1 = MP.addConstr(\n",
    "    problem.A @ x <= problem.b\n",
    ")\n",
    "\n",
    "\n",
    "cut_found = True\n",
    "n_iters = 0\n",
    "try: \n",
    "    while cut_found:\n",
    "        cut_found = False\n",
    "        q_vals = []\n",
    "        if n_iters < 200:\n",
    "            n_iters = n_iters + 1\n",
    "            print(f\"On Iteration: {n_iters}\")\n",
    "        else:\n",
    "            break\n",
    "        MP.update()\n",
    "        MP.optimize()\n",
    "        LB = 0\n",
    "        x_i = x.x\n",
    "        eta_i = eta.x\n",
    "        for s in range(problem.k):\n",
    "            SP = gp.Model(\"SP\")\n",
    "            SP.Params.outputFlag = 0  # turn off output\n",
    "            SP.Params.method = 1      # dual simplex\n",
    "            y = SP.addMVar((problem.s2_n_var,), name = \"y\", obj = problem.q_list[s])\n",
    "            if problem.s2_direction == GRB.MAXIMIZE:\n",
    "                SP.modelSense = GRB.MAXIMIZE\n",
    "            else:\n",
    "                SP.modelSense = GRB.MINIMIZE\n",
    "            res = SP.addConstr(\n",
    "                problem.W_list[s] @ y <= problem.h_list[s] - (problem.T_list[s] @ x_i)\n",
    "            )\n",
    "            SP.optimize()\n",
    "            Q = SP.ObjVal\n",
    "            q_vals.append(Q)\n",
    "            pi = res.Pi\n",
    "            LB = LB + Q / problem.k\n",
    "            if np.abs(Q - eta_i[s]) > 0.00001:\n",
    "                if Q < eta_i[s]:\n",
    "                    cut_found = True\n",
    "                    p1 = pi @ problem.h_list[s]\n",
    "                    p2 = pi @ problem.T_list[s]\n",
    "                    if problem.s2_direction == GRB.MAXIMIZE:\n",
    "                        MP.addConstr(\n",
    "                            eta[s] <= p1 - gp.quicksum(p2[a] * x[a] for a in range(problem.s1_n_var))\n",
    "                        )\n",
    "                    else:\n",
    "                        MP.addConstr(\n",
    "                            eta[s] >= p1 - gp.quicksum(p2[a] * x[a] for a in range(problem.s1_n_var))\n",
    "                        )        \n",
    "        print(f\"Iteration {n_iters}: LB = {LB}. UB = {MP.ObjVal}\")\n",
    "except:\n",
    "    print(f\"Errored out on iteration: {n_iters} scenario {s}\")\n",
    "\n"
   ]
  }
 ],
 "metadata": {
  "kernelspec": {
   "display_name": "Python 3.10.5 64-bit",
   "language": "python",
   "name": "python3"
  },
  "language_info": {
   "codemirror_mode": {
    "name": "ipython",
    "version": 3
   },
   "file_extension": ".py",
   "mimetype": "text/x-python",
   "name": "python",
   "nbconvert_exporter": "python",
   "pygments_lexer": "ipython3",
   "version": "3.10.5"
  },
  "orig_nbformat": 4,
  "vscode": {
   "interpreter": {
    "hash": "5c700cf961aa5dc00603bae0d28e28b2390df23727e90a9ed674ecd58bb29299"
   }
  }
 },
 "nbformat": 4,
 "nbformat_minor": 2
}
