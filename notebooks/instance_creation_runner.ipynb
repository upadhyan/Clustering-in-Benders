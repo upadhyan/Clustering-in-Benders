{
 "cells": [
  {
   "cell_type": "code",
   "execution_count": 2,
   "metadata": {
    "collapsed": true
   },
   "outputs": [],
   "source": [
    "import os\n",
    "import sys\n",
    "sys.path.append('../')\n",
    "from utiliT.io import dump_pickle, read_pickle\n",
    "from scripts.instance import *\n",
    "from scripts.benders import *"
   ]
  },
  {
   "cell_type": "code",
   "execution_count": 2,
   "outputs": [
    {
     "name": "stdout",
     "output_type": "stream",
     "text": [
      "Generating 108 instances\n"
     ]
    },
    {
     "data": {
      "text/plain": "  0%|          | 0/108 [00:00<?, ?it/s]",
      "application/vnd.jupyter.widget-view+json": {
       "version_major": 2,
       "version_minor": 0,
       "model_id": "8ff79530456d40e49fa4c6cb96285083"
      }
     },
     "metadata": {},
     "output_type": "display_data"
    },
    {
     "name": "stdout",
     "output_type": "stream",
     "text": [
      "Set parameter Username\n",
      "Academic license - for non-commercial use only - expires 2023-11-20\n"
     ]
    }
   ],
   "source": [
    "distributions = [\"uniform\", \"normal\", \"multipeak\"]\n",
    "n1_range = [100,150,200]\n",
    "n2_range = [100,150,200]\n",
    "k_range = [100, 200,300,400]\n",
    "generator = StochasticBinPackerGenerator()\n",
    "problems, configs = generator.batch_generator(distributions, n1_range, n2_range, k_range)\n",
    "\n",
    "for prob, config in zip(problems, configs):\n",
    "    file_name = f\"../data/{config['dist']}_{config['n1']}_{config['n2']}_{config['k']}.pkl\"\n",
    "    dump_pickle(prob, file_name) ## RUN EVERYTHING FOR 5 MINUTES MAX"
   ],
   "metadata": {
    "collapsed": false
   }
  },
  {
   "cell_type": "code",
   "execution_count": null,
   "outputs": [
    {
     "name": "stdout",
     "output_type": "stream",
     "text": [
      "Set parameter Username\n",
      "Academic license - for non-commercial use only - expires 2023-11-20\n",
      "multipeak_100_100_100.pkl\n",
      "multipeak_100_100_200.pkl\n",
      "multipeak_100_100_300.pkl\n",
      "multipeak_100_100_400.pkl\n",
      "multipeak_100_150_100.pkl\n",
      "multipeak_100_150_200.pkl\n",
      "multipeak_100_150_300.pkl\n",
      "multipeak_100_150_400.pkl\n",
      "multipeak_100_200_100.pkl\n",
      "multipeak_100_200_200.pkl\n",
      "multipeak_100_200_300.pkl\n",
      "multipeak_100_200_400.pkl\n",
      "multipeak_150_100_100.pkl\n",
      "multipeak_150_100_200.pkl\n",
      "multipeak_150_100_300.pkl\n",
      "multipeak_150_100_400.pkl\n",
      "multipeak_150_150_100.pkl\n",
      "multipeak_150_150_200.pkl\n",
      "multipeak_150_150_300.pkl\n",
      "multipeak_150_150_400.pkl\n",
      "multipeak_150_200_100.pkl\n",
      "multipeak_150_200_200.pkl\n",
      "multipeak_150_200_300.pkl\n",
      "multipeak_150_200_400.pkl\n",
      "multipeak_200_100_100.pkl\n",
      "multipeak_200_100_200.pkl\n",
      "multipeak_200_100_300.pkl\n",
      "multipeak_200_100_400.pkl\n",
      "multipeak_200_150_100.pkl\n",
      "multipeak_200_150_200.pkl\n",
      "multipeak_200_150_300.pkl\n",
      "multipeak_200_150_400.pkl\n",
      "multipeak_200_200_100.pkl\n",
      "multipeak_200_200_200.pkl\n",
      "multipeak_200_200_300.pkl\n",
      "multipeak_200_200_400.pkl\n",
      "normal_100_100_100.pkl\n",
      "normal_100_100_200.pkl\n",
      "normal_100_100_300.pkl\n",
      "normal_100_100_400.pkl\n",
      "normal_100_150_100.pkl\n",
      "normal_100_150_200.pkl\n",
      "normal_100_150_300.pkl\n",
      "normal_100_150_400.pkl\n",
      "normal_100_200_100.pkl\n",
      "normal_100_200_200.pkl\n",
      "normal_100_200_300.pkl\n",
      "normal_100_200_400.pkl\n",
      "normal_150_100_100.pkl\n",
      "normal_150_100_200.pkl\n",
      "normal_150_100_300.pkl\n",
      "normal_150_100_400.pkl\n",
      "normal_150_150_100.pkl\n",
      "normal_150_150_200.pkl\n",
      "normal_150_150_300.pkl\n",
      "normal_150_150_400.pkl\n",
      "normal_150_200_100.pkl\n",
      "normal_150_200_200.pkl\n",
      "normal_150_200_300.pkl\n",
      "normal_150_200_400.pkl\n",
      "normal_200_100_100.pkl\n",
      "normal_200_100_200.pkl\n",
      "normal_200_100_300.pkl\n",
      "normal_200_100_400.pkl\n",
      "normal_200_150_100.pkl\n",
      "normal_200_150_200.pkl\n",
      "normal_200_150_300.pkl\n",
      "normal_200_150_400.pkl\n",
      "normal_200_200_100.pkl\n",
      "normal_200_200_200.pkl\n",
      "normal_200_200_300.pkl\n",
      "normal_200_200_400.pkl\n",
      "uniform_100_100_100.pkl\n",
      "uniform_100_100_200.pkl\n",
      "uniform_100_100_300.pkl\n",
      "uniform_100_100_400.pkl\n",
      "uniform_100_150_100.pkl\n",
      "uniform_100_150_200.pkl\n",
      "uniform_100_150_300.pkl\n",
      "uniform_100_150_400.pkl\n",
      "uniform_100_200_100.pkl\n",
      "uniform_100_200_200.pkl\n",
      "uniform_100_200_300.pkl\n",
      "uniform_100_200_400.pkl\n",
      "uniform_150_100_100.pkl\n",
      "uniform_150_100_200.pkl\n",
      "uniform_150_100_300.pkl\n",
      "uniform_150_100_400.pkl\n",
      "uniform_150_150_100.pkl\n",
      "uniform_150_150_200.pkl\n",
      "uniform_150_150_300.pkl\n",
      "uniform_150_150_400.pkl\n",
      "uniform_150_200_100.pkl\n",
      "uniform_150_200_200.pkl\n",
      "uniform_150_200_300.pkl\n",
      "uniform_150_200_400.pkl\n",
      "uniform_200_100_100.pkl\n",
      "uniform_200_100_200.pkl\n",
      "uniform_200_100_300.pkl\n",
      "uniform_200_100_400.pkl\n",
      "uniform_200_150_100.pkl\n",
      "uniform_200_150_200.pkl\n",
      "uniform_200_150_300.pkl\n",
      "uniform_200_150_400.pkl\n",
      "uniform_200_200_100.pkl\n"
     ]
    }
   ],
   "source": [
    "files = os.listdir(\"../data\")\n",
    "for file in files:\n",
    "    try:\n",
    "        file_name = file[:-4]\n",
    "        instance = read_pickle(f\"../data/{file}\")\n",
    "        result = multi_cut_bender(instance)\n",
    "        result['file_name'] = file_name\n",
    "        dump_yaml(result, f\"../results/{file_name}.yml\")\n",
    "    except:\n",
    "        print(file)"
   ],
   "metadata": {
    "collapsed": false,
    "pycharm": {
     "is_executing": true
    }
   }
  }
 ],
 "metadata": {
  "kernelspec": {
   "display_name": "Python 3",
   "language": "python",
   "name": "python3"
  },
  "language_info": {
   "codemirror_mode": {
    "name": "ipython",
    "version": 2
   },
   "file_extension": ".py",
   "mimetype": "text/x-python",
   "name": "python",
   "nbconvert_exporter": "python",
   "pygments_lexer": "ipython2",
   "version": "2.7.6"
  }
 },
 "nbformat": 4,
 "nbformat_minor": 0
}
