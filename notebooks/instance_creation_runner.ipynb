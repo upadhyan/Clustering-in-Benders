{
 "cells": [
  {
   "cell_type": "code",
   "execution_count": 1,
   "metadata": {
    "collapsed": true
   },
   "outputs": [],
   "source": [
    "import os\n",
    "import sys\n",
    "import gc\n",
    "from tqdm.notebook import tqdm\n",
    "sys.path.append('../')\n",
    "from utiliT.io import dump_pickle, read_pickle\n",
    "from scripts.instance import *\n",
    "from scripts.benders import *\n",
    "import yaml"
   ]
  },
  {
   "cell_type": "code",
   "execution_count": 5,
   "outputs": [
    {
     "name": "stdout",
     "output_type": "stream",
     "text": [
      "Generating 108 instances\n"
     ]
    }
   ],
   "source": [
    "generator = StochasticBinPackerGenerator()\n",
    "instance_list = generator.batch_generator()\n",
    "for instance in instance_list:\n",
    "    n1 = instance.s1_n_var\n",
    "    n2 = instance.s2_n_var\n",
    "    k = instance.k\n",
    "    dist = instance.distribution\n",
    "    file_name = f\"../data/{dist}_{n1}_{n2}_{k}.pkl\"\n",
    "    dump_pickle(instance, file_name)"
   ],
   "metadata": {
    "collapsed": false
   }
  },
  {
   "cell_type": "code",
   "execution_count": 8,
   "outputs": [
    {
     "data": {
      "text/plain": "{'method': 'multi-cut',\n 'n_cuts': 781,\n 'n_iterations': 14,\n 'avg_mp_solve': 0.010573301996503557,\n 'avg_benders_loop_solve': 2.7602261815752303,\n 'status': 'optimal',\n 'primal_gap': 7.275957614183426e-12,\n 'primal_gap_perc': -2.472038248636163e-16,\n 'runtime': 38.81519269943237,\n 'n1': 100,\n 'n2': 150,\n 'm1': 200,\n 'm2': 300,\n 'k': 100,\n 'distribution': 'multipeak'}"
     },
     "execution_count": 8,
     "metadata": {},
     "output_type": "execute_result"
    }
   ],
   "source": [
    "instance = read_pickle(f\"../data/multipeak_100_150_100.pkl\")\n",
    "multi_cut_bender(instance)"
   ],
   "metadata": {
    "collapsed": false
   }
  },
  {
   "cell_type": "code",
   "execution_count": 2,
   "outputs": [
    {
     "data": {
      "text/plain": "  0%|          | 0/108 [00:00<?, ?it/s]",
      "application/vnd.jupyter.widget-view+json": {
       "version_major": 2,
       "version_minor": 0,
       "model_id": "c7aee38a34044c7ea81825eb05cb392e"
      }
     },
     "metadata": {},
     "output_type": "display_data"
    },
    {
     "name": "stdout",
     "output_type": "stream",
     "text": [
      "Set parameter Username\n",
      "Academic license - for non-commercial use only - expires 2023-11-20\n",
      "--------------\n",
      "multipeak_100_150_100.pkl\n"
     ]
    },
    {
     "ename": "AttributeError",
     "evalue": "'ValueError' object has no attribute 'message'",
     "output_type": "error",
     "traceback": [
      "\u001B[1;31m---------------------------------------------------------------------------\u001B[0m",
      "\u001B[1;31mValueError\u001B[0m                                Traceback (most recent call last)",
      "\u001B[1;32m~\\AppData\\Local\\Temp\\ipykernel_7984\\2914534309.py\u001B[0m in \u001B[0;36m<module>\u001B[1;34m\u001B[0m\n\u001B[0;32m      5\u001B[0m         \u001B[0minstance\u001B[0m \u001B[1;33m=\u001B[0m \u001B[0mread_pickle\u001B[0m\u001B[1;33m(\u001B[0m\u001B[1;34mf\"../data/{file}\"\u001B[0m\u001B[1;33m)\u001B[0m\u001B[1;33m\u001B[0m\u001B[1;33m\u001B[0m\u001B[0m\n\u001B[1;32m----> 6\u001B[1;33m         \u001B[0mresult\u001B[0m \u001B[1;33m=\u001B[0m \u001B[0mmulti_cut_bender\u001B[0m\u001B[1;33m(\u001B[0m\u001B[0minstance\u001B[0m\u001B[1;33m)\u001B[0m\u001B[1;33m\u001B[0m\u001B[1;33m\u001B[0m\u001B[0m\n\u001B[0m\u001B[0;32m      7\u001B[0m         \u001B[0mresult\u001B[0m\u001B[1;33m[\u001B[0m\u001B[1;34m'file_name'\u001B[0m\u001B[1;33m]\u001B[0m \u001B[1;33m=\u001B[0m \u001B[0mfile_name\u001B[0m\u001B[1;33m\u001B[0m\u001B[1;33m\u001B[0m\u001B[0m\n",
      "\u001B[1;32m~\\Documents\\Github\\Clustering-in-Benders\\scripts\\benders.py\u001B[0m in \u001B[0;36mmulti_cut_bender\u001B[1;34m(problem)\u001B[0m\n\u001B[0;32m     57\u001B[0m             res = SP.addConstr(\n\u001B[1;32m---> 58\u001B[1;33m                 \u001B[0mproblem\u001B[0m\u001B[1;33m.\u001B[0m\u001B[0mW_list\u001B[0m\u001B[1;33m[\u001B[0m\u001B[0ms\u001B[0m\u001B[1;33m]\u001B[0m \u001B[1;33m@\u001B[0m \u001B[0my\u001B[0m \u001B[1;33m<=\u001B[0m \u001B[0mproblem\u001B[0m\u001B[1;33m.\u001B[0m\u001B[0mh_list\u001B[0m\u001B[1;33m[\u001B[0m\u001B[0ms\u001B[0m\u001B[1;33m]\u001B[0m \u001B[1;33m-\u001B[0m \u001B[1;33m(\u001B[0m\u001B[0mproblem\u001B[0m\u001B[1;33m.\u001B[0m\u001B[0mT_list\u001B[0m\u001B[1;33m[\u001B[0m\u001B[0ms\u001B[0m\u001B[1;33m]\u001B[0m \u001B[1;33m@\u001B[0m \u001B[0mx_i\u001B[0m\u001B[1;33m)\u001B[0m\u001B[1;33m\u001B[0m\u001B[1;33m\u001B[0m\u001B[0m\n\u001B[0m\u001B[0;32m     59\u001B[0m             )\n",
      "\u001B[1;32msrc\\gurobipy\\mvar.pxi\u001B[0m in \u001B[0;36mgurobipy.MVar.__rmatmul__\u001B[1;34m()\u001B[0m\n",
      "\u001B[1;32msrc\\gurobipy\\mlinexpr.pxi\u001B[0m in \u001B[0;36mgurobipy.MLinExpr._from_matmul_right\u001B[1;34m()\u001B[0m\n",
      "\u001B[1;32msrc\\gurobipy\\util.pxi\u001B[0m in \u001B[0;36mgurobipy._matmul_shape\u001B[1;34m()\u001B[0m\n",
      "\u001B[1;31mValueError\u001B[0m: Mismatching inner dimensions 150 vs. 100",
      "\nDuring handling of the above exception, another exception occurred:\n",
      "\u001B[1;31mAttributeError\u001B[0m                            Traceback (most recent call last)",
      "\u001B[1;32m~\\AppData\\Local\\Temp\\ipykernel_7984\\2914534309.py\u001B[0m in \u001B[0;36m<module>\u001B[1;34m\u001B[0m\n\u001B[0;32m     12\u001B[0m         \u001B[0mprint\u001B[0m\u001B[1;33m(\u001B[0m\u001B[1;34m\"--------------\"\u001B[0m\u001B[1;33m)\u001B[0m\u001B[1;33m\u001B[0m\u001B[1;33m\u001B[0m\u001B[0m\n\u001B[0;32m     13\u001B[0m         \u001B[0mprint\u001B[0m\u001B[1;33m(\u001B[0m\u001B[0mfile\u001B[0m\u001B[1;33m)\u001B[0m\u001B[1;33m\u001B[0m\u001B[1;33m\u001B[0m\u001B[0m\n\u001B[1;32m---> 14\u001B[1;33m         \u001B[0mprint\u001B[0m\u001B[1;33m(\u001B[0m\u001B[0me\u001B[0m\u001B[1;33m.\u001B[0m\u001B[0mmessage\u001B[0m\u001B[1;33m)\u001B[0m\u001B[1;33m\u001B[0m\u001B[1;33m\u001B[0m\u001B[0m\n\u001B[0m",
      "\u001B[1;31mAttributeError\u001B[0m: 'ValueError' object has no attribute 'message'"
     ]
    }
   ],
   "source": [],
   "metadata": {
    "collapsed": false
   }
  }
 ],
 "metadata": {
  "kernelspec": {
   "display_name": "Python 3",
   "language": "python",
   "name": "python3"
  },
  "language_info": {
   "codemirror_mode": {
    "name": "ipython",
    "version": 2
   },
   "file_extension": ".py",
   "mimetype": "text/x-python",
   "name": "python",
   "nbconvert_exporter": "python",
   "pygments_lexer": "ipython2",
   "version": "2.7.6"
  }
 },
 "nbformat": 4,
 "nbformat_minor": 0
}
