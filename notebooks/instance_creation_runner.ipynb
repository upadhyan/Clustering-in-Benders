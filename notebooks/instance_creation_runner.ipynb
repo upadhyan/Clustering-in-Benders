{
 "cells": [
  {
   "cell_type": "code",
   "execution_count": 1,
   "metadata": {
    "collapsed": true
   },
   "outputs": [],
   "source": [
    "import os\n",
    "import sys\n",
    "import gc\n",
    "from tqdm.notebook import tqdm\n",
    "sys.path.append('../')\n",
    "from utiliT.io import dump_pickle, read_pickle\n",
    "from scripts.instance import *\n",
    "from scripts.benders import *\n",
    "import yaml"
   ]
  },
  {
   "cell_type": "code",
   "execution_count": 2,
   "outputs": [
    {
     "name": "stdout",
     "output_type": "stream",
     "text": [
      "Generating 192 instances\n",
      "Set parameter Username\n",
      "Academic license - for non-commercial use only - expires 2023-11-20\n"
     ]
    }
   ],
   "source": [
    "generator = StochasticBinPackerGenerator()\n",
    "instance_list = generator.batch_generator()\n",
    "for instance in instance_list:\n",
    "    n1 = instance.s1_n_var\n",
    "    n2 = instance.s2_n_var\n",
    "    k = instance.k\n",
    "    dist = instance.distribution\n",
    "    file_name = f\"../data/{dist}_{n1}_{n2}_{k}.pkl\"\n",
    "    dump_pickle(instance, file_name)"
   ],
   "metadata": {
    "collapsed": false
   }
  }
 ],
 "metadata": {
  "kernelspec": {
   "display_name": "Python 3",
   "language": "python",
   "name": "python3"
  },
  "language_info": {
   "codemirror_mode": {
    "name": "ipython",
    "version": 2
   },
   "file_extension": ".py",
   "mimetype": "text/x-python",
   "name": "python",
   "nbconvert_exporter": "python",
   "pygments_lexer": "ipython2",
   "version": "2.7.6"
  }
 },
 "nbformat": 4,
 "nbformat_minor": 0
}
